{
 "cells": [
  {
   "cell_type": "code",
   "execution_count": 54,
   "metadata": {},
   "outputs": [
    {
     "data": {
      "text/html": [
       "<div>\n",
       "<style scoped>\n",
       "    .dataframe tbody tr th:only-of-type {\n",
       "        vertical-align: middle;\n",
       "    }\n",
       "\n",
       "    .dataframe tbody tr th {\n",
       "        vertical-align: top;\n",
       "    }\n",
       "\n",
       "    .dataframe thead th {\n",
       "        text-align: right;\n",
       "    }\n",
       "</style>\n",
       "<table border=\"1\" class=\"dataframe\">\n",
       "  <thead>\n",
       "    <tr style=\"text-align: right;\">\n",
       "      <th></th>\n",
       "      <th>OBS_ID</th>\n",
       "      <th>KANAL</th>\n",
       "      <th>SHOW_ID</th>\n",
       "      <th>SHOW_DATUM</th>\n",
       "      <th>FAKTOR</th>\n",
       "      <th>WORDING_ID</th>\n",
       "      <th>BRAND_FLG</th>\n",
       "      <th>BRAND_ID</th>\n",
       "      <th>WDHL_FLG</th>\n",
       "      <th>BESTELL_ID</th>\n",
       "      <th>...</th>\n",
       "      <th>WGH3_DESC</th>\n",
       "      <th>WGH4_DESC</th>\n",
       "      <th>DIVISION_DESC_SORT</th>\n",
       "      <th>PREISKLASSE_DESC</th>\n",
       "      <th>PREIS_LABEL_DESC</th>\n",
       "      <th>FARBE</th>\n",
       "      <th>GROESSE</th>\n",
       "      <th>MENGE_FREI_SHOWBEGINN</th>\n",
       "      <th>BEWERTUNG</th>\n",
       "      <th>SOLD_OUT_FLG</th>\n",
       "    </tr>\n",
       "  </thead>\n",
       "  <tbody>\n",
       "    <tr>\n",
       "      <th>0</th>\n",
       "      <td>235691</td>\n",
       "      <td>DIG</td>\n",
       "      <td>370117</td>\n",
       "      <td>30.07.2017 19:00:00</td>\n",
       "      <td>1</td>\n",
       "      <td>25802</td>\n",
       "      <td>1</td>\n",
       "      <td>12.0</td>\n",
       "      <td>1</td>\n",
       "      <td>399879</td>\n",
       "      <td>...</td>\n",
       "      <td>WGH-Stufe Marken National</td>\n",
       "      <td>WGH-Stufe Mode</td>\n",
       "      <td>Mode</td>\n",
       "      <td>04 - 40 bis 49,99</td>\n",
       "      <td>NaN</td>\n",
       "      <td>SCHWARZ</td>\n",
       "      <td>NaN</td>\n",
       "      <td>7</td>\n",
       "      <td>NaN</td>\n",
       "      <td>1</td>\n",
       "    </tr>\n",
       "    <tr>\n",
       "      <th>1</th>\n",
       "      <td>235692</td>\n",
       "      <td>DIG</td>\n",
       "      <td>372896</td>\n",
       "      <td>04.08.2017 09:00:00</td>\n",
       "      <td>1</td>\n",
       "      <td>34013</td>\n",
       "      <td>0</td>\n",
       "      <td>NaN</td>\n",
       "      <td>0</td>\n",
       "      <td>399890</td>\n",
       "      <td>...</td>\n",
       "      <td>WGH-Stufe Marken National</td>\n",
       "      <td>WGH-Stufe Mode</td>\n",
       "      <td>Mode</td>\n",
       "      <td>05 - 50 bis 74,99</td>\n",
       "      <td>NaN</td>\n",
       "      <td>SCHWARZ</td>\n",
       "      <td>36</td>\n",
       "      <td>8</td>\n",
       "      <td>NaN</td>\n",
       "      <td>1</td>\n",
       "    </tr>\n",
       "    <tr>\n",
       "      <th>2</th>\n",
       "      <td>235693</td>\n",
       "      <td>DIG</td>\n",
       "      <td>372896</td>\n",
       "      <td>04.08.2017 09:00:00</td>\n",
       "      <td>1</td>\n",
       "      <td>34013</td>\n",
       "      <td>0</td>\n",
       "      <td>NaN</td>\n",
       "      <td>0</td>\n",
       "      <td>399890</td>\n",
       "      <td>...</td>\n",
       "      <td>WGH-Stufe Marken National</td>\n",
       "      <td>WGH-Stufe Mode</td>\n",
       "      <td>Mode</td>\n",
       "      <td>05 - 50 bis 74,99</td>\n",
       "      <td>NaN</td>\n",
       "      <td>SCHWARZ</td>\n",
       "      <td>38</td>\n",
       "      <td>23</td>\n",
       "      <td>NaN</td>\n",
       "      <td>1</td>\n",
       "    </tr>\n",
       "    <tr>\n",
       "      <th>3</th>\n",
       "      <td>235694</td>\n",
       "      <td>DIG</td>\n",
       "      <td>372896</td>\n",
       "      <td>04.08.2017 09:00:00</td>\n",
       "      <td>1</td>\n",
       "      <td>34013</td>\n",
       "      <td>0</td>\n",
       "      <td>NaN</td>\n",
       "      <td>0</td>\n",
       "      <td>399890</td>\n",
       "      <td>...</td>\n",
       "      <td>WGH-Stufe Marken National</td>\n",
       "      <td>WGH-Stufe Mode</td>\n",
       "      <td>Mode</td>\n",
       "      <td>05 - 50 bis 74,99</td>\n",
       "      <td>NaN</td>\n",
       "      <td>SCHWARZ</td>\n",
       "      <td>40</td>\n",
       "      <td>39</td>\n",
       "      <td>NaN</td>\n",
       "      <td>0</td>\n",
       "    </tr>\n",
       "    <tr>\n",
       "      <th>4</th>\n",
       "      <td>235695</td>\n",
       "      <td>DIG</td>\n",
       "      <td>372896</td>\n",
       "      <td>04.08.2017 09:00:00</td>\n",
       "      <td>1</td>\n",
       "      <td>34013</td>\n",
       "      <td>0</td>\n",
       "      <td>NaN</td>\n",
       "      <td>0</td>\n",
       "      <td>399890</td>\n",
       "      <td>...</td>\n",
       "      <td>WGH-Stufe Marken National</td>\n",
       "      <td>WGH-Stufe Mode</td>\n",
       "      <td>Mode</td>\n",
       "      <td>05 - 50 bis 74,99</td>\n",
       "      <td>NaN</td>\n",
       "      <td>SCHWARZ</td>\n",
       "      <td>42</td>\n",
       "      <td>44</td>\n",
       "      <td>NaN</td>\n",
       "      <td>0</td>\n",
       "    </tr>\n",
       "  </tbody>\n",
       "</table>\n",
       "<p>5 rows × 37 columns</p>\n",
       "</div>"
      ],
      "text/plain": [
       "   OBS_ID KANAL  SHOW_ID           SHOW_DATUM FAKTOR  WORDING_ID  BRAND_FLG  \\\n",
       "0  235691   DIG   370117  30.07.2017 19:00:00      1       25802          1   \n",
       "1  235692   DIG   372896  04.08.2017 09:00:00      1       34013          0   \n",
       "2  235693   DIG   372896  04.08.2017 09:00:00      1       34013          0   \n",
       "3  235694   DIG   372896  04.08.2017 09:00:00      1       34013          0   \n",
       "4  235695   DIG   372896  04.08.2017 09:00:00      1       34013          0   \n",
       "\n",
       "   BRAND_ID  WDHL_FLG  BESTELL_ID      ...                       WGH3_DESC  \\\n",
       "0      12.0         1      399879      ...       WGH-Stufe Marken National   \n",
       "1       NaN         0      399890      ...       WGH-Stufe Marken National   \n",
       "2       NaN         0      399890      ...       WGH-Stufe Marken National   \n",
       "3       NaN         0      399890      ...       WGH-Stufe Marken National   \n",
       "4       NaN         0      399890      ...       WGH-Stufe Marken National   \n",
       "\n",
       "        WGH4_DESC  DIVISION_DESC_SORT   PREISKLASSE_DESC  PREIS_LABEL_DESC  \\\n",
       "0  WGH-Stufe Mode                Mode  04 - 40 bis 49,99               NaN   \n",
       "1  WGH-Stufe Mode                Mode  05 - 50 bis 74,99               NaN   \n",
       "2  WGH-Stufe Mode                Mode  05 - 50 bis 74,99               NaN   \n",
       "3  WGH-Stufe Mode                Mode  05 - 50 bis 74,99               NaN   \n",
       "4  WGH-Stufe Mode                Mode  05 - 50 bis 74,99               NaN   \n",
       "\n",
       "     FARBE  GROESSE  MENGE_FREI_SHOWBEGINN  BEWERTUNG  SOLD_OUT_FLG  \n",
       "0  SCHWARZ      NaN                      7        NaN             1  \n",
       "1  SCHWARZ       36                      8        NaN             1  \n",
       "2  SCHWARZ       38                     23        NaN             1  \n",
       "3  SCHWARZ       40                     39        NaN             0  \n",
       "4  SCHWARZ       42                     44        NaN             0  \n",
       "\n",
       "[5 rows x 37 columns]"
      ]
     },
     "execution_count": 54,
     "metadata": {},
     "output_type": "execute_result"
    }
   ],
   "source": [
    "import pandas as pd\n",
    "import numpy as np\n",
    "\n",
    "\n",
    "training = pd.read_csv(\"training.csv\", encoding='cp1252')\n",
    "\n",
    "test = pd.read_csv(\"test.csv\", encoding='cp1252')\n",
    "\n",
    "\n",
    "training.head()"
   ]
  },
  {
   "cell_type": "code",
   "execution_count": 55,
   "metadata": {},
   "outputs": [
    {
     "data": {
      "text/plain": [
       "1003"
      ]
     },
     "execution_count": 55,
     "metadata": {},
     "output_type": "execute_result"
    }
   ],
   "source": [
    "frames = [test, training]\n",
    "result = pd.concat(frames)\n",
    "len(result) - len(training)\n",
    "\n"
   ]
  },
  {
   "cell_type": "code",
   "execution_count": 56,
   "metadata": {},
   "outputs": [],
   "source": [
    "result.drop(['DIVISION_DESC_SORT','WGH4_DESC'],axis=1,inplace=True)"
   ]
  },
  {
   "cell_type": "code",
   "execution_count": 57,
   "metadata": {},
   "outputs": [],
   "source": [
    "result[\"FAKTOR\"] = result[\"FAKTOR\"].str.replace(',', \".\").astype(float)"
   ]
  },
  {
   "cell_type": "code",
   "execution_count": 58,
   "metadata": {},
   "outputs": [],
   "source": [
    "result[\"KANAL\"] = result[\"KANAL\"].astype('category')\n",
    "result.dtypes\n",
    "result[\"KANAL\"] = result[\"KANAL\"].cat.codes\n",
    "result[\"KANAL\"] = result[\"KANAL\"].astype('category')"
   ]
  },
  {
   "cell_type": "code",
   "execution_count": 59,
   "metadata": {},
   "outputs": [],
   "source": [
    "result['BRAND_ID'].fillna(0,inplace=True)"
   ]
  },
  {
   "cell_type": "code",
   "execution_count": 60,
   "metadata": {},
   "outputs": [],
   "source": [
    "# convert PREIS_DISCOUNT into float and fill NaN with zeros\n",
    "result[\"PREIS_DISCOUNT\"] = result[\"PREIS_DISCOUNT\"].str.replace(',', \".\").astype(float)\n",
    "result['PREIS_DISCOUNT'] = result['PREIS_DISCOUNT'].fillna(0)"
   ]
  },
  {
   "cell_type": "code",
   "execution_count": 61,
   "metadata": {},
   "outputs": [],
   "source": [
    "result.drop(['BEWERTUNG'],axis=1,inplace=True)"
   ]
  },
  {
   "cell_type": "code",
   "execution_count": 62,
   "metadata": {},
   "outputs": [],
   "source": [
    "result['MENGE_CALL'] = result['MENGE_CALL'].fillna(0)\n",
    "result['MENGE_ECOM'] = result['MENGE_ECOM'].fillna(0)"
   ]
  },
  {
   "cell_type": "code",
   "execution_count": 63,
   "metadata": {},
   "outputs": [],
   "source": [
    "result['TOTAL_AMOUNT']=result['MENGE_CALL']+result['MENGE_ECOM']\n",
    "result['PERCENTAGE']=result['TOTAL_AMOUNT']/result['MENGE_FREI_SHOWBEGINN']\n"
   ]
  },
  {
   "cell_type": "code",
   "execution_count": 64,
   "metadata": {},
   "outputs": [],
   "source": [
    "result[\"WG_DESC\"] = result[\"WG_DESC\"].astype('category')\n",
    "result[\"WG_DESC\"] = result[\"WG_DESC\"].cat.codes\n",
    "result[\"WG_DESC\"] = result[\"WG_DESC\"].astype('category')"
   ]
  },
  {
   "cell_type": "code",
   "execution_count": 65,
   "metadata": {},
   "outputs": [],
   "source": [
    "result[\"WGH1_DESC\"] = result[\"WGH1_DESC\"].astype('category')\n",
    "result[\"WGH1_DESC\"] = result[\"WGH1_DESC\"].cat.codes\n",
    "result[\"WGH1_DESC\"] = result[\"WGH1_DESC\"].astype('category')"
   ]
  },
  {
   "cell_type": "code",
   "execution_count": 66,
   "metadata": {},
   "outputs": [],
   "source": [
    "result[\"WGH3_DESC\"] = result[\"WGH3_DESC\"].astype('category')\n",
    "result[\"WGH3_DESC\"] = result[\"WGH3_DESC\"].cat.codes\n",
    "result[\"WGH3_DESC\"] = result[\"WGH3_DESC\"].astype('category')"
   ]
  },
  {
   "cell_type": "code",
   "execution_count": 67,
   "metadata": {},
   "outputs": [],
   "source": [
    "result['PREISKLASSE_DESC']=result['PREISKLASSE_DESC'].str[:2]\n",
    "result['PREISKLASSE_DESC']=result['PREISKLASSE_DESC'].astype('int')"
   ]
  },
  {
   "cell_type": "code",
   "execution_count": 70,
   "metadata": {},
   "outputs": [],
   "source": [
    "result['PREIS_LABEL_DESC'] = result['PREIS_LABEL_DESC'].fillna(0)\n",
    "result[\"PREIS_LABEL_DESC\"]= result[\"PREIS_LABEL_DESC\"].astype('category')\n",
    "result['PREIS_LABEL_DESC'] = result['PREIS_LABEL_DESC'].cat.codes\n",
    "result[\"PREIS_LABEL_DESC\"]= result[\"PREIS_LABEL_DESC\"].astype('category')\n"
   ]
  },
  {
   "cell_type": "code",
   "execution_count": 71,
   "metadata": {},
   "outputs": [],
   "source": [
    "result[\"FARBE\"] = result[\"FARBE\"].astype('category')\n",
    "result[\"FARBE\"] = result[\"FARBE\"].cat.codes\n",
    "result[\"FARBE\"]= result[\"FARBE\"].astype('category')\n"
   ]
  },
  {
   "cell_type": "code",
   "execution_count": 72,
   "metadata": {},
   "outputs": [],
   "source": [
    "result['SHOW_DATUM']=pd.to_datetime(result['SHOW_DATUM'])\n",
    "result['DAY_OF_WEEK'] = result['SHOW_DATUM'].dt.day_name()\n",
    "result[\"DAY_OF_WEEK\"] = result[\"DAY_OF_WEEK\"].astype('category')\n",
    "result[\"DAY_OF_WEEK\"] = result[\"DAY_OF_WEEK\"].cat.codes\n",
    "result[\"DAY_OF_WEEK\"] = result[\"DAY_OF_WEEK\"].astype('category')\n",
    "\n",
    "def from_hour_to_time_slot(x):\n",
    "    if 7 <= x < 9:\n",
    "        return \"MORNING TIME\"\n",
    "    elif 9 <= x <17:\n",
    "        return \"DAYTIME\"\n",
    "    elif 17 <= x < 20:\n",
    "        return \"EARLY PRIME TIME\"\n",
    "    elif 20 <= x < 23:\n",
    "        return \"PRIME TIME\"\n",
    "    elif 1 <= x < 7:\n",
    "        return \"LATE NIGHT\"\n",
    "    else:\n",
    "        return \"LATE PRIME TIME\"\n",
    "\n",
    "result['Hour_of_the_day'] = result['SHOW_DATUM'].dt.hour\n",
    "result.Hour_of_the_day = result.Hour_of_the_day.map(from_hour_to_time_slot)\n",
    "result.Hour_of_the_day.unique()\n",
    "result[\"Hour_of_the_day\"] = result[\"Hour_of_the_day\"].astype('category')\n",
    "result[\"Hour_of_the_day\"] = result[\"Hour_of_the_day\"].cat.codes\n",
    "result[\"Hour_of_the_day\"] = result[\"Hour_of_the_day\"].astype('category')\n",
    "\n",
    "result.drop(['SHOW_DATUM'],axis=1,inplace=True)\n",
    "result.drop(['WGH4_ID'],axis=1,inplace=True)"
   ]
  },
  {
   "cell_type": "code",
   "execution_count": 73,
   "metadata": {},
   "outputs": [],
   "source": [
    "\n",
    "# DATE and WEEKDAY\n",
    "result['SHOW_DATUM']=pd.to_datetime(training['SHOW_DATUM'])\n",
    "result['DAY_OF_WEEK'] = result['SHOW_DATUM'].dt.day_name()\n",
    "result[\"DAY_OF_WEEK\"].replace(['Monday'],1,inplace=True)\n",
    "result[\"DAY_OF_WEEK\"].replace(['Tuesday'],2,inplace=True)\n",
    "result[\"DAY_OF_WEEK\"].replace(['Wednesday'],3,inplace=True)\n",
    "result[\"DAY_OF_WEEK\"].replace(['Thursday'],4,inplace=True)\n",
    "result[\"DAY_OF_WEEK\"].replace(['Friday'],5,inplace=True)\n",
    "result[\"DAY_OF_WEEK\"].replace(['Saturday'],6,inplace=True)\n",
    "result[\"DAY_OF_WEEK\"].replace(['Sunday'],7,inplace=True)"
   ]
  },
  {
   "cell_type": "code",
   "execution_count": 86,
   "metadata": {},
   "outputs": [
    {
     "data": {
      "text/plain": [
       "0       22\n",
       "1       34\n",
       "2       32\n",
       "3       36\n",
       "4       24\n",
       "5       36\n",
       "6       24\n",
       "7       26\n",
       "8       28\n",
       "9       32\n",
       "10      28\n",
       "11      18\n",
       "12      22\n",
       "13      10\n",
       "14      12\n",
       "15      22\n",
       "16      24\n",
       "17      32\n",
       "18      38\n",
       "19      34\n",
       "20      22\n",
       "21      32\n",
       "22      30\n",
       "23      24\n",
       "24      34\n",
       "25      36\n",
       "26      34\n",
       "27      24\n",
       "28      26\n",
       "29      26\n",
       "        ..\n",
       "6632    28\n",
       "6633    30\n",
       "6634    32\n",
       "6635    34\n",
       "6636    36\n",
       "6637    22\n",
       "6638    24\n",
       "6639    28\n",
       "6640    30\n",
       "6641    32\n",
       "6642    34\n",
       "6643    36\n",
       "6644    38\n",
       "6645    40\n",
       "6646    24\n",
       "6647    26\n",
       "6648    28\n",
       "6649    30\n",
       "6650    32\n",
       "6651    34\n",
       "6652    38\n",
       "6653    22\n",
       "6654    24\n",
       "6655    26\n",
       "6656    28\n",
       "6657    30\n",
       "6658    32\n",
       "6659    34\n",
       "6660    38\n",
       "6661    40\n",
       "Name: GROESSE, Length: 7665, dtype: category\n",
       "Categories (49, int64): [0, 1, 2, 3, ..., 45, 46, 47, 48]"
      ]
     },
     "execution_count": 86,
     "metadata": {},
     "output_type": "execute_result"
    }
   ],
   "source": [
    "# convert GROESSE into category variable, fill NaN with zero and merge certain data\n",
    "\n",
    "result['GROESSE'] = result['GROESSE'].fillna(0)\n",
    "result['GROESSE'].replace('ONESIZE','ONE SIZE',inplace=True)\n",
    "result['GROESSE'].replace('A',0,inplace=True)\n",
    "result['GROESSE'].replace('B',0,inplace=True)\n",
    "result[\"GROESSE\"] = result[\"GROESSE\"].astype('category')\n",
    "result['GROESSE'] = result['GROESSE'].cat.codes\n",
    "result[\"GROESSE\"] = result[\"GROESSE\"].astype('category')\n",
    "\n",
    "result[\"GROESSE\"]\n"
   ]
  },
  {
   "cell_type": "code",
   "execution_count": 87,
   "metadata": {},
   "outputs": [],
   "source": [
    "result['NEW_ITEM_FLG'].fillna(0,inplace=True)\n",
    "result['AIRING_23_FLG'].fillna(0,inplace=True)\n",
    "result['AIRING_456_FLG'].fillna(0,inplace=True)\n",
    "result['AIRING_23_FLG'].replace(1,2,inplace=True)\n",
    "result['AIRING_456_FLG'].replace(1,4,inplace=True)\n",
    "result['AIRING']=result['NEW_ITEM_FLG']+result['AIRING_23_FLG']+result['AIRING_456_FLG']\n",
    "\n",
    "\n",
    "result[\"AIRING\"] = result[\"AIRING\"].astype('category')\n",
    "result[\"AIRING\"] = result[\"AIRING\"].cat.codes\n",
    "result[\"AIRING\"] = result[\"AIRING\"].astype('category')\n",
    "\n",
    "\n",
    "\n",
    "result[\"ADT_FLG\"] = result[\"ADT_FLG\"].astype('category')\n",
    "result[\"ADT_FLG\"] = result[\"ADT_FLG\"].cat.codes\n",
    "result[\"ADT_FLG\"] = result[\"ADT_FLG\"].astype('category')"
   ]
  },
  {
   "cell_type": "code",
   "execution_count": 88,
   "metadata": {},
   "outputs": [
    {
     "name": "stdout",
     "output_type": "stream",
     "text": [
      "<class 'pandas.core.frame.DataFrame'>\n",
      "Int64Index: 7665 entries, 0 to 6661\n",
      "Data columns (total 38 columns):\n",
      "OBS_ID                   7665 non-null int64\n",
      "KANAL                    7665 non-null category\n",
      "SHOW_ID                  7665 non-null int64\n",
      "FAKTOR                   7665 non-null float64\n",
      "WORDING_ID               7665 non-null int64\n",
      "BRAND_FLG                7665 non-null int64\n",
      "BRAND_ID                 7665 non-null float64\n",
      "WDHL_FLG                 7665 non-null int64\n",
      "BESTELL_ID               7665 non-null int64\n",
      "ARTIKEL_ID               7665 non-null int64\n",
      "SHOW_POSITION            7665 non-null int64\n",
      "NEW_ITEM_FLG             7665 non-null int64\n",
      "AIRING_23_FLG            7665 non-null int64\n",
      "AIRING_456_FLG           7665 non-null int64\n",
      "ADT_FLG                  7665 non-null category\n",
      "WG_ID                    7665 non-null int64\n",
      "WGH1_ID                  7665 non-null int64\n",
      "WGH3_ID                  7665 non-null int64\n",
      "PREIS_DISCOUNT           7665 non-null float64\n",
      "ANZ_ARTIKEL_ID           7665 non-null int64\n",
      "ONAIR_SEKUNDEN           7665 non-null int64\n",
      "MENGE_CALL               7665 non-null float64\n",
      "MENGE_ECOM               7665 non-null float64\n",
      "WG_DESC                  7665 non-null category\n",
      "WGH1_DESC                7665 non-null category\n",
      "WGH3_DESC                7665 non-null category\n",
      "PREISKLASSE_DESC         7665 non-null int32\n",
      "PREIS_LABEL_DESC         7665 non-null category\n",
      "FARBE                    7665 non-null category\n",
      "GROESSE                  7665 non-null category\n",
      "MENGE_FREI_SHOWBEGINN    7665 non-null int64\n",
      "SOLD_OUT_FLG             6662 non-null float64\n",
      "TOTAL_AMOUNT             7665 non-null float64\n",
      "PERCENTAGE               7665 non-null float64\n",
      "DAY_OF_WEEK              7665 non-null int64\n",
      "Hour_of_the_day          7665 non-null category\n",
      "SHOW_DATUM               7665 non-null datetime64[ns]\n",
      "AIRING                   7665 non-null category\n",
      "dtypes: category(10), datetime64[ns](1), float64(8), int32(1), int64(18)\n",
      "memory usage: 1.8 MB\n"
     ]
    }
   ],
   "source": [
    "result.info()"
   ]
  },
  {
   "cell_type": "code",
   "execution_count": 89,
   "metadata": {},
   "outputs": [
    {
     "data": {
      "image/png": "[encoded data removed]",
      "text/plain": [
       "<Figure size 432x288 with 1 Axes>"
      ]
     },
     "metadata": {
      "needs_background": "light"
     },
     "output_type": "display_data"
    }
   ],
   "source": [
    "% matplotlib inline\n",
    "\n",
    "import matplotlib.pyplot as plt\n",
    "\n",
    "plt.scatter(result[\"GROESSE\"],result[\"FARBE\"])\n",
    "plt.show()\n"
   ]
  },
  {
   "cell_type": "code",
   "execution_count": 90,
   "metadata": {},
   "outputs": [],
   "source": [
    "X = result[[\"GROESSE\",\"FARBE\"]]"
   ]
  },
  {
   "cell_type": "code",
   "execution_count": 91,
   "metadata": {},
   "outputs": [],
   "source": [
    "from sklearn.preprocessing import StandardScaler\n",
    "\n",
    "scaler = StandardScaler()\n",
    "\n",
    "X_transformed = scaler.fit_transform(X)\n"
   ]
  },
  {
   "cell_type": "code",
   "execution_count": 92,
   "metadata": {},
   "outputs": [],
   "source": [
    "from sklearn.cluster import KMeans\n",
    "\n",
    "scores=[]\n",
    "for n in range (2,12):\n",
    "    model = KMeans(n_clusters=n)\n",
    "    model.fit(X_transformed)\n",
    "    scores.append(model.inertia_)\n",
    "    #print(model.inertia_)\n",
    "    "
   ]
  },
  {
   "cell_type": "code",
   "execution_count": 93,
   "metadata": {},
   "outputs": [
    {
     "data": {
      "image/png": "[encoded data removed]",
      "text/plain": [
       "<Figure size 432x288 with 1 Axes>"
      ]
     },
     "metadata": {
      "needs_background": "light"
     },
     "output_type": "display_data"
    }
   ],
   "source": [
    "% matplotlib inline\n",
    "\n",
    "import matplotlib.pyplot as plt\n",
    "\n",
    "\n",
    "plt.plot(range(2,12),scores)\n",
    "plt.show()"
   ]
  },
  {
   "cell_type": "code",
   "execution_count": 102,
   "metadata": {},
   "outputs": [],
   "source": [
    "from sklearn.cluster import KMeans\n",
    "\n",
    "\n",
    "\n",
    "model = KMeans(n_clusters=7)\n",
    "model.fit(X_transformed)\n",
    "model.fit(X_transformed)\n",
    "\n",
    "labels=model.labels_\n",
    "centers=model.cluster_centers_\n",
    "centers_transformed=scaler.inverse_transform(centers)"
   ]
  },
  {
   "cell_type": "code",
   "execution_count": 103,
   "metadata": {},
   "outputs": [
    {
     "data": {
      "image/png": "[encoded data removed]",
      "text/plain": [
       "<Figure size 432x288 with 1 Axes>"
      ]
     },
     "metadata": {
      "needs_background": "light"
     },
     "output_type": "display_data"
    }
   ],
   "source": [
    "% matplotlib inline\n",
    "\n",
    "import matplotlib.pyplot as plt\n",
    "\n",
    "\n",
    "plt.scatter(result[\"GROESSE\"],result[\"FARBE\"],c=labels,alpha=0.4,s=10)\n",
    "plt.scatter(centers_transformed[:,0],centers_transformed[:,1],c=range(len(centers_transformed)),marker=\"*\",s=150)\n",
    "plt.show()\n"
   ]
  }
 ],
 "metadata": {
  "kernelspec": {
   "display_name": "Python 3",
   "language": "python",
   "name": "python3"
  },
  "language_info": {
   "codemirror_mode": {
    "name": "ipython",
    "version": 3
   },
   "file_extension": ".py",
   "mimetype": "text/x-python",
   "name": "python",
   "nbconvert_exporter": "python",
   "pygments_lexer": "ipython3",
   "version": "3.7.0"
  }
 },
 "nbformat": 4,
 "nbformat_minor": 2
}

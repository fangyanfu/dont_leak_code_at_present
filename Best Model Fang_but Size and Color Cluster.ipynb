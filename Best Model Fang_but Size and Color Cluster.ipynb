{
 "cells": [
  {
   "cell_type": "code",
   "execution_count": 136,
   "metadata": {},
   "outputs": [
    {
     "data": {
      "text/plain": [
       "1003"
      ]
     },
     "execution_count": 136,
     "metadata": {},
     "output_type": "execute_result"
    }
   ],
   "source": [
    "import pandas as pd\n",
    "import numpy as np\n",
    "\n",
    "\n",
    "training = pd.read_csv(\"training.csv\", encoding='cp1252',engine = \"python\")\n",
    "\n",
    "test = pd.read_csv(\"test.csv\", encoding='cp1252', engine = \"python\")\n",
    "\n",
    "test.head()\n",
    "frames = [test, training]\n",
    "result = pd.concat(frames)\n",
    "len(result) - len(training)"
   ]
  },
  {
   "cell_type": "code",
   "execution_count": 137,
   "metadata": {},
   "outputs": [],
   "source": [
    "result[\"FAKTOR\"] = result[\"FAKTOR\"].str.replace(',', \".\").astype(float) \n",
    "\n",
    "result[\"KANAL\"] = result[\"KANAL\"].astype('category')\n",
    "result.dtypes\n",
    "result[\"KANAL\"] = result[\"KANAL\"].cat.codes\n",
    "result[\"KANAL\"] = result[\"KANAL\"].astype('category')\n",
    "\n",
    "result['BRAND_ID'].fillna(0,inplace=True)\n",
    "result[\"BRAND_ID\"] = result[\"BRAND_ID\"].astype('category')\n",
    "result[\"BRAND_ID\"] = result[\"BRAND_ID\"].cat.codes\n",
    "result[\"BRAND_ID\"] = result[\"BRAND_ID\"].astype('category')\n",
    "\n",
    "result[\"SHOW_ID\"] = result[\"SHOW_ID\"].astype('category')\n",
    "result[\"SHOW_ID\"] = result[\"SHOW_ID\"].cat.codes\n",
    "result[\"SHOW_ID\"] = result[\"SHOW_ID\"].astype('category')\n",
    "\n",
    "result[\"BRAND_FLG\"] = result[\"BRAND_FLG\"].astype('category')\n",
    "result[\"BRAND_FLG\"] = result[\"BRAND_FLG\"].cat.codes\n",
    "result[\"BRAND_FLG\"] = result[\"BRAND_FLG\"].astype('category')\n",
    "\n",
    "result['SHOW_DATUM']=pd.to_datetime(result['SHOW_DATUM'])\n",
    "result['DAY_OF_WEEK'] = result['SHOW_DATUM'].dt.day_name()\n",
    "result[\"DAY_OF_WEEK\"] = result[\"DAY_OF_WEEK\"].astype('category')\n",
    "result[\"DAY_OF_WEEK\"] = result[\"DAY_OF_WEEK\"].cat.codes\n",
    "result[\"DAY_OF_WEEK\"] = result[\"DAY_OF_WEEK\"].astype('category')\n",
    "\n",
    "def from_hour_to_time_slot(x):\n",
    "    if 7 <= x < 9:\n",
    "        return \"MORNING TIME\"\n",
    "    elif 9 <= x <17:\n",
    "        return \"DAYTIME\"\n",
    "    elif 17 <= x < 20:\n",
    "        return \"EARLY PRIME TIME\"\n",
    "    elif 20 <= x < 23:\n",
    "        return \"PRIME TIME\"\n",
    "    elif 1 <= x < 7:\n",
    "        return \"LATE NIGHT\"\n",
    "    else:\n",
    "        return \"LATE PRIME TIME\"\n",
    "\n",
    "result['Hour_of_the_day'] = result['SHOW_DATUM'].dt.hour\n",
    "result.Hour_of_the_day = result.Hour_of_the_day.map(from_hour_to_time_slot)\n",
    "result[\"Hour_of_the_day\"] = result[\"Hour_of_the_day\"].astype('category')\n",
    "result[\"Hour_of_the_day\"] = result[\"Hour_of_the_day\"].cat.codes\n",
    "result[\"Hour_of_the_day\"] = result[\"Hour_of_the_day\"].astype('category')\n",
    "result.drop(['SHOW_DATUM'],axis=1,inplace=True)\n",
    "\n",
    "result[\"WORDING_ID\"] = result[\"WORDING_ID\"].astype('category')\n",
    "result[\"WORDING_ID\"] = result[\"WORDING_ID\"].cat.codes\n",
    "result[\"WORDING_ID\"] = result[\"WORDING_ID\"].astype('category')\n",
    "\n",
    "result[\"WDHL_FLG\"] = result[\"WDHL_FLG\"].astype('category')\n",
    "result[\"WDHL_FLG\"] = result[\"WDHL_FLG\"].cat.codes\n",
    "result[\"WDHL_FLG\"] = result[\"WDHL_FLG\"].astype('category')\n",
    "\n",
    "result[\"BESTELL_ID\"] = result[\"BESTELL_ID\"].astype('category')\n",
    "result[\"BESTELL_ID\"] = result[\"BESTELL_ID\"].cat.codes\n",
    "result[\"BESTELL_ID\"] = result[\"BESTELL_ID\"].astype('category')\n",
    "\n",
    "result[\"ARTIKEL_ID\"] = result[\"ARTIKEL_ID\"].astype('category')\n",
    "result[\"ARTIKEL_ID\"] = result[\"ARTIKEL_ID\"].cat.codes\n",
    "result[\"ARTIKEL_ID\"] = result[\"ARTIKEL_ID\"].astype('category')\n",
    "\n",
    "result[\"NEW_ITEM_FLG\"] = result[\"NEW_ITEM_FLG\"].astype('category')\n",
    "result[\"NEW_ITEM_FLG\"] = result[\"NEW_ITEM_FLG\"].cat.codes\n",
    "result[\"NEW_ITEM_FLG\"] = result[\"NEW_ITEM_FLG\"].astype('category')\n",
    "\n",
    "result[\"AIRING_23_FLG\"] = result[\"AIRING_23_FLG\"].astype('category')\n",
    "result[\"AIRING_23_FLG\"] = result[\"AIRING_23_FLG\"].cat.codes\n",
    "result[\"AIRING_23_FLG\"] = result[\"AIRING_23_FLG\"].astype('category')\n",
    "\n",
    "result[\"AIRING_456_FLG\"] = result[\"AIRING_456_FLG\"].astype('category')\n",
    "result[\"AIRING_456_FLG\"] = result[\"AIRING_456_FLG\"].cat.codes\n",
    "result[\"AIRING_456_FLG\"] = result[\"AIRING_456_FLG\"].astype('category')\n",
    "\n",
    "result[\"ADT_FLG\"] = result[\"ADT_FLG\"].astype('category')\n",
    "result[\"ADT_FLG\"] = result[\"ADT_FLG\"].cat.codes\n",
    "result[\"ADT_FLG\"] = result[\"ADT_FLG\"].astype('category')\n",
    "\n",
    "result[\"WG_ID\"] = result[\"WG_ID\"].astype('category')\n",
    "result[\"WG_ID\"] = result[\"WG_ID\"].cat.codes\n",
    "result[\"WG_ID\"] = result[\"WG_ID\"].astype('category')\n",
    "\n",
    "result[\"WGH1_ID\"] = result[\"WGH1_ID\"].astype('category')\n",
    "result[\"WGH1_ID\"] = result[\"WGH1_ID\"].cat.codes\n",
    "result[\"WGH1_ID\"] = result[\"WGH1_ID\"].astype('category')\n",
    "\n",
    "result[\"WGH3_ID\"] = result[\"WGH3_ID\"].astype('category')\n",
    "result[\"WGH3_ID\"] = result[\"WGH3_ID\"].cat.codes\n",
    "result[\"WGH3_ID\"] = result[\"WGH3_ID\"].astype('category')\n",
    "\n",
    "result[\"WGH4_ID\"] = result[\"WGH4_ID\"].astype('category')\n",
    "result[\"WGH4_ID\"] = result[\"WGH4_ID\"].cat.codes\n",
    "result[\"WGH4_ID\"] = result[\"WGH4_ID\"].astype('category')\n",
    "\n",
    "result[\"PREIS_DISCOUNT\"] = result[\"PREIS_DISCOUNT\"].str.replace(',', \".\").astype(float)\n",
    "result['PREIS_DISCOUNT'] = result['PREIS_DISCOUNT'].fillna(0)\n",
    "\n",
    "result['MENGE_CALL'] = result['MENGE_CALL'].fillna(3) #3 instead of 0\n",
    "result['MENGE_CALL'] = result['MENGE_CALL'].astype(\"int\")\n",
    "result['MENGE_ECOM'] = result['MENGE_ECOM'].fillna(3) #3 instead of 0\n",
    "result['MENGE_ECOM'] = result['MENGE_ECOM'].astype(\"int\")\n",
    "\n",
    "result[\"WG_DESC\"] = result[\"WG_DESC\"].astype('category')\n",
    "result[\"WG_DESC\"] = result[\"WG_DESC\"].cat.codes\n",
    "result[\"WG_DESC\"] = result[\"WG_DESC\"].astype('category')\n",
    "\n",
    "result[\"WGH1_DESC\"] = result[\"WGH1_DESC\"].astype('category')\n",
    "result[\"WGH1_DESC\"] = result[\"WGH1_DESC\"].cat.codes\n",
    "result[\"WGH1_DESC\"] = result[\"WGH1_DESC\"].astype('category')\n",
    "\n",
    "result[\"WGH3_DESC\"] = result[\"WGH3_DESC\"].astype('category')\n",
    "result[\"WGH3_DESC\"] = result[\"WGH3_DESC\"].cat.codes\n",
    "result[\"WGH3_DESC\"] = result[\"WGH3_DESC\"].astype('category')\n",
    "\n",
    "result[\"WGH4_DESC\"] = result[\"WGH4_DESC\"].astype('category')\n",
    "result[\"WGH4_DESC\"] = result[\"WGH4_DESC\"].cat.codes\n",
    "result[\"WGH4_DESC\"] = result[\"WGH4_DESC\"].astype('category')\n",
    "\n",
    "result[\"DIVISION_DESC_SORT\"] = result[\"DIVISION_DESC_SORT\"].astype('category')\n",
    "result[\"DIVISION_DESC_SORT\"] = result[\"DIVISION_DESC_SORT\"].cat.codes\n",
    "result[\"DIVISION_DESC_SORT\"] = result[\"DIVISION_DESC_SORT\"].astype('category')\n",
    "\n",
    "\n",
    "\n",
    "result[\"PREISKLASSE_DESC\"] = result[\"PREISKLASSE_DESC\"].astype('category')\n",
    "result[\"PREISKLASSE_DESC\"] = result[\"PREISKLASSE_DESC\"].cat.codes\n",
    "result[\"PREISKLASSE_DESC\"] = result[\"PREISKLASSE_DESC\"].astype('category')\n",
    "\n",
    "\n",
    "result.drop(['BEWERTUNG'],axis=1,inplace=True)\n",
    "\n",
    "result['PREIS_LABEL_DESC'] = result['PREIS_LABEL_DESC'].fillna(0)\n",
    "result[\"PREIS_LABEL_DESC\"] = result[\"PREIS_LABEL_DESC\"].astype('category')\n",
    "result[\"PREIS_LABEL_DESC\"] = result[\"PREIS_LABEL_DESC\"].cat.codes\n",
    "result[\"PREIS_LABEL_DESC\"] = result[\"PREIS_LABEL_DESC\"].astype('category')\n",
    "\n",
    "result[\"GROESSE\"] = result[\"GROESSE\"].astype('category')\n",
    "result[\"GROESSE\"] = result[\"GROESSE\"].cat.codes\n",
    "result[\"GROESSE\"] = result[\"GROESSE\"].astype('category')\n",
    "\n",
    "result[\"FARBE\"] = result[\"FARBE\"].astype('category')\n",
    "result[\"FARBE\"] = result[\"FARBE\"].cat.codes\n",
    "result[\"FARBE\"] = result[\"FARBE\"].astype('category')\n"
   ]
  },
  {
   "cell_type": "code",
   "execution_count": 138,
   "metadata": {},
   "outputs": [],
   "source": [
    "X = result[[\"GROESSE\",\"FARBE\"]]"
   ]
  },
  {
   "cell_type": "code",
   "execution_count": 139,
   "metadata": {},
   "outputs": [],
   "source": [
    "from sklearn.preprocessing import StandardScaler\n",
    "\n",
    "scaler = StandardScaler()\n",
    "\n",
    "X_transformed = scaler.fit_transform(X)"
   ]
  },
  {
   "cell_type": "code",
   "execution_count": 140,
   "metadata": {},
   "outputs": [],
   "source": [
    "from sklearn.cluster import KMeans\n",
    "\n",
    "scores=[]\n",
    "for n in range (2,12):\n",
    "    model = KMeans(n_clusters=n)\n",
    "    model.fit(X_transformed)\n",
    "    scores.append(model.inertia_)\n",
    "    #print(model.inertia_)"
   ]
  },
  {
   "cell_type": "code",
   "execution_count": 141,
   "metadata": {},
   "outputs": [
    {
     "data": {
      "image/png": "[encoded data removed]",
      "text/plain": [
       "<Figure size 432x288 with 1 Axes>"
      ]
     },
     "metadata": {
      "needs_background": "light"
     },
     "output_type": "display_data"
    }
   ],
   "source": [
    "% matplotlib inline\n",
    "\n",
    "import matplotlib.pyplot as plt\n",
    "\n",
    "\n",
    "plt.plot(range(2,12),scores)\n",
    "plt.show()"
   ]
  },
  {
   "cell_type": "code",
   "execution_count": 142,
   "metadata": {},
   "outputs": [],
   "source": [
    "from sklearn.cluster import KMeans\n",
    "\n",
    "\n",
    "\n",
    "model = KMeans(n_clusters=7)\n",
    "model.fit(X_transformed)\n",
    "model.fit(X_transformed)\n",
    "\n",
    "labels=model.labels_\n",
    "centers=model.cluster_centers_\n",
    "centers_transformed=scaler.inverse_transform(centers)"
   ]
  },
  {
   "cell_type": "code",
   "execution_count": 143,
   "metadata": {},
   "outputs": [
    {
     "data": {
      "text/plain": [
       "0       4\n",
       "1       0\n",
       "2       5\n",
       "3       0\n",
       "4       4\n",
       "5       0\n",
       "6       1\n",
       "7       1\n",
       "8       1\n",
       "9       1\n",
       "10      1\n",
       "11      5\n",
       "12      5\n",
       "13      6\n",
       "14      6\n",
       "15      4\n",
       "16      4\n",
       "17      0\n",
       "18      0\n",
       "19      0\n",
       "20      1\n",
       "21      0\n",
       "22      4\n",
       "23      1\n",
       "24      0\n",
       "25      0\n",
       "26      3\n",
       "27      5\n",
       "28      5\n",
       "29      4\n",
       "       ..\n",
       "6632    1\n",
       "6633    1\n",
       "6634    1\n",
       "6635    3\n",
       "6636    3\n",
       "6637    1\n",
       "6638    1\n",
       "6639    1\n",
       "6640    1\n",
       "6641    1\n",
       "6642    3\n",
       "6643    3\n",
       "6644    3\n",
       "6645    3\n",
       "6646    4\n",
       "6647    4\n",
       "6648    4\n",
       "6649    4\n",
       "6650    0\n",
       "6651    0\n",
       "6652    0\n",
       "6653    4\n",
       "6654    4\n",
       "6655    4\n",
       "6656    4\n",
       "6657    4\n",
       "6658    0\n",
       "6659    0\n",
       "6660    0\n",
       "6661    0\n",
       "Name: CLUSTER, Length: 7665, dtype: category\n",
       "Categories (7, int64): [0, 1, 2, 3, 4, 5, 6]"
      ]
     },
     "execution_count": 143,
     "metadata": {},
     "output_type": "execute_result"
    }
   ],
   "source": [
    "result['CLUSTER']=labels\n",
    "result['CLUSTER']\n",
    "result['CLUSTER'].astype('category')\n",
    "\n"
   ]
  },
  {
   "cell_type": "code",
   "execution_count": 144,
   "metadata": {},
   "outputs": [
    {
     "data": {
      "image/png": "[encoded data removed]",
      "text/plain": [
       "<Figure size 432x288 with 1 Axes>"
      ]
     },
     "metadata": {
      "needs_background": "light"
     },
     "output_type": "display_data"
    }
   ],
   "source": [
    "% matplotlib inline\n",
    "\n",
    "import matplotlib.pyplot as plt\n",
    "\n",
    "\n",
    "plt.scatter(result[\"GROESSE\"],result[\"FARBE\"],c=labels,alpha=0.4,s=10)\n",
    "plt.scatter(centers_transformed[:,0],centers_transformed[:,1],c=range(len(centers_transformed)),marker=\"*\",s=150)\n",
    "plt.show()\n"
   ]
  },
  {
   "cell_type": "code",
   "execution_count": 145,
   "metadata": {},
   "outputs": [],
   "source": [
    "result['SHOW_POSITION'] = result['SHOW_POSITION'].astype('category')\n",
    "result['SHOW_POSITION'] = result['SHOW_POSITION'].cat.codes\n",
    "result['SHOW_POSITION'] = result['SHOW_POSITION'].astype('category')\n",
    "\n",
    "results = result[['OBS_ID','KANAL','FAKTOR', 'WORDING_ID', 'BRAND_FLG','SHOW_POSITION', 'NEW_ITEM_FLG',\n",
    "       'MENGE_CALL', 'MENGE_ECOM','MENGE_FREI_SHOWBEGINN',\n",
    "       'SOLD_OUT_FLG', 'DAY_OF_WEEK', 'Hour_of_the_day','CLUSTER']]"
   ]
  },
  {
   "cell_type": "code",
   "execution_count": 146,
   "metadata": {},
   "outputs": [
    {
     "name": "stdout",
     "output_type": "stream",
     "text": [
      "<class 'pandas.core.frame.DataFrame'>\n",
      "Int64Index: 7665 entries, 0 to 6661\n",
      "Data columns (total 14 columns):\n",
      "OBS_ID                   7665 non-null int64\n",
      "KANAL                    7665 non-null category\n",
      "FAKTOR                   7665 non-null float64\n",
      "WORDING_ID               7665 non-null category\n",
      "BRAND_FLG                7665 non-null category\n",
      "SHOW_POSITION            7665 non-null category\n",
      "NEW_ITEM_FLG             7665 non-null category\n",
      "MENGE_CALL               7665 non-null int32\n",
      "MENGE_ECOM               7665 non-null int32\n",
      "MENGE_FREI_SHOWBEGINN    7665 non-null int64\n",
      "SOLD_OUT_FLG             6662 non-null float64\n",
      "DAY_OF_WEEK              7665 non-null category\n",
      "Hour_of_the_day          7665 non-null category\n",
      "CLUSTER                  7665 non-null int32\n",
      "dtypes: category(7), float64(2), int32(3), int64(2)\n",
      "memory usage: 457.5 KB\n"
     ]
    }
   ],
   "source": [
    "results.info()"
   ]
  },
  {
   "cell_type": "code",
   "execution_count": 147,
   "metadata": {},
   "outputs": [],
   "source": [
    "ha = pd.get_dummies(results[[\"OBS_ID\",\"Hour_of_the_day\",\"BRAND_FLG\",\"DAY_OF_WEEK\"]])\n",
    "###use \"One hot code\" to turn \"categorical variables\" into columns!!!!! it works!!!!!!!!!\n",
    "results = results.merge(ha, left_on = \"OBS_ID\", right_on = \"OBS_ID\")\n",
    "test = results[results[\"OBS_ID\"]<=1003].copy()\n",
    "training = results[results[\"OBS_ID\"]> 1003].copy()"
   ]
  },
  {
   "cell_type": "code",
   "execution_count": 148,
   "metadata": {},
   "outputs": [
    {
     "data": {
      "text/plain": [
       "1003"
      ]
     },
     "execution_count": 148,
     "metadata": {},
     "output_type": "execute_result"
    }
   ],
   "source": [
    "len(test)"
   ]
  },
  {
   "cell_type": "code",
   "execution_count": 149,
   "metadata": {},
   "outputs": [
    {
     "data": {
      "text/plain": [
       "array(['OBS_ID', 'KANAL', 'FAKTOR', 'WORDING_ID', 'BRAND_FLG',\n",
       "       'SHOW_POSITION', 'NEW_ITEM_FLG', 'MENGE_CALL', 'MENGE_ECOM',\n",
       "       'MENGE_FREI_SHOWBEGINN', 'SOLD_OUT_FLG', 'DAY_OF_WEEK',\n",
       "       'Hour_of_the_day', 'CLUSTER', 'Hour_of_the_day_0',\n",
       "       'Hour_of_the_day_1', 'Hour_of_the_day_2', 'Hour_of_the_day_3',\n",
       "       'Hour_of_the_day_4', 'Hour_of_the_day_5', 'BRAND_FLG_0',\n",
       "       'BRAND_FLG_1', 'DAY_OF_WEEK_0', 'DAY_OF_WEEK_1', 'DAY_OF_WEEK_2',\n",
       "       'DAY_OF_WEEK_3', 'DAY_OF_WEEK_4', 'DAY_OF_WEEK_5', 'DAY_OF_WEEK_6'],\n",
       "      dtype=object)"
      ]
     },
     "execution_count": 149,
     "metadata": {},
     "output_type": "execute_result"
    }
   ],
   "source": [
    "training.columns.values"
   ]
  },
  {
   "cell_type": "code",
   "execution_count": 150,
   "metadata": {},
   "outputs": [
    {
     "name": "stdout",
     "output_type": "stream",
     "text": [
      "(5329, 19)\n",
      "(1333, 19)\n",
      "(5329, 1)\n",
      "(1333, 1)\n",
      "0.9129782445611403\n"
     ]
    },
    {
     "name": "stderr",
     "output_type": "stream",
     "text": [
      "C:\\Users\\Irina\\Anaconda3\\lib\\site-packages\\sklearn\\utils\\validation.py:578: DataConversionWarning: A column-vector y was passed when a 1d array was expected. Please change the shape of y to (n_samples, ), for example using ravel().\n",
      "  y = column_or_1d(y, warn=True)\n"
     ]
    },
    {
     "data": {
      "text/plain": [
       "0.7567349817208392"
      ]
     },
     "execution_count": 150,
     "metadata": {},
     "output_type": "execute_result"
    }
   ],
   "source": [
    "features = training[['MENGE_CALL', 'MENGE_ECOM',\n",
    "        'MENGE_FREI_SHOWBEGINN','Hour_of_the_day_0', 'Hour_of_the_day_1',\n",
    "       'Hour_of_the_day_2', 'Hour_of_the_day_3', 'Hour_of_the_day_4',\n",
    "       'Hour_of_the_day_5', 'BRAND_FLG_0', 'BRAND_FLG_1','DAY_OF_WEEK_0', 'DAY_OF_WEEK_1', 'DAY_OF_WEEK_2',\n",
    "       'DAY_OF_WEEK_3', 'DAY_OF_WEEK_4', 'DAY_OF_WEEK_5', 'DAY_OF_WEEK_6','CLUSTER']]\n",
    "predict = test[['MENGE_CALL', 'MENGE_ECOM',\n",
    "        'MENGE_FREI_SHOWBEGINN','Hour_of_the_day_0', 'Hour_of_the_day_1',\n",
    "       'Hour_of_the_day_2', 'Hour_of_the_day_3', 'Hour_of_the_day_4',\n",
    "       'Hour_of_the_day_5', 'BRAND_FLG_0', 'BRAND_FLG_1','DAY_OF_WEEK_0', 'DAY_OF_WEEK_1', 'DAY_OF_WEEK_2',\n",
    "       'DAY_OF_WEEK_3', 'DAY_OF_WEEK_4', 'DAY_OF_WEEK_5', 'DAY_OF_WEEK_6','CLUSTER']]\n",
    "\n",
    "from sklearn.model_selection import train_test_split\n",
    "from sklearn.preprocessing import StandardScaler\n",
    "\n",
    "\n",
    "target = training[[\"SOLD_OUT_FLG\"]]\n",
    "scaler = StandardScaler()\n",
    "# Fit on the training data\n",
    "\n",
    "X, X_test, y, y_test = train_test_split(features, target, test_size = 0.2, random_state = 42)\n",
    "scaler.fit(X)\n",
    "X = scaler.transform(X)\n",
    "X_test = scaler.transform(X_test)\n",
    "predict = scaler.transform(predict)\n",
    "\n",
    "print(X.shape)\n",
    "print(X_test.shape)\n",
    "print(y.shape)\n",
    "print(y_test.shape)\n",
    "\n",
    "from sklearn.linear_model import LogisticRegression\n",
    "\n",
    "LR = LogisticRegression()\n",
    "\n",
    "LR.fit(X, y)\n",
    "\n",
    "print(LR.score(X_test, y_test))\n",
    "# print(model.score(X_training, y_training)) \n",
    "# shows how many percent of the dataset was predicted correctly\n",
    "\n",
    "y_pred = LR.predict(X_test)\n",
    "\n",
    "from sklearn.metrics import matthews_corrcoef\n",
    "\n",
    "matthews_corrcoef(y_test, y_pred)\n",
    "### this model get 0.81013 in Kaggle > 0.77 here"
   ]
  },
  {
   "cell_type": "code",
   "execution_count": 151,
   "metadata": {},
   "outputs": [
    {
     "name": "stdout",
     "output_type": "stream",
     "text": [
      "247.0\n"
     ]
    }
   ],
   "source": [
    "y_predictionLR = LR.predict(predict)\n",
    "print(sum(y_predictionLR))"
   ]
  },
  {
   "cell_type": "code",
   "execution_count": 152,
   "metadata": {},
   "outputs": [],
   "source": [
    "z = test.drop(\"SOLD_OUT_FLG\", axis =1).copy()\n",
    "z[\"SOLD_OUT_FLG\"]  = y_predictionLR\n",
    "z[\"SOLD_OUT_FLG\"]=z[\"SOLD_OUT_FLG\"] .astype('int')\n",
    "hahaha = z[[\"OBS_ID\",\"SOLD_OUT_FLG\"]]\n",
    "hahaha.to_csv(\"result_new_8.12_cluster.csv\", encoding='cp1252',index=False,index_label=None)"
   ]
  },
  {
   "cell_type": "code",
   "execution_count": 100,
   "metadata": {},
   "outputs": [
    {
     "ename": "ModuleNotFoundError",
     "evalue": "No module named 'xgboost'",
     "output_type": "error",
     "traceback": [
      "\u001b[1;31m---------------------------------------------------------------------------\u001b[0m",
      "\u001b[1;31mModuleNotFoundError\u001b[0m                       Traceback (most recent call last)",
      "\u001b[1;32m<ipython-input-100-fcf2f08f9e35>\u001b[0m in \u001b[0;36m<module>\u001b[1;34m()\u001b[0m\n\u001b[1;32m----> 1\u001b[1;33m \u001b[1;32mimport\u001b[0m \u001b[0mxgboost\u001b[0m \u001b[1;32mas\u001b[0m \u001b[0mxgb\u001b[0m\u001b[1;33m\u001b[0m\u001b[0m\n\u001b[0m\u001b[0;32m      2\u001b[0m \u001b[1;33m\u001b[0m\u001b[0m\n\u001b[0;32m      3\u001b[0m model = xgb.XGBClassifier(nthread=4,     \n\u001b[0;32m      4\u001b[0m                           \u001b[0mlearning_rate\u001b[0m\u001b[1;33m=\u001b[0m\u001b[1;36m0.007\u001b[0m\u001b[1;33m,\u001b[0m\u001b[1;33m\u001b[0m\u001b[0m\n\u001b[0;32m      5\u001b[0m                           \u001b[0mn_estimators\u001b[0m\u001b[1;33m=\u001b[0m\u001b[1;36m2000\u001b[0m\u001b[1;33m,\u001b[0m\u001b[1;33m\u001b[0m\u001b[0m\n",
      "\u001b[1;31mModuleNotFoundError\u001b[0m: No module named 'xgboost'"
     ]
    }
   ],
   "source": [
    "#import xgboost as xgb\n",
    "\n",
    "#model = xgb.XGBClassifier(nthread=4,     \n",
    "                          #learning_rate=0.007,   \n",
    "                          #n_estimators=2000,       \n",
    "                          #max_depth=6,          \n",
    "                          #gamma=4,              \n",
    "                          #subsample=0.35,       \n",
    "                          #colsample_bytree=0.85) \n",
    "#model.fit(X, y)\n",
    "#y_pred_test = model.predict(X_test)\n",
    "#from sklearn.metrics import matthews_corrcoef\n",
    "#matthews_corrcoef(y_test, y_pred_test) \n",
    "####but the result from this model get only 0.76410 in Kaggle < 0.78 here, so its a big problem"
   ]
  },
  {
   "cell_type": "code",
   "execution_count": 101,
   "metadata": {},
   "outputs": [
    {
     "ename": "ValueError",
     "evalue": "Incorrect number of features. Got 19 features, expected 2",
     "output_type": "error",
     "traceback": [
      "\u001b[1;31m---------------------------------------------------------------------------\u001b[0m",
      "\u001b[1;31mValueError\u001b[0m                                Traceback (most recent call last)",
      "\u001b[1;32m<ipython-input-101-fe6db0d599bb>\u001b[0m in \u001b[0;36m<module>\u001b[1;34m()\u001b[0m\n\u001b[1;32m----> 1\u001b[1;33m \u001b[0my_predictionxgb\u001b[0m \u001b[1;33m=\u001b[0m  \u001b[0mmodel\u001b[0m\u001b[1;33m.\u001b[0m\u001b[0mpredict\u001b[0m\u001b[1;33m(\u001b[0m\u001b[0mpredict\u001b[0m\u001b[1;33m)\u001b[0m\u001b[1;33m\u001b[0m\u001b[0m\n\u001b[0m\u001b[0;32m      2\u001b[0m \u001b[0mprint\u001b[0m\u001b[1;33m(\u001b[0m\u001b[0msum\u001b[0m\u001b[1;33m(\u001b[0m\u001b[0my_predictionxgb\u001b[0m\u001b[1;33m)\u001b[0m\u001b[1;33m)\u001b[0m\u001b[1;33m\u001b[0m\u001b[0m\n",
      "\u001b[1;32m~\\Anaconda3\\lib\\site-packages\\sklearn\\cluster\\k_means_.py\u001b[0m in \u001b[0;36mpredict\u001b[1;34m(self, X)\u001b[0m\n\u001b[0;32m    986\u001b[0m         \u001b[0mcheck_is_fitted\u001b[0m\u001b[1;33m(\u001b[0m\u001b[0mself\u001b[0m\u001b[1;33m,\u001b[0m \u001b[1;34m'cluster_centers_'\u001b[0m\u001b[1;33m)\u001b[0m\u001b[1;33m\u001b[0m\u001b[0m\n\u001b[0;32m    987\u001b[0m \u001b[1;33m\u001b[0m\u001b[0m\n\u001b[1;32m--> 988\u001b[1;33m         \u001b[0mX\u001b[0m \u001b[1;33m=\u001b[0m \u001b[0mself\u001b[0m\u001b[1;33m.\u001b[0m\u001b[0m_check_test_data\u001b[0m\u001b[1;33m(\u001b[0m\u001b[0mX\u001b[0m\u001b[1;33m)\u001b[0m\u001b[1;33m\u001b[0m\u001b[0m\n\u001b[0m\u001b[0;32m    989\u001b[0m         \u001b[0mx_squared_norms\u001b[0m \u001b[1;33m=\u001b[0m \u001b[0mrow_norms\u001b[0m\u001b[1;33m(\u001b[0m\u001b[0mX\u001b[0m\u001b[1;33m,\u001b[0m \u001b[0msquared\u001b[0m\u001b[1;33m=\u001b[0m\u001b[1;32mTrue\u001b[0m\u001b[1;33m)\u001b[0m\u001b[1;33m\u001b[0m\u001b[0m\n\u001b[0;32m    990\u001b[0m         \u001b[1;32mreturn\u001b[0m \u001b[0m_labels_inertia\u001b[0m\u001b[1;33m(\u001b[0m\u001b[0mX\u001b[0m\u001b[1;33m,\u001b[0m \u001b[0mx_squared_norms\u001b[0m\u001b[1;33m,\u001b[0m \u001b[0mself\u001b[0m\u001b[1;33m.\u001b[0m\u001b[0mcluster_centers_\u001b[0m\u001b[1;33m)\u001b[0m\u001b[1;33m[\u001b[0m\u001b[1;36m0\u001b[0m\u001b[1;33m]\u001b[0m\u001b[1;33m\u001b[0m\u001b[0m\n",
      "\u001b[1;32m~\\Anaconda3\\lib\\site-packages\\sklearn\\cluster\\k_means_.py\u001b[0m in \u001b[0;36m_check_test_data\u001b[1;34m(self, X)\u001b[0m\n\u001b[0;32m    869\u001b[0m             raise ValueError(\"Incorrect number of features. \"\n\u001b[0;32m    870\u001b[0m                              \"Got %d features, expected %d\" % (\n\u001b[1;32m--> 871\u001b[1;33m                                  n_features, expected_n_features))\n\u001b[0m\u001b[0;32m    872\u001b[0m \u001b[1;33m\u001b[0m\u001b[0m\n\u001b[0;32m    873\u001b[0m         \u001b[1;32mreturn\u001b[0m \u001b[0mX\u001b[0m\u001b[1;33m\u001b[0m\u001b[0m\n",
      "\u001b[1;31mValueError\u001b[0m: Incorrect number of features. Got 19 features, expected 2"
     ]
    }
   ],
   "source": [
    "#y_predictionxgb =  model.predict(predict)\n",
    "#print(sum(y_predictionxgb))"
   ]
  },
  {
   "cell_type": "code",
   "execution_count": 102,
   "metadata": {},
   "outputs": [
    {
     "ename": "NameError",
     "evalue": "name 'y_predictionxgb' is not defined",
     "output_type": "error",
     "traceback": [
      "\u001b[1;31m---------------------------------------------------------------------------\u001b[0m",
      "\u001b[1;31mNameError\u001b[0m                                 Traceback (most recent call last)",
      "\u001b[1;32m<ipython-input-102-a428d7a4a870>\u001b[0m in \u001b[0;36m<module>\u001b[1;34m()\u001b[0m\n\u001b[0;32m      1\u001b[0m \u001b[0mz\u001b[0m \u001b[1;33m=\u001b[0m \u001b[0mtest\u001b[0m\u001b[1;33m.\u001b[0m\u001b[0mdrop\u001b[0m\u001b[1;33m(\u001b[0m\u001b[1;34m\"SOLD_OUT_FLG\"\u001b[0m\u001b[1;33m,\u001b[0m \u001b[0maxis\u001b[0m \u001b[1;33m=\u001b[0m\u001b[1;36m1\u001b[0m\u001b[1;33m)\u001b[0m\u001b[1;33m.\u001b[0m\u001b[0mcopy\u001b[0m\u001b[1;33m(\u001b[0m\u001b[1;33m)\u001b[0m\u001b[1;33m\u001b[0m\u001b[0m\n\u001b[1;32m----> 2\u001b[1;33m \u001b[0mz\u001b[0m\u001b[1;33m[\u001b[0m\u001b[1;34m\"SOLD_OUT_FLG\"\u001b[0m\u001b[1;33m]\u001b[0m  \u001b[1;33m=\u001b[0m \u001b[0my_predictionxgb\u001b[0m\u001b[1;33m\u001b[0m\u001b[0m\n\u001b[0m\u001b[0;32m      3\u001b[0m \u001b[0mhahaha\u001b[0m \u001b[1;33m=\u001b[0m \u001b[0mz\u001b[0m\u001b[1;33m[\u001b[0m\u001b[1;33m[\u001b[0m\u001b[1;34m\"OBS_ID\"\u001b[0m\u001b[1;33m,\u001b[0m\u001b[1;34m\"SOLD_OUT_FLG\"\u001b[0m\u001b[1;33m]\u001b[0m\u001b[1;33m]\u001b[0m\u001b[1;33m\u001b[0m\u001b[0m\n\u001b[0;32m      4\u001b[0m \u001b[0mhahaha\u001b[0m\u001b[1;33m.\u001b[0m\u001b[0mto_csv\u001b[0m\u001b[1;33m(\u001b[0m\u001b[1;34m\"result_new_8.12_cluster_xgb.csv\"\u001b[0m\u001b[1;33m,\u001b[0m \u001b[0mencoding\u001b[0m\u001b[1;33m=\u001b[0m\u001b[1;34m'cp1252'\u001b[0m\u001b[1;33m)\u001b[0m\u001b[1;33m\u001b[0m\u001b[0m\n",
      "\u001b[1;31mNameError\u001b[0m: name 'y_predictionxgb' is not defined"
     ]
    }
   ],
   "source": [
    "#z = test.drop(\"SOLD_OUT_FLG\", axis =1).copy()\n",
    "#z[\"SOLD_OUT_FLG\"]  = y_predictionxgb\n",
    "#hahaha = z[[\"OBS_ID\",\"SOLD_OUT_FLG\"]]\n",
    "#hahaha.to_csv(\"result_new_8.12_cluster_xgb.csv\", encoding='cp1252')"
   ]
  },
  {
   "cell_type": "code",
   "execution_count": null,
   "metadata": {},
   "outputs": [],
   "source": []
  },
  {
   "cell_type": "code",
   "execution_count": null,
   "metadata": {},
   "outputs": [],
   "source": []
  },
  {
   "cell_type": "code",
   "execution_count": null,
   "metadata": {},
   "outputs": [],
   "source": []
  }
 ],
 "metadata": {
  "kernelspec": {
   "display_name": "Python 3",
   "language": "python",
   "name": "python3"
  },
  "language_info": {
   "codemirror_mode": {
    "name": "ipython",
    "version": 3
   },
   "file_extension": ".py",
   "mimetype": "text/x-python",
   "name": "python",
   "nbconvert_exporter": "python",
   "pygments_lexer": "ipython3",
   "version": "3.7.0"
  }
 },
 "nbformat": 4,
 "nbformat_minor": 2
}

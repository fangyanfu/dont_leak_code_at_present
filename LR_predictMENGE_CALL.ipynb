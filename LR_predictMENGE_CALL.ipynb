{
 "cells": [
  {
   "cell_type": "code",
   "execution_count": 127,
   "metadata": {},
   "outputs": [],
   "source": [
    "import pandas as pd\n",
    "import numpy as np\n",
    "\n",
    "\n",
    "training_df = pd.read_csv(\"training.csv\", encoding='cp1252')\n",
    "test_df = pd.read_csv(\"test.csv\", encoding='cp1252')\n"
   ]
  },
  {
   "cell_type": "code",
   "execution_count": 128,
   "metadata": {},
   "outputs": [
    {
     "data": {
      "text/plain": [
       "1003"
      ]
     },
     "execution_count": 128,
     "metadata": {},
     "output_type": "execute_result"
    }
   ],
   "source": [
    "\n",
    "\n",
    "frames = [test_df, training_df]\n",
    "result_df = pd.concat(frames)\n",
    "len(result_df) - len(training_df)\n",
    "\n"
   ]
  },
  {
   "cell_type": "code",
   "execution_count": 129,
   "metadata": {},
   "outputs": [],
   "source": [
    "result_df.drop(['DIVISION_DESC_SORT','WGH4_DESC'],axis=1,inplace=True)"
   ]
  },
  {
   "cell_type": "code",
   "execution_count": 130,
   "metadata": {},
   "outputs": [],
   "source": [
    "result_df[\"FAKTOR\"] = result_df[\"FAKTOR\"].str.replace(',', \".\").astype(float)"
   ]
  },
  {
   "cell_type": "code",
   "execution_count": 131,
   "metadata": {},
   "outputs": [],
   "source": [
    "result_df[\"KANAL\"] = result_df[\"KANAL\"].astype('category')\n",
    "result_df.dtypes\n",
    "result_df[\"KANAL\"] = result_df[\"KANAL\"].cat.codes\n",
    "result_df[\"KANAL\"] = result_df[\"KANAL\"].astype('category')"
   ]
  },
  {
   "cell_type": "code",
   "execution_count": 132,
   "metadata": {},
   "outputs": [],
   "source": [
    "result_df['BRAND_ID'].fillna(0,inplace=True)"
   ]
  },
  {
   "cell_type": "code",
   "execution_count": 133,
   "metadata": {},
   "outputs": [],
   "source": [
    "# convert PREIS_DISCOUNT into float and fill NaN with zeros\n",
    "result_df[\"PREIS_DISCOUNT\"] = result_df[\"PREIS_DISCOUNT\"].str.replace(',', \".\").astype(float)\n",
    "result_df['PREIS_DISCOUNT'] = result_df['PREIS_DISCOUNT'].fillna(0)"
   ]
  },
  {
   "cell_type": "code",
   "execution_count": 134,
   "metadata": {},
   "outputs": [],
   "source": [
    "result_df.drop(['BEWERTUNG'],axis=1,inplace=True)"
   ]
  },
  {
   "cell_type": "code",
   "execution_count": 135,
   "metadata": {},
   "outputs": [],
   "source": [
    "result_df['MENGE_ECOM']=result_df['MENGE_ECOM'].fillna(3)"
   ]
  },
  {
   "cell_type": "code",
   "execution_count": 136,
   "metadata": {},
   "outputs": [
    {
     "data": {
      "text/plain": [
       "count    6113.000000\n",
       "mean       25.130541\n",
       "std        23.145149\n",
       "min         7.000000\n",
       "25%        11.000000\n",
       "50%        18.000000\n",
       "75%        31.000000\n",
       "max       386.000000\n",
       "Name: MENGE_CALL, dtype: float64"
      ]
     },
     "execution_count": 136,
     "metadata": {},
     "output_type": "execute_result"
    }
   ],
   "source": [
    "# Own model to simulate NA for Menge_Call & Menge_ECOM!!!\n",
    "\n",
    "result_df['MENGE_CALL'].isna().sum()\n",
    "result_df['MENGE_CALL'].describe()"
   ]
  },
  {
   "cell_type": "code",
   "execution_count": 137,
   "metadata": {},
   "outputs": [],
   "source": [
    "#result_df_df['TOTAL_AMOUNT']=result['MENGE_CALL']+result['MENGE_ECOM']\n",
    "#result_df['PERCENTAGE']=result['TOTAL_AMOUNT']/result['MENGE_FREI_SHOWBEGINN']\n"
   ]
  },
  {
   "cell_type": "code",
   "execution_count": 138,
   "metadata": {},
   "outputs": [],
   "source": [
    "result_df[\"WG_DESC\"] = result_df[\"WG_DESC\"].astype('category')\n",
    "result_df[\"WG_DESC\"] = result_df[\"WG_DESC\"].cat.codes\n",
    "result_df[\"WG_DESC\"] = result_df[\"WG_DESC\"].astype('category')"
   ]
  },
  {
   "cell_type": "code",
   "execution_count": 139,
   "metadata": {},
   "outputs": [],
   "source": [
    "result_df[\"WGH1_DESC\"] = result_df[\"WGH1_DESC\"].astype('category')\n",
    "result_df[\"WGH1_DESC\"] = result_df[\"WGH1_DESC\"].cat.codes\n",
    "result_df[\"WGH1_DESC\"] = result_df[\"WGH1_DESC\"].astype('category')"
   ]
  },
  {
   "cell_type": "code",
   "execution_count": 140,
   "metadata": {},
   "outputs": [],
   "source": [
    "result_df[\"WGH3_DESC\"] = result_df[\"WGH3_DESC\"].astype('category')\n",
    "result_df[\"WGH3_DESC\"] = result_df[\"WGH3_DESC\"].cat.codes\n",
    "result_df[\"WGH3_DESC\"] = result_df[\"WGH3_DESC\"].astype('category')"
   ]
  },
  {
   "cell_type": "code",
   "execution_count": 141,
   "metadata": {},
   "outputs": [],
   "source": [
    "result_df['PREISKLASSE_DESC']=result_df['PREISKLASSE_DESC'].str[:2]\n",
    "result_df['PREISKLASSE_DESC']=result_df['PREISKLASSE_DESC'].astype('int')"
   ]
  },
  {
   "cell_type": "code",
   "execution_count": 142,
   "metadata": {},
   "outputs": [
    {
     "data": {
      "text/plain": [
       "0       0\n",
       "1       0\n",
       "2       0\n",
       "3       0\n",
       "4       0\n",
       "5       0\n",
       "6       0\n",
       "7       0\n",
       "8       0\n",
       "9       0\n",
       "10      2\n",
       "11      2\n",
       "12      2\n",
       "13      2\n",
       "14      2\n",
       "15      0\n",
       "16      0\n",
       "17      0\n",
       "18      0\n",
       "19      0\n",
       "20      0\n",
       "21      3\n",
       "22      0\n",
       "23      0\n",
       "24      0\n",
       "25      0\n",
       "26      0\n",
       "27      0\n",
       "28      0\n",
       "29      0\n",
       "       ..\n",
       "6632    0\n",
       "6633    0\n",
       "6634    0\n",
       "6635    0\n",
       "6636    0\n",
       "6637    3\n",
       "6638    3\n",
       "6639    3\n",
       "6640    3\n",
       "6641    3\n",
       "6642    3\n",
       "6643    3\n",
       "6644    3\n",
       "6645    3\n",
       "6646    3\n",
       "6647    3\n",
       "6648    3\n",
       "6649    3\n",
       "6650    3\n",
       "6651    3\n",
       "6652    3\n",
       "6653    3\n",
       "6654    3\n",
       "6655    3\n",
       "6656    3\n",
       "6657    3\n",
       "6658    3\n",
       "6659    3\n",
       "6660    3\n",
       "6661    3\n",
       "Name: PREIS_LABEL_DESC, Length: 7665, dtype: category\n",
       "Categories (6, int64): [0, 1, 2, 3, 4, 5]"
      ]
     },
     "execution_count": 142,
     "metadata": {},
     "output_type": "execute_result"
    }
   ],
   "source": [
    "result_df['PREIS_LABEL_DESC'] = result_df['PREIS_LABEL_DESC'].fillna(0)\n",
    "result_df[\"PREIS_LABEL_DESC\"]= result_df[\"PREIS_LABEL_DESC\"].astype('category')\n",
    "result_df['PREIS_LABEL_DESC'] = result_df['PREIS_LABEL_DESC'].cat.codes\n",
    "result_df[\"PREIS_LABEL_DESC\"]= result_df[\"PREIS_LABEL_DESC\"].astype('category')\n",
    "result_df[\"PREIS_LABEL_DESC\"]"
   ]
  },
  {
   "cell_type": "code",
   "execution_count": 143,
   "metadata": {},
   "outputs": [
    {
     "data": {
      "text/plain": [
       "0        86\n",
       "1        86\n",
       "2        54\n",
       "3        86\n",
       "4        98\n",
       "5        98\n",
       "6        13\n",
       "7        13\n",
       "8        13\n",
       "9        13\n",
       "10        1\n",
       "11       61\n",
       "12       61\n",
       "13       86\n",
       "14       86\n",
       "15       79\n",
       "16       79\n",
       "17       79\n",
       "18       79\n",
       "19       61\n",
       "20        7\n",
       "21      102\n",
       "22       90\n",
       "23        5\n",
       "24       86\n",
       "25       94\n",
       "26       34\n",
       "27       54\n",
       "28       54\n",
       "29       90\n",
       "       ... \n",
       "6632      7\n",
       "6633      7\n",
       "6634      7\n",
       "6635      7\n",
       "6636      7\n",
       "6637      3\n",
       "6638      3\n",
       "6639      3\n",
       "6640      3\n",
       "6641      3\n",
       "6642      3\n",
       "6643      3\n",
       "6644      3\n",
       "6645      3\n",
       "6646     86\n",
       "6647     86\n",
       "6648     86\n",
       "6649     86\n",
       "6650     86\n",
       "6651     86\n",
       "6652     86\n",
       "6653     98\n",
       "6654     98\n",
       "6655     98\n",
       "6656     98\n",
       "6657     98\n",
       "6658     98\n",
       "6659     98\n",
       "6660     98\n",
       "6661     98\n",
       "Name: FARBE, Length: 7665, dtype: category\n",
       "Categories (105, int64): [0, 1, 2, 3, ..., 101, 102, 103, 104]"
      ]
     },
     "execution_count": 143,
     "metadata": {},
     "output_type": "execute_result"
    }
   ],
   "source": [
    "result_df[\"FARBE\"] = result_df[\"FARBE\"].astype('category')\n",
    "result_df[\"FARBE\"] = result_df[\"FARBE\"].cat.codes\n",
    "result_df[\"FARBE\"]= result_df[\"FARBE\"].astype('category')\n",
    "result_df[\"FARBE\"]"
   ]
  },
  {
   "cell_type": "code",
   "execution_count": 144,
   "metadata": {},
   "outputs": [],
   "source": [
    "result_df['SHOW_DATUM']=pd.to_datetime(result_df['SHOW_DATUM'])\n",
    "result_df['DAY_OF_WEEK'] = result_df['SHOW_DATUM'].dt.day_name()\n",
    "result_df[\"DAY_OF_WEEK\"] = result_df[\"DAY_OF_WEEK\"].astype('category')\n",
    "result_df[\"DAY_OF_WEEK\"] = result_df[\"DAY_OF_WEEK\"].cat.codes\n",
    "result_df[\"DAY_OF_WEEK\"] = result_df[\"DAY_OF_WEEK\"].astype('category')\n",
    "\n",
    "def from_hour_to_time_slot(x):\n",
    "    if 7 <= x < 9:\n",
    "        return \"MORNING TIME\"\n",
    "    elif 9 <= x <17:\n",
    "        return \"DAYTIME\"\n",
    "    elif 17 <= x < 20:\n",
    "        return \"EARLY PRIME TIME\"\n",
    "    elif 20 <= x < 23:\n",
    "        return \"PRIME TIME\"\n",
    "    elif 1 <= x < 7:\n",
    "        return \"LATE NIGHT\"\n",
    "    else:\n",
    "        return \"LATE PRIME TIME\"\n",
    "\n",
    "result_df['Hour_of_the_day'] = result_df['SHOW_DATUM'].dt.hour\n",
    "result_df.Hour_of_the_day = result_df.Hour_of_the_day.map(from_hour_to_time_slot)\n",
    "result_df.Hour_of_the_day.unique()\n",
    "result_df[\"Hour_of_the_day\"] = result_df[\"Hour_of_the_day\"].astype('category')\n",
    "result_df[\"Hour_of_the_day\"] = result_df[\"Hour_of_the_day\"].cat.codes\n",
    "result_df[\"Hour_of_the_day\"] = result_df[\"Hour_of_the_day\"].astype('category')\n",
    "\n",
    "result_df.drop(['SHOW_DATUM'],axis=1,inplace=True)\n",
    "result_df.drop(['WGH4_ID'],axis=1,inplace=True)"
   ]
  },
  {
   "cell_type": "code",
   "execution_count": 146,
   "metadata": {},
   "outputs": [],
   "source": [
    "\n",
    "# DATE and WEEKDAY\n",
    "result_df['SHOW_DATUM']=pd.to_datetime(training_df['SHOW_DATUM'])\n",
    "result_df['DAY_OF_WEEK'] = result_df['SHOW_DATUM'].dt.day_name()\n",
    "result_df[\"DAY_OF_WEEK\"].replace(['Monday'],1,inplace=True)\n",
    "result_df[\"DAY_OF_WEEK\"].replace(['Tuesday'],2,inplace=True)\n",
    "result_df[\"DAY_OF_WEEK\"].replace(['Wednesday'],3,inplace=True)\n",
    "result_df[\"DAY_OF_WEEK\"].replace(['Thursday'],4,inplace=True)\n",
    "result_df[\"DAY_OF_WEEK\"].replace(['Friday'],5,inplace=True)\n",
    "result_df[\"DAY_OF_WEEK\"].replace(['Saturday'],6,inplace=True)\n",
    "result_df[\"DAY_OF_WEEK\"].replace(['Sunday'],7,inplace=True)"
   ]
  },
  {
   "cell_type": "code",
   "execution_count": 147,
   "metadata": {},
   "outputs": [],
   "source": [
    "# convert GROESSE into category variable, fill NaN with zero and merge certain data\n",
    "\n",
    "result_df['GROESSE'] = result_df['GROESSE'].fillna(0)\n",
    "result_df['GROESSE'].replace('ONESIZE','ONE SIZE',inplace=True)\n",
    "result_df['GROESSE'].replace('A',0,inplace=True)\n",
    "result_df['GROESSE'].replace('B',0,inplace=True)\n",
    "result_df[\"GROESSE\"] = result_df[\"GROESSE\"].astype('category')\n",
    "result_df['GROESSE'] = result_df['GROESSE'].cat.codes\n"
   ]
  },
  {
   "cell_type": "code",
   "execution_count": 148,
   "metadata": {},
   "outputs": [],
   "source": [
    "result_df['NEW_ITEM_FLG'].fillna(0,inplace=True)\n",
    "result_df['AIRING_23_FLG'].fillna(0,inplace=True)\n",
    "result_df['AIRING_456_FLG'].fillna(0,inplace=True)\n",
    "result_df['AIRING_23_FLG'].replace(1,2,inplace=True)\n",
    "result_df['AIRING_456_FLG'].replace(1,4,inplace=True)\n",
    "result_df['AIRING']=result_df['NEW_ITEM_FLG']+result_df['AIRING_23_FLG']+result_df['AIRING_456_FLG']\n",
    "\n",
    "\n",
    "result_df[\"AIRING\"] = result_df[\"AIRING\"].astype('category')\n",
    "result_df[\"AIRING\"] = result_df[\"AIRING\"].cat.codes\n",
    "result_df[\"AIRING\"] = result_df[\"AIRING\"].astype('category')\n",
    "\n",
    "\n",
    "\n",
    "result_df[\"ADT_FLG\"] = result_df[\"ADT_FLG\"].astype('category')\n",
    "result_df[\"ADT_FLG\"] = result_df[\"ADT_FLG\"].cat.codes\n",
    "result_df[\"ADT_FLG\"] = result_df[\"ADT_FLG\"].astype('category')"
   ]
  },
  {
   "cell_type": "code",
   "execution_count": 149,
   "metadata": {},
   "outputs": [],
   "source": [
    "training_for_menge_call = result_df[result_df[\"MENGE_CALL\"].isna()==False].copy()\n",
    "test_for_menge_call = result_df[result_df[\"MENGE_CALL\"].isna()==True].copy()"
   ]
  },
  {
   "cell_type": "code",
   "execution_count": 150,
   "metadata": {},
   "outputs": [],
   "source": [
    "training_for_menge_call.drop([\"BESTELL_ID\",\"ARTIKEL_ID\",\"WG_ID\",\"WGH1_ID\",\"PREIS_LABEL_DESC\"],axis=1,inplace=True)\n",
    "test_for_menge_call.drop([\"BESTELL_ID\",\"ARTIKEL_ID\",\"WG_ID\",\"WGH1_ID\",\"PREIS_LABEL_DESC\"],axis=1,inplace=True)"
   ]
  },
  {
   "cell_type": "code",
   "execution_count": 151,
   "metadata": {},
   "outputs": [],
   "source": [
    "features = training_for_menge_call[[\"PREIS_DISCOUNT\",\"KANAL\",\"FAKTOR\",\"WGH3_DESC\",\n",
    "                     \"Hour_of_the_day\",\"DAY_OF_WEEK\",\"AIRING\",\"ADT_FLG\",\"ONAIR_SEKUNDEN\",\n",
    "                     \"MENGE_FREI_SHOWBEGINN\",\"GROESSE\",\"FARBE\",\"MENGE_ECOM\"]]\n",
    "target= training_for_menge_call[[\"MENGE_CALL\"]].astype('float')"
   ]
  },
  {
   "cell_type": "code",
   "execution_count": 152,
   "metadata": {},
   "outputs": [],
   "source": [
    "predict= test_for_menge_call[[\"PREIS_DISCOUNT\",\"KANAL\",\"FAKTOR\",\"WGH3_DESC\",\n",
    "                     \"Hour_of_the_day\",\"DAY_OF_WEEK\",\"AIRING\",\"ADT_FLG\",\"ONAIR_SEKUNDEN\",\n",
    "                     \"MENGE_FREI_SHOWBEGINN\",\"GROESSE\",\"FARBE\",\"MENGE_ECOM\"]]"
   ]
  },
  {
   "cell_type": "code",
   "execution_count": 153,
   "metadata": {},
   "outputs": [
    {
     "name": "stdout",
     "output_type": "stream",
     "text": [
      "<class 'pandas.core.frame.DataFrame'>\n",
      "Int64Index: 6113 entries, 0 to 6661\n",
      "Data columns (total 1 columns):\n",
      "MENGE_CALL    6113 non-null float64\n",
      "dtypes: float64(1)\n",
      "memory usage: 95.5 KB\n"
     ]
    }
   ],
   "source": [
    "target.info()"
   ]
  },
  {
   "cell_type": "code",
   "execution_count": 154,
   "metadata": {},
   "outputs": [
    {
     "name": "stdout",
     "output_type": "stream",
     "text": [
      "(4279, 13)\n",
      "(1834, 13)\n",
      "(4279, 1)\n",
      "(1834, 1)\n"
     ]
    }
   ],
   "source": [
    "from sklearn.model_selection import train_test_split\n",
    "from sklearn.preprocessing import StandardScaler\n",
    "\n",
    "scaler = StandardScaler()\n",
    "# Fit on the training data\n",
    "\n",
    "\n",
    "X,X_test, y, y_test = train_test_split(features, target, test_size = 0.3, random_state = 42)\n",
    "scaler.fit(X)\n",
    "\n",
    "X = scaler.transform(X)\n",
    "X_test = scaler.transform(X_test)\n",
    "y_pred= scaler.transform(predict)\n",
    "\n",
    "print(X.shape)\n",
    "print(X_test.shape)\n",
    "print(y.shape)\n",
    "print(y_test.shape)"
   ]
  },
  {
   "cell_type": "code",
   "execution_count": 155,
   "metadata": {},
   "outputs": [
    {
     "name": "stderr",
     "output_type": "stream",
     "text": [
      "C:\\Users\\Irina\\Anaconda3\\lib\\site-packages\\sklearn\\utils\\validation.py:578: DataConversionWarning: A column-vector y was passed when a 1d array was expected. Please change the shape of y to (n_samples, ), for example using ravel().\n",
      "  y = column_or_1d(y, warn=True)\n"
     ]
    },
    {
     "name": "stdout",
     "output_type": "stream",
     "text": [
      "0.061613958560523444\n",
      "0.09488198177144193\n"
     ]
    },
    {
     "data": {
      "text/plain": [
       "0.021619610396478785"
      ]
     },
     "execution_count": 155,
     "metadata": {},
     "output_type": "execute_result"
    }
   ],
   "source": [
    "from sklearn.linear_model import LogisticRegression\n",
    "\n",
    "LR = LogisticRegression()\n",
    "\n",
    "LR.fit(X, y)\n",
    "\n",
    "print(LR.score(X_test, y_test))\n",
    "print(LR.score(X, y)) \n",
    "# shows how many percent of the dataset was predicted correctly\n",
    "\n",
    "y_pred = LR.predict(X_test)\n",
    "\n",
    "from sklearn.metrics import matthews_corrcoef\n",
    "\n",
    "matthews_corrcoef(y_test, y_pred)"
   ]
  },
  {
   "cell_type": "code",
   "execution_count": 156,
   "metadata": {},
   "outputs": [],
   "source": [
    "y_predictionLR = LR.predict(predict)"
   ]
  },
  {
   "cell_type": "code",
   "execution_count": 157,
   "metadata": {},
   "outputs": [
    {
     "name": "stdout",
     "output_type": "stream",
     "text": [
      "96078.0\n"
     ]
    }
   ],
   "source": [
    "print(sum(y_predictionLR))"
   ]
  },
  {
   "cell_type": "code",
   "execution_count": 158,
   "metadata": {},
   "outputs": [],
   "source": [
    "z = test_for_menge_call.drop(\"MENGE_CALL\", axis =1).copy()"
   ]
  },
  {
   "cell_type": "code",
   "execution_count": 159,
   "metadata": {},
   "outputs": [],
   "source": [
    "z[\"MENGE_CALL_new\"] = y_predictionLR\n",
    "z[\"MENGE_CALL_new\"]=z[\"MENGE_CALL_new\"] .astype('int')"
   ]
  },
  {
   "cell_type": "code",
   "execution_count": 160,
   "metadata": {},
   "outputs": [
    {
     "data": {
      "text/html": [
       "<div>\n",
       "<style scoped>\n",
       "    .dataframe tbody tr th:only-of-type {\n",
       "        vertical-align: middle;\n",
       "    }\n",
       "\n",
       "    .dataframe tbody tr th {\n",
       "        vertical-align: top;\n",
       "    }\n",
       "\n",
       "    .dataframe thead th {\n",
       "        text-align: right;\n",
       "    }\n",
       "</style>\n",
       "<table border=\"1\" class=\"dataframe\">\n",
       "  <thead>\n",
       "    <tr style=\"text-align: right;\">\n",
       "      <th></th>\n",
       "      <th>OBS_ID</th>\n",
       "      <th>MENGE_CALL_new</th>\n",
       "    </tr>\n",
       "  </thead>\n",
       "  <tbody>\n",
       "    <tr>\n",
       "      <th>count</th>\n",
       "      <td>1552.000000</td>\n",
       "      <td>1552.000000</td>\n",
       "    </tr>\n",
       "    <tr>\n",
       "      <th>mean</th>\n",
       "      <td>208283.788015</td>\n",
       "      <td>61.905928</td>\n",
       "    </tr>\n",
       "    <tr>\n",
       "      <th>std</th>\n",
       "      <td>79953.729314</td>\n",
       "      <td>6.557796</td>\n",
       "    </tr>\n",
       "    <tr>\n",
       "      <th>min</th>\n",
       "      <td>11.000000</td>\n",
       "      <td>45.000000</td>\n",
       "    </tr>\n",
       "    <tr>\n",
       "      <th>25%</th>\n",
       "      <td>236579.750000</td>\n",
       "      <td>52.000000</td>\n",
       "    </tr>\n",
       "    <tr>\n",
       "      <th>50%</th>\n",
       "      <td>238483.500000</td>\n",
       "      <td>64.000000</td>\n",
       "    </tr>\n",
       "    <tr>\n",
       "      <th>75%</th>\n",
       "      <td>240727.000000</td>\n",
       "      <td>66.000000</td>\n",
       "    </tr>\n",
       "    <tr>\n",
       "      <th>max</th>\n",
       "      <td>242346.000000</td>\n",
       "      <td>108.000000</td>\n",
       "    </tr>\n",
       "  </tbody>\n",
       "</table>\n",
       "</div>"
      ],
      "text/plain": [
       "              OBS_ID  MENGE_CALL_new\n",
       "count    1552.000000     1552.000000\n",
       "mean   208283.788015       61.905928\n",
       "std     79953.729314        6.557796\n",
       "min        11.000000       45.000000\n",
       "25%    236579.750000       52.000000\n",
       "50%    238483.500000       64.000000\n",
       "75%    240727.000000       66.000000\n",
       "max    242346.000000      108.000000"
      ]
     },
     "execution_count": 160,
     "metadata": {},
     "output_type": "execute_result"
    }
   ],
   "source": [
    "result_menge_call =z[[\"OBS_ID\",\"MENGE_CALL_new\"]]\n",
    "result_menge_call.describe()"
   ]
  },
  {
   "cell_type": "code",
   "execution_count": 169,
   "metadata": {},
   "outputs": [
    {
     "data": {
      "text/html": [
       "<div>\n",
       "<style scoped>\n",
       "    .dataframe tbody tr th:only-of-type {\n",
       "        vertical-align: middle;\n",
       "    }\n",
       "\n",
       "    .dataframe tbody tr th {\n",
       "        vertical-align: top;\n",
       "    }\n",
       "\n",
       "    .dataframe thead th {\n",
       "        text-align: right;\n",
       "    }\n",
       "</style>\n",
       "<table border=\"1\" class=\"dataframe\">\n",
       "  <thead>\n",
       "    <tr style=\"text-align: right;\">\n",
       "      <th></th>\n",
       "      <th>OBS_ID</th>\n",
       "      <th>SHOW_ID</th>\n",
       "      <th>FAKTOR</th>\n",
       "      <th>WORDING_ID</th>\n",
       "      <th>BRAND_FLG</th>\n",
       "      <th>BRAND_ID</th>\n",
       "      <th>WDHL_FLG</th>\n",
       "      <th>SHOW_POSITION</th>\n",
       "      <th>NEW_ITEM_FLG</th>\n",
       "      <th>AIRING_23_FLG</th>\n",
       "      <th>...</th>\n",
       "      <th>PREIS_DISCOUNT</th>\n",
       "      <th>ANZ_ARTIKEL_ID</th>\n",
       "      <th>ONAIR_SEKUNDEN</th>\n",
       "      <th>MENGE_CALL</th>\n",
       "      <th>MENGE_ECOM</th>\n",
       "      <th>PREISKLASSE_DESC</th>\n",
       "      <th>GROESSE</th>\n",
       "      <th>MENGE_FREI_SHOWBEGINN</th>\n",
       "      <th>SOLD_OUT_FLG</th>\n",
       "      <th>DAY_OF_WEEK</th>\n",
       "    </tr>\n",
       "  </thead>\n",
       "  <tbody>\n",
       "    <tr>\n",
       "      <th>count</th>\n",
       "      <td>1552.000000</td>\n",
       "      <td>1552.000000</td>\n",
       "      <td>1552.000000</td>\n",
       "      <td>1552.000000</td>\n",
       "      <td>1552.000000</td>\n",
       "      <td>1552.000000</td>\n",
       "      <td>1552.000000</td>\n",
       "      <td>1552.000000</td>\n",
       "      <td>1552.000000</td>\n",
       "      <td>1552.000000</td>\n",
       "      <td>...</td>\n",
       "      <td>1552.000000</td>\n",
       "      <td>1552.000000</td>\n",
       "      <td>1552.000000</td>\n",
       "      <td>0.0</td>\n",
       "      <td>1552.000000</td>\n",
       "      <td>1552.000000</td>\n",
       "      <td>1552.000000</td>\n",
       "      <td>1552.000000</td>\n",
       "      <td>1352.000000</td>\n",
       "      <td>1552.000000</td>\n",
       "    </tr>\n",
       "    <tr>\n",
       "      <th>mean</th>\n",
       "      <td>208283.788015</td>\n",
       "      <td>389875.379510</td>\n",
       "      <td>1.326224</td>\n",
       "      <td>28042.195876</td>\n",
       "      <td>0.670747</td>\n",
       "      <td>10.788660</td>\n",
       "      <td>0.036082</td>\n",
       "      <td>6.981314</td>\n",
       "      <td>0.456830</td>\n",
       "      <td>0.715206</td>\n",
       "      <td>...</td>\n",
       "      <td>11.473499</td>\n",
       "      <td>219.308634</td>\n",
       "      <td>7.117268</td>\n",
       "      <td>NaN</td>\n",
       "      <td>1.088273</td>\n",
       "      <td>4.746778</td>\n",
       "      <td>28.322165</td>\n",
       "      <td>37.931701</td>\n",
       "      <td>0.089497</td>\n",
       "      <td>4.109536</td>\n",
       "    </tr>\n",
       "    <tr>\n",
       "      <th>std</th>\n",
       "      <td>79953.729314</td>\n",
       "      <td>18850.313689</td>\n",
       "      <td>0.341747</td>\n",
       "      <td>5188.451747</td>\n",
       "      <td>0.470093</td>\n",
       "      <td>8.465148</td>\n",
       "      <td>0.186555</td>\n",
       "      <td>4.674199</td>\n",
       "      <td>0.498293</td>\n",
       "      <td>0.958898</td>\n",
       "      <td>...</td>\n",
       "      <td>15.002896</td>\n",
       "      <td>72.679521</td>\n",
       "      <td>6.780555</td>\n",
       "      <td>NaN</td>\n",
       "      <td>1.580202</td>\n",
       "      <td>1.445214</td>\n",
       "      <td>8.130739</td>\n",
       "      <td>53.292986</td>\n",
       "      <td>0.285565</td>\n",
       "      <td>1.890861</td>\n",
       "    </tr>\n",
       "    <tr>\n",
       "      <th>min</th>\n",
       "      <td>11.000000</td>\n",
       "      <td>370117.000000</td>\n",
       "      <td>0.900000</td>\n",
       "      <td>11945.000000</td>\n",
       "      <td>0.000000</td>\n",
       "      <td>0.000000</td>\n",
       "      <td>0.000000</td>\n",
       "      <td>1.000000</td>\n",
       "      <td>0.000000</td>\n",
       "      <td>0.000000</td>\n",
       "      <td>...</td>\n",
       "      <td>0.000000</td>\n",
       "      <td>73.000000</td>\n",
       "      <td>0.000000</td>\n",
       "      <td>NaN</td>\n",
       "      <td>0.000000</td>\n",
       "      <td>1.000000</td>\n",
       "      <td>0.000000</td>\n",
       "      <td>7.000000</td>\n",
       "      <td>0.000000</td>\n",
       "      <td>1.000000</td>\n",
       "    </tr>\n",
       "    <tr>\n",
       "      <th>25%</th>\n",
       "      <td>236579.750000</td>\n",
       "      <td>374355.000000</td>\n",
       "      <td>1.100000</td>\n",
       "      <td>24475.000000</td>\n",
       "      <td>0.000000</td>\n",
       "      <td>0.000000</td>\n",
       "      <td>0.000000</td>\n",
       "      <td>3.000000</td>\n",
       "      <td>0.000000</td>\n",
       "      <td>0.000000</td>\n",
       "      <td>...</td>\n",
       "      <td>0.000000</td>\n",
       "      <td>163.000000</td>\n",
       "      <td>3.000000</td>\n",
       "      <td>NaN</td>\n",
       "      <td>0.000000</td>\n",
       "      <td>3.000000</td>\n",
       "      <td>24.000000</td>\n",
       "      <td>12.000000</td>\n",
       "      <td>0.000000</td>\n",
       "      <td>3.000000</td>\n",
       "    </tr>\n",
       "    <tr>\n",
       "      <th>50%</th>\n",
       "      <td>238483.500000</td>\n",
       "      <td>379111.000000</td>\n",
       "      <td>1.200000</td>\n",
       "      <td>26517.000000</td>\n",
       "      <td>1.000000</td>\n",
       "      <td>12.000000</td>\n",
       "      <td>0.000000</td>\n",
       "      <td>6.000000</td>\n",
       "      <td>0.000000</td>\n",
       "      <td>0.000000</td>\n",
       "      <td>...</td>\n",
       "      <td>9.990000</td>\n",
       "      <td>203.000000</td>\n",
       "      <td>5.000000</td>\n",
       "      <td>NaN</td>\n",
       "      <td>0.000000</td>\n",
       "      <td>5.000000</td>\n",
       "      <td>26.000000</td>\n",
       "      <td>23.000000</td>\n",
       "      <td>0.000000</td>\n",
       "      <td>4.000000</td>\n",
       "    </tr>\n",
       "    <tr>\n",
       "      <th>75%</th>\n",
       "      <td>240727.000000</td>\n",
       "      <td>414698.000000</td>\n",
       "      <td>1.400000</td>\n",
       "      <td>34145.750000</td>\n",
       "      <td>1.000000</td>\n",
       "      <td>20.000000</td>\n",
       "      <td>0.000000</td>\n",
       "      <td>10.000000</td>\n",
       "      <td>1.000000</td>\n",
       "      <td>2.000000</td>\n",
       "      <td>...</td>\n",
       "      <td>20.000000</td>\n",
       "      <td>274.000000</td>\n",
       "      <td>9.000000</td>\n",
       "      <td>NaN</td>\n",
       "      <td>3.000000</td>\n",
       "      <td>6.000000</td>\n",
       "      <td>36.000000</td>\n",
       "      <td>44.000000</td>\n",
       "      <td>0.000000</td>\n",
       "      <td>5.000000</td>\n",
       "    </tr>\n",
       "    <tr>\n",
       "      <th>max</th>\n",
       "      <td>242346.000000</td>\n",
       "      <td>418586.000000</td>\n",
       "      <td>2.100000</td>\n",
       "      <td>35272.000000</td>\n",
       "      <td>1.000000</td>\n",
       "      <td>21.000000</td>\n",
       "      <td>1.000000</td>\n",
       "      <td>36.000000</td>\n",
       "      <td>1.000000</td>\n",
       "      <td>2.000000</td>\n",
       "      <td>...</td>\n",
       "      <td>80.010000</td>\n",
       "      <td>428.000000</td>\n",
       "      <td>78.000000</td>\n",
       "      <td>NaN</td>\n",
       "      <td>11.000000</td>\n",
       "      <td>11.000000</td>\n",
       "      <td>45.000000</td>\n",
       "      <td>934.000000</td>\n",
       "      <td>1.000000</td>\n",
       "      <td>7.000000</td>\n",
       "    </tr>\n",
       "  </tbody>\n",
       "</table>\n",
       "<p>8 rows × 22 columns</p>\n",
       "</div>"
      ],
      "text/plain": [
       "              OBS_ID        SHOW_ID       FAKTOR    WORDING_ID    BRAND_FLG  \\\n",
       "count    1552.000000    1552.000000  1552.000000   1552.000000  1552.000000   \n",
       "mean   208283.788015  389875.379510     1.326224  28042.195876     0.670747   \n",
       "std     79953.729314   18850.313689     0.341747   5188.451747     0.470093   \n",
       "min        11.000000  370117.000000     0.900000  11945.000000     0.000000   \n",
       "25%    236579.750000  374355.000000     1.100000  24475.000000     0.000000   \n",
       "50%    238483.500000  379111.000000     1.200000  26517.000000     1.000000   \n",
       "75%    240727.000000  414698.000000     1.400000  34145.750000     1.000000   \n",
       "max    242346.000000  418586.000000     2.100000  35272.000000     1.000000   \n",
       "\n",
       "          BRAND_ID     WDHL_FLG  SHOW_POSITION  NEW_ITEM_FLG  AIRING_23_FLG  \\\n",
       "count  1552.000000  1552.000000    1552.000000   1552.000000    1552.000000   \n",
       "mean     10.788660     0.036082       6.981314      0.456830       0.715206   \n",
       "std       8.465148     0.186555       4.674199      0.498293       0.958898   \n",
       "min       0.000000     0.000000       1.000000      0.000000       0.000000   \n",
       "25%       0.000000     0.000000       3.000000      0.000000       0.000000   \n",
       "50%      12.000000     0.000000       6.000000      0.000000       0.000000   \n",
       "75%      20.000000     0.000000      10.000000      1.000000       2.000000   \n",
       "max      21.000000     1.000000      36.000000      1.000000       2.000000   \n",
       "\n",
       "          ...       PREIS_DISCOUNT  ANZ_ARTIKEL_ID  ONAIR_SEKUNDEN  \\\n",
       "count     ...          1552.000000     1552.000000     1552.000000   \n",
       "mean      ...            11.473499      219.308634        7.117268   \n",
       "std       ...            15.002896       72.679521        6.780555   \n",
       "min       ...             0.000000       73.000000        0.000000   \n",
       "25%       ...             0.000000      163.000000        3.000000   \n",
       "50%       ...             9.990000      203.000000        5.000000   \n",
       "75%       ...            20.000000      274.000000        9.000000   \n",
       "max       ...            80.010000      428.000000       78.000000   \n",
       "\n",
       "       MENGE_CALL   MENGE_ECOM  PREISKLASSE_DESC      GROESSE  \\\n",
       "count         0.0  1552.000000       1552.000000  1552.000000   \n",
       "mean          NaN     1.088273          4.746778    28.322165   \n",
       "std           NaN     1.580202          1.445214     8.130739   \n",
       "min           NaN     0.000000          1.000000     0.000000   \n",
       "25%           NaN     0.000000          3.000000    24.000000   \n",
       "50%           NaN     0.000000          5.000000    26.000000   \n",
       "75%           NaN     3.000000          6.000000    36.000000   \n",
       "max           NaN    11.000000         11.000000    45.000000   \n",
       "\n",
       "       MENGE_FREI_SHOWBEGINN  SOLD_OUT_FLG  DAY_OF_WEEK  \n",
       "count            1552.000000   1352.000000  1552.000000  \n",
       "mean               37.931701      0.089497     4.109536  \n",
       "std                53.292986      0.285565     1.890861  \n",
       "min                 7.000000      0.000000     1.000000  \n",
       "25%                12.000000      0.000000     3.000000  \n",
       "50%                23.000000      0.000000     4.000000  \n",
       "75%                44.000000      0.000000     5.000000  \n",
       "max               934.000000      1.000000     7.000000  \n",
       "\n",
       "[8 rows x 22 columns]"
      ]
     },
     "execution_count": 169,
     "metadata": {},
     "output_type": "execute_result"
    }
   ],
   "source": [
    "test_for_menge_call.describe()"
   ]
  },
  {
   "cell_type": "code",
   "execution_count": 178,
   "metadata": {},
   "outputs": [],
   "source": [
    "training_df_new=result_menge_call.merge(test_for_menge_call,on=\"OBS_ID\")"
   ]
  },
  {
   "cell_type": "raw",
   "metadata": {},
   "source": []
  },
  {
   "cell_type": "code",
   "execution_count": null,
   "metadata": {},
   "outputs": [],
   "source": []
  }
 ],
 "metadata": {
  "kernelspec": {
   "display_name": "Python 3",
   "language": "python",
   "name": "python3"
  },
  "language_info": {
   "codemirror_mode": {
    "name": "ipython",
    "version": 3
   },
   "file_extension": ".py",
   "mimetype": "text/x-python",
   "name": "python",
   "nbconvert_exporter": "python",
   "pygments_lexer": "ipython3",
   "version": "3.7.0"
  }
 },
 "nbformat": 4,
 "nbformat_minor": 2
}

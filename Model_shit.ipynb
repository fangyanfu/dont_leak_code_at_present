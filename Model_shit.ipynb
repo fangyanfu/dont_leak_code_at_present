{
 "cells": [
  {
   "cell_type": "code",
   "execution_count": 72,
   "metadata": {},
   "outputs": [],
   "source": [
    "import pandas as pd\n",
    "import numpy as np\n",
    "\n",
    "\n",
    "df = pd.read_csv(\"./training_dataset.csv\", encoding='cp1252')\n",
    "\n"
   ]
  },
  {
   "cell_type": "code",
   "execution_count": 73,
   "metadata": {},
   "outputs": [
    {
     "name": "stdout",
     "output_type": "stream",
     "text": [
      "<class 'pandas.core.frame.DataFrame'>\n",
      "RangeIndex: 6662 entries, 0 to 6661\n",
      "Data columns (total 32 columns):\n",
      "OBS_ID                   6662 non-null int64\n",
      "KANAL                    6662 non-null int64\n",
      "SHOW_ID                  6662 non-null int64\n",
      "FAKTOR                   6662 non-null float64\n",
      "WORDING_ID               6662 non-null int64\n",
      "BRAND_FLG                6662 non-null int64\n",
      "BRAND_ID                 6662 non-null float64\n",
      "WDHL_FLG                 6662 non-null int64\n",
      "BESTELL_ID               6662 non-null int64\n",
      "ARTIKEL_ID               6662 non-null int64\n",
      "SHOW_POSITION            6662 non-null int64\n",
      "NEW_ITEM_FLG             6662 non-null int64\n",
      "AIRING_23_FLG            6662 non-null int64\n",
      "AIRING_456_FLG           6662 non-null int64\n",
      "ADT_FLG                  6662 non-null int64\n",
      "WG_ID                    6662 non-null int64\n",
      "WGH1_ID                  6662 non-null int64\n",
      "WGH3_ID                  6662 non-null int64\n",
      "PREIS_DISCOUNT           6662 non-null float64\n",
      "ANZ_ARTIKEL_ID           6662 non-null int64\n",
      "ONAIR_SEKUNDEN           6662 non-null int64\n",
      "MENGE_CALL               6662 non-null float64\n",
      "MENGE_ECOM               6662 non-null float64\n",
      "WG_DESC                  6662 non-null int64\n",
      "WGH1_DESC                6662 non-null int64\n",
      "WGH3_DESC                6662 non-null int64\n",
      "PREISKLASSE_DESC         6662 non-null int64\n",
      "PREIS_LABEL_DESC         6662 non-null int64\n",
      "FARBE                    6662 non-null int64\n",
      "GROESSE                  6662 non-null int64\n",
      "MENGE_FREI_SHOWBEGINN    6662 non-null int64\n",
      "SOLD_OUT_FLG             6662 non-null float64\n",
      "dtypes: float64(6), int64(26)\n",
      "memory usage: 1.6 MB\n"
     ]
    }
   ],
   "source": [
    "df.info()"
   ]
  },
  {
   "cell_type": "code",
   "execution_count": 74,
   "metadata": {},
   "outputs": [
    {
     "ename": "ValueError",
     "evalue": "Format specifier missing precision",
     "output_type": "error",
     "traceback": [
      "\u001b[0;31m---------------------------------------------------------------------------\u001b[0m",
      "\u001b[0;31mValueError\u001b[0m                                Traceback (most recent call last)",
      "\u001b[0;32m<ipython-input-74-34a5b4fc7c22>\u001b[0m in \u001b[0;36m<module>\u001b[0;34m()\u001b[0m\n\u001b[1;32m      2\u001b[0m \u001b[0;34m\u001b[0m\u001b[0m\n\u001b[1;32m      3\u001b[0m \u001b[0mcorrelations_data\u001b[0m \u001b[0;34m=\u001b[0m \u001b[0mdf\u001b[0m\u001b[0;34m.\u001b[0m\u001b[0mcorr\u001b[0m\u001b[0;34m(\u001b[0m\u001b[0;34m)\u001b[0m\u001b[0;34m[\u001b[0m\u001b[0;34m'SOLD_OUT_FLG'\u001b[0m\u001b[0;34m]\u001b[0m\u001b[0;34m.\u001b[0m\u001b[0msort_values\u001b[0m\u001b[0;34m(\u001b[0m\u001b[0;34m)\u001b[0m\u001b[0;34m\u001b[0m\u001b[0m\n\u001b[0;32m----> 4\u001b[0;31m \u001b[0mprint\u001b[0m\u001b[0;34m(\u001b[0m\u001b[0mcorrelations_data\u001b[0m\u001b[0;34m)\u001b[0m\u001b[0;34m\u001b[0m\u001b[0m\n\u001b[0m",
      "\u001b[0;32m~/anaconda3/lib/python3.7/site-packages/pandas/core/base.py\u001b[0m in \u001b[0;36m__str__\u001b[0;34m(self)\u001b[0m\n\u001b[1;32m     59\u001b[0m \u001b[0;34m\u001b[0m\u001b[0m\n\u001b[1;32m     60\u001b[0m         \u001b[0;32mif\u001b[0m \u001b[0mcompat\u001b[0m\u001b[0;34m.\u001b[0m\u001b[0mPY3\u001b[0m\u001b[0;34m:\u001b[0m\u001b[0;34m\u001b[0m\u001b[0m\n\u001b[0;32m---> 61\u001b[0;31m             \u001b[0;32mreturn\u001b[0m \u001b[0mself\u001b[0m\u001b[0;34m.\u001b[0m\u001b[0m__unicode__\u001b[0m\u001b[0;34m(\u001b[0m\u001b[0;34m)\u001b[0m\u001b[0;34m\u001b[0m\u001b[0m\n\u001b[0m\u001b[1;32m     62\u001b[0m         \u001b[0;32mreturn\u001b[0m \u001b[0mself\u001b[0m\u001b[0;34m.\u001b[0m\u001b[0m__bytes__\u001b[0m\u001b[0;34m(\u001b[0m\u001b[0;34m)\u001b[0m\u001b[0;34m\u001b[0m\u001b[0m\n\u001b[1;32m     63\u001b[0m \u001b[0;34m\u001b[0m\u001b[0m\n",
      "\u001b[0;32m~/anaconda3/lib/python3.7/site-packages/pandas/core/series.py\u001b[0m in \u001b[0;36m__unicode__\u001b[0;34m(self)\u001b[0m\n\u001b[1;32m   1233\u001b[0m \u001b[0;34m\u001b[0m\u001b[0m\n\u001b[1;32m   1234\u001b[0m         self.to_string(buf=buf, name=self.name, dtype=self.dtype,\n\u001b[0;32m-> 1235\u001b[0;31m                        max_rows=max_rows, length=show_dimensions)\n\u001b[0m\u001b[1;32m   1236\u001b[0m         \u001b[0mresult\u001b[0m \u001b[0;34m=\u001b[0m \u001b[0mbuf\u001b[0m\u001b[0;34m.\u001b[0m\u001b[0mgetvalue\u001b[0m\u001b[0;34m(\u001b[0m\u001b[0;34m)\u001b[0m\u001b[0;34m\u001b[0m\u001b[0m\n\u001b[1;32m   1237\u001b[0m \u001b[0;34m\u001b[0m\u001b[0m\n",
      "\u001b[0;32m~/anaconda3/lib/python3.7/site-packages/pandas/core/series.py\u001b[0m in \u001b[0;36mto_string\u001b[0;34m(self, buf, na_rep, float_format, header, index, length, dtype, name, max_rows)\u001b[0m\n\u001b[1;32m   1277\u001b[0m                                         \u001b[0mfloat_format\u001b[0m\u001b[0;34m=\u001b[0m\u001b[0mfloat_format\u001b[0m\u001b[0;34m,\u001b[0m\u001b[0;34m\u001b[0m\u001b[0m\n\u001b[1;32m   1278\u001b[0m                                         max_rows=max_rows)\n\u001b[0;32m-> 1279\u001b[0;31m         \u001b[0mresult\u001b[0m \u001b[0;34m=\u001b[0m \u001b[0mformatter\u001b[0m\u001b[0;34m.\u001b[0m\u001b[0mto_string\u001b[0m\u001b[0;34m(\u001b[0m\u001b[0;34m)\u001b[0m\u001b[0;34m\u001b[0m\u001b[0m\n\u001b[0m\u001b[1;32m   1280\u001b[0m \u001b[0;34m\u001b[0m\u001b[0m\n\u001b[1;32m   1281\u001b[0m         \u001b[0;31m# catch contract violations\u001b[0m\u001b[0;34m\u001b[0m\u001b[0;34m\u001b[0m\u001b[0m\n",
      "\u001b[0;32m~/anaconda3/lib/python3.7/site-packages/pandas/io/formats/format.py\u001b[0m in \u001b[0;36mto_string\u001b[0;34m(self)\u001b[0m\n\u001b[1;32m    268\u001b[0m \u001b[0;34m\u001b[0m\u001b[0m\n\u001b[1;32m    269\u001b[0m         \u001b[0mfmt_index\u001b[0m\u001b[0;34m,\u001b[0m \u001b[0mhave_header\u001b[0m \u001b[0;34m=\u001b[0m \u001b[0mself\u001b[0m\u001b[0;34m.\u001b[0m\u001b[0m_get_formatted_index\u001b[0m\u001b[0;34m(\u001b[0m\u001b[0;34m)\u001b[0m\u001b[0;34m\u001b[0m\u001b[0m\n\u001b[0;32m--> 270\u001b[0;31m         \u001b[0mfmt_values\u001b[0m \u001b[0;34m=\u001b[0m \u001b[0mself\u001b[0m\u001b[0;34m.\u001b[0m\u001b[0m_get_formatted_values\u001b[0m\u001b[0;34m(\u001b[0m\u001b[0;34m)\u001b[0m\u001b[0;34m\u001b[0m\u001b[0m\n\u001b[0m\u001b[1;32m    271\u001b[0m \u001b[0;34m\u001b[0m\u001b[0m\n\u001b[1;32m    272\u001b[0m         \u001b[0;32mif\u001b[0m \u001b[0mself\u001b[0m\u001b[0;34m.\u001b[0m\u001b[0mtruncate_v\u001b[0m\u001b[0;34m:\u001b[0m\u001b[0;34m\u001b[0m\u001b[0m\n",
      "\u001b[0;32m~/anaconda3/lib/python3.7/site-packages/pandas/io/formats/format.py\u001b[0m in \u001b[0;36m_get_formatted_values\u001b[0;34m(self)\u001b[0m\n\u001b[1;32m    258\u001b[0m         \u001b[0mvalues_to_format\u001b[0m \u001b[0;34m=\u001b[0m \u001b[0mself\u001b[0m\u001b[0;34m.\u001b[0m\u001b[0mtr_series\u001b[0m\u001b[0;34m.\u001b[0m\u001b[0m_formatting_values\u001b[0m\u001b[0;34m(\u001b[0m\u001b[0;34m)\u001b[0m\u001b[0;34m\u001b[0m\u001b[0m\n\u001b[1;32m    259\u001b[0m         return format_array(values_to_format, None,\n\u001b[0;32m--> 260\u001b[0;31m                             float_format=self.float_format, na_rep=self.na_rep)\n\u001b[0m\u001b[1;32m    261\u001b[0m \u001b[0;34m\u001b[0m\u001b[0m\n\u001b[1;32m    262\u001b[0m     \u001b[0;32mdef\u001b[0m \u001b[0mto_string\u001b[0m\u001b[0;34m(\u001b[0m\u001b[0mself\u001b[0m\u001b[0;34m)\u001b[0m\u001b[0;34m:\u001b[0m\u001b[0;34m\u001b[0m\u001b[0m\n",
      "\u001b[0;32m~/anaconda3/lib/python3.7/site-packages/pandas/io/formats/format.py\u001b[0m in \u001b[0;36mformat_array\u001b[0;34m(values, formatter, float_format, na_rep, digits, space, justify, decimal)\u001b[0m\n\u001b[1;32m    894\u001b[0m                         space=space, justify=justify, decimal=decimal)\n\u001b[1;32m    895\u001b[0m \u001b[0;34m\u001b[0m\u001b[0m\n\u001b[0;32m--> 896\u001b[0;31m     \u001b[0;32mreturn\u001b[0m \u001b[0mfmt_obj\u001b[0m\u001b[0;34m.\u001b[0m\u001b[0mget_result\u001b[0m\u001b[0;34m(\u001b[0m\u001b[0;34m)\u001b[0m\u001b[0;34m\u001b[0m\u001b[0m\n\u001b[0m\u001b[1;32m    897\u001b[0m \u001b[0;34m\u001b[0m\u001b[0m\n\u001b[1;32m    898\u001b[0m \u001b[0;34m\u001b[0m\u001b[0m\n",
      "\u001b[0;32m~/anaconda3/lib/python3.7/site-packages/pandas/io/formats/format.py\u001b[0m in \u001b[0;36mget_result\u001b[0;34m(self)\u001b[0m\n\u001b[1;32m    914\u001b[0m \u001b[0;34m\u001b[0m\u001b[0m\n\u001b[1;32m    915\u001b[0m     \u001b[0;32mdef\u001b[0m \u001b[0mget_result\u001b[0m\u001b[0;34m(\u001b[0m\u001b[0mself\u001b[0m\u001b[0;34m)\u001b[0m\u001b[0;34m:\u001b[0m\u001b[0;34m\u001b[0m\u001b[0m\n\u001b[0;32m--> 916\u001b[0;31m         \u001b[0mfmt_values\u001b[0m \u001b[0;34m=\u001b[0m \u001b[0mself\u001b[0m\u001b[0;34m.\u001b[0m\u001b[0m_format_strings\u001b[0m\u001b[0;34m(\u001b[0m\u001b[0;34m)\u001b[0m\u001b[0;34m\u001b[0m\u001b[0m\n\u001b[0m\u001b[1;32m    917\u001b[0m         \u001b[0;32mreturn\u001b[0m \u001b[0m_make_fixed_width\u001b[0m\u001b[0;34m(\u001b[0m\u001b[0mfmt_values\u001b[0m\u001b[0;34m,\u001b[0m \u001b[0mself\u001b[0m\u001b[0;34m.\u001b[0m\u001b[0mjustify\u001b[0m\u001b[0;34m)\u001b[0m\u001b[0;34m\u001b[0m\u001b[0m\n\u001b[1;32m    918\u001b[0m \u001b[0;34m\u001b[0m\u001b[0m\n",
      "\u001b[0;32m~/anaconda3/lib/python3.7/site-packages/pandas/io/formats/format.py\u001b[0m in \u001b[0;36m_format_strings\u001b[0;34m(self)\u001b[0m\n\u001b[1;32m   1100\u001b[0m         \u001b[0;31m# shortcut\u001b[0m\u001b[0;34m\u001b[0m\u001b[0;34m\u001b[0m\u001b[0m\n\u001b[1;32m   1101\u001b[0m         \u001b[0;32mif\u001b[0m \u001b[0mself\u001b[0m\u001b[0;34m.\u001b[0m\u001b[0mformatter\u001b[0m \u001b[0;32mis\u001b[0m \u001b[0;32mnot\u001b[0m \u001b[0;32mNone\u001b[0m\u001b[0;34m:\u001b[0m\u001b[0;34m\u001b[0m\u001b[0m\n\u001b[0;32m-> 1102\u001b[0;31m             \u001b[0;32mreturn\u001b[0m \u001b[0;34m[\u001b[0m\u001b[0mself\u001b[0m\u001b[0;34m.\u001b[0m\u001b[0mformatter\u001b[0m\u001b[0;34m(\u001b[0m\u001b[0mx\u001b[0m\u001b[0;34m)\u001b[0m \u001b[0;32mfor\u001b[0m \u001b[0mx\u001b[0m \u001b[0;32min\u001b[0m \u001b[0mself\u001b[0m\u001b[0;34m.\u001b[0m\u001b[0mvalues\u001b[0m\u001b[0;34m]\u001b[0m\u001b[0;34m\u001b[0m\u001b[0m\n\u001b[0m\u001b[1;32m   1103\u001b[0m \u001b[0;34m\u001b[0m\u001b[0m\n\u001b[1;32m   1104\u001b[0m         \u001b[0;32mreturn\u001b[0m \u001b[0mlist\u001b[0m\u001b[0;34m(\u001b[0m\u001b[0mself\u001b[0m\u001b[0;34m.\u001b[0m\u001b[0mget_result_as_array\u001b[0m\u001b[0;34m(\u001b[0m\u001b[0;34m)\u001b[0m\u001b[0;34m)\u001b[0m\u001b[0;34m\u001b[0m\u001b[0m\n",
      "\u001b[0;32m~/anaconda3/lib/python3.7/site-packages/pandas/io/formats/format.py\u001b[0m in \u001b[0;36m<listcomp>\u001b[0;34m(.0)\u001b[0m\n\u001b[1;32m   1100\u001b[0m         \u001b[0;31m# shortcut\u001b[0m\u001b[0;34m\u001b[0m\u001b[0;34m\u001b[0m\u001b[0m\n\u001b[1;32m   1101\u001b[0m         \u001b[0;32mif\u001b[0m \u001b[0mself\u001b[0m\u001b[0;34m.\u001b[0m\u001b[0mformatter\u001b[0m \u001b[0;32mis\u001b[0m \u001b[0;32mnot\u001b[0m \u001b[0;32mNone\u001b[0m\u001b[0;34m:\u001b[0m\u001b[0;34m\u001b[0m\u001b[0m\n\u001b[0;32m-> 1102\u001b[0;31m             \u001b[0;32mreturn\u001b[0m \u001b[0;34m[\u001b[0m\u001b[0mself\u001b[0m\u001b[0;34m.\u001b[0m\u001b[0mformatter\u001b[0m\u001b[0;34m(\u001b[0m\u001b[0mx\u001b[0m\u001b[0;34m)\u001b[0m \u001b[0;32mfor\u001b[0m \u001b[0mx\u001b[0m \u001b[0;32min\u001b[0m \u001b[0mself\u001b[0m\u001b[0;34m.\u001b[0m\u001b[0mvalues\u001b[0m\u001b[0;34m]\u001b[0m\u001b[0;34m\u001b[0m\u001b[0m\n\u001b[0m\u001b[1;32m   1103\u001b[0m \u001b[0;34m\u001b[0m\u001b[0m\n\u001b[1;32m   1104\u001b[0m         \u001b[0;32mreturn\u001b[0m \u001b[0mlist\u001b[0m\u001b[0;34m(\u001b[0m\u001b[0mself\u001b[0m\u001b[0;34m.\u001b[0m\u001b[0mget_result_as_array\u001b[0m\u001b[0;34m(\u001b[0m\u001b[0;34m)\u001b[0m\u001b[0;34m)\u001b[0m\u001b[0;34m\u001b[0m\u001b[0m\n",
      "\u001b[0;31mValueError\u001b[0m: Format specifier missing precision"
     ]
    }
   ],
   "source": [
    "# calculate correlation between SOLD_OUT_FLG and all other variables\n",
    "\n",
    "correlations_data = df.corr()['SOLD_OUT_FLG'].sort_values()\n",
    "print(correlations_data)"
   ]
  },
  {
   "cell_type": "code",
   "execution_count": null,
   "metadata": {},
   "outputs": [],
   "source": [
    "import seaborn as sns\n",
    "import matplotlib.pyplot as plt\n",
    "\n",
    "corr = df.corr()\n",
    "print(corr)\n",
    "\n",
    "fig, ax = plt.subplots(figsize=(30,30))         # Sample figsize in inches\n",
    "\n",
    "\n",
    "sns.heatmap(corr, \n",
    "        xticklabels=corr.columns,\n",
    "        yticklabels=corr.columns, annot=True, linewidths=.5, ax=ax)"
   ]
  },
  {
   "cell_type": "code",
   "execution_count": 75,
   "metadata": {},
   "outputs": [],
   "source": [
    "x = df"
   ]
  },
  {
   "cell_type": "code",
   "execution_count": 76,
   "metadata": {},
   "outputs": [],
   "source": [
    "def corr_df(x, corr_val):\n",
    "    '''\n",
    "    Obj: Drops features that are strongly correlated to other features.\n",
    "          This lowers model complexity, and aids in generalizing the model.\n",
    "    Inputs:\n",
    "          df: features df (x)\n",
    "          corr_val: Columns are dropped relative to the corr_val input (e.g. 0.8)\n",
    "    Output: df that only includes uncorrelated features\n",
    "    '''\n",
    "\n",
    "    # Creates Correlation Matrix and Instantiates\n",
    "    corr_matrix = x.corr()\n",
    "    iters = range(len(corr_matrix.columns) - 1)\n",
    "    drop_cols = []\n",
    "\n",
    "    # Iterates through Correlation Matrix Table to find correlated columns\n",
    "    for i in iters:\n",
    "        for j in range(i):\n",
    "            item = corr_matrix.iloc[j:(j+1), (i+1):(i+2)]\n",
    "            col = item.columns\n",
    "            row = item.index\n",
    "            val = item.values\n",
    "            if val >= corr_val:\n",
    "                # Prints the correlated feature set and the corr val\n",
    "                print(col.values[0], \"|\", row.values[0], \"|\", round(val[0][0], 2))\n",
    "                drop_cols.append(i)\n",
    "\n",
    "    drops = sorted(set(drop_cols))[::-1]\n",
    "\n",
    "    # Drops the correlated columns\n",
    "    for i in drops:\n",
    "        col = x.iloc[:, (i+1):(i+2)].columns.values\n",
    "        df = x.drop(col, axis=1)\n",
    "\n",
    "    return df"
   ]
  },
  {
   "cell_type": "code",
   "execution_count": 77,
   "metadata": {},
   "outputs": [
    {
     "name": "stdout",
     "output_type": "stream",
     "text": [
      "SHOW_ID | OBS_ID | 0.91\n",
      "BESTELL_ID | OBS_ID | 0.7\n",
      "BESTELL_ID | SHOW_ID | 0.8\n",
      "ARTIKEL_ID | OBS_ID | 0.7\n",
      "ARTIKEL_ID | SHOW_ID | 0.8\n",
      "WGH3_ID | WG_ID | 1.0\n",
      "PREIS_LABEL_DESC | PREIS_DISCOUNT | 0.7\n"
     ]
    }
   ],
   "source": [
    "df = corr_df(df, 0.6)"
   ]
  },
  {
   "cell_type": "code",
   "execution_count": 78,
   "metadata": {},
   "outputs": [],
   "source": [
    "df.drop([\"BESTELL_ID\",\"ARTIKEL_ID\",\"WG_ID\",\"WGH1_ID\",\"PREIS_LABEL_DESC\"],axis=1,inplace=True)"
   ]
  },
  {
   "cell_type": "code",
   "execution_count": 89,
   "metadata": {},
   "outputs": [
    {
     "name": "stdout",
     "output_type": "stream",
     "text": [
      "<class 'pandas.core.frame.DataFrame'>\n",
      "RangeIndex: 6662 entries, 0 to 6661\n",
      "Data columns (total 11 columns):\n",
      "PREIS_DISCOUNT           6662 non-null float64\n",
      "KANAL                    6662 non-null int64\n",
      "FAKTOR                   6662 non-null float64\n",
      "NEW_ITEM_FLG             6662 non-null int64\n",
      "MENGE_ECOM               6662 non-null float64\n",
      "MENGE_CALL               6662 non-null float64\n",
      "WGH3_DESC                6662 non-null int64\n",
      "AIRING_23_FLG            6662 non-null int64\n",
      "ADT_FLG                  6662 non-null int64\n",
      "ONAIR_SEKUNDEN           6662 non-null int64\n",
      "MENGE_FREI_SHOWBEGINN    6662 non-null int64\n",
      "dtypes: float64(4), int64(7)\n",
      "memory usage: 572.6 KB\n"
     ]
    }
   ],
   "source": [
    "#features = df[[\"PREIS_DISCOUNT\",\"KANAL\",\"FAKTOR\",\"NEW_ITEM_FLG\",\"MENGE_ECOM\",\n",
    " #              \"MENGE_CALL\",\"WGH3_DESC\",\n",
    "  #            \"AIRING_23_FLG\",\"ADT_FLG\",\"ONAIR_SEKUNDEN\",\"MENGE_FREI_SHOWBEGINN\"]]\n",
    "features.info()\n",
    "features.to_excel('hahahahha.xlsx')\n"
   ]
  },
  {
   "cell_type": "code",
   "execution_count": 56,
   "metadata": {},
   "outputs": [
    {
     "name": "stdout",
     "output_type": "stream",
     "text": [
      "(5329, 11)\n",
      "(1333, 11)\n",
      "(5329, 1)\n",
      "(1333, 1)\n"
     ]
    }
   ],
   "source": [
    "from sklearn.model_selection import train_test_split\n",
    "\n",
    "# Separate out the features and targets\n",
    "features = df[[\"PREIS_DISCOUNT\",\"KANAL\",\"FAKTOR\",\"NEW_ITEM_FLG\",\"MENGE_ECOM\",\n",
    "               \"MENGE_CALL\",\"WGH3_DESC\",\n",
    "              \"AIRING_23_FLG\",\"ADT_FLG\",\"ONAIR_SEKUNDEN\",\"MENGE_FREI_SHOWBEGINN\"]]\n",
    "targets = df[['SOLD_OUT_FLG']].astype('category')\n",
    "\n",
    "# Split into 70% training and 30% testing set\n",
    "X, X_test, y, y_test = train_test_split(features, targets, test_size = 0.2, random_state = 42)\n",
    "\n",
    "print(X.shape)\n",
    "print(X_test.shape)\n",
    "print(y.shape)\n",
    "print(y_test.shape)"
   ]
  },
  {
   "cell_type": "code",
   "execution_count": 57,
   "metadata": {},
   "outputs": [
    {
     "name": "stdout",
     "output_type": "stream",
     "text": [
      "<class 'pandas.core.frame.DataFrame'>\n",
      "RangeIndex: 6662 entries, 0 to 6661\n",
      "Data columns (total 1 columns):\n",
      "SOLD_OUT_FLG    6662 non-null category\n",
      "dtypes: category(1)\n",
      "memory usage: 6.7 KB\n"
     ]
    }
   ],
   "source": [
    "targets.info()\n"
   ]
  },
  {
   "cell_type": "code",
   "execution_count": 58,
   "metadata": {},
   "outputs": [],
   "source": [
    "# Save the training, and testing data\n",
    "X.to_csv('./training_features.csv', index = False)\n",
    "X_test.to_csv('./testing_features.csv', index = False)\n",
    "y.to_csv('./training_labels.csv', index = False)\n",
    "y_test.to_csv('./testing_labels.csv', index = False)"
   ]
  },
  {
   "cell_type": "code",
   "execution_count": 59,
   "metadata": {},
   "outputs": [
    {
     "name": "stdout",
     "output_type": "stream",
     "text": [
      "Training Feature Size:  (5329, 11)\n",
      "Testing Feature Size:   (1333, 11)\n",
      "Training Labels Size:   (5329, 1)\n",
      "Testing Labels Size:    (1333, 1)\n"
     ]
    }
   ],
   "source": [
    "# Read in data into dataframes \n",
    "train_features = pd.read_csv('./training_features.csv')\n",
    "test_features = pd.read_csv('./testing_features.csv')\n",
    "train_labels = pd.read_csv('./training_labels.csv')\n",
    "test_labels = pd.read_csv('./testing_labels.csv')\n",
    "\n",
    "# Display sizes of data\n",
    "print('Training Feature Size: ', train_features.shape)\n",
    "print('Testing Feature Size:  ', test_features.shape)\n",
    "print('Training Labels Size:  ', train_labels.shape)\n",
    "print('Testing Labels Size:   ', test_labels.shape)"
   ]
  },
  {
   "cell_type": "code",
   "execution_count": 60,
   "metadata": {},
   "outputs": [],
   "source": [
    "train_labels = train_labels[['SOLD_OUT_FLG']].astype('category')\n",
    "test_labels = test_labels[['SOLD_OUT_FLG']].astype('category')"
   ]
  },
  {
   "cell_type": "code",
   "execution_count": 61,
   "metadata": {},
   "outputs": [
    {
     "name": "stdout",
     "output_type": "stream",
     "text": [
      "<class 'pandas.core.frame.DataFrame'>\n",
      "RangeIndex: 1333 entries, 0 to 1332\n",
      "Data columns (total 1 columns):\n",
      "SOLD_OUT_FLG    1333 non-null category\n",
      "dtypes: category(1)\n",
      "memory usage: 1.5 KB\n"
     ]
    }
   ],
   "source": [
    "test_labels.info()"
   ]
  },
  {
   "cell_type": "code",
   "execution_count": 62,
   "metadata": {},
   "outputs": [],
   "source": [
    "from sklearn.preprocessing import StandardScaler\n",
    "\n",
    "scaler = StandardScaler()\n",
    "# Fit on the training data\n",
    "scaler.fit(X)\n",
    "\n",
    "# Transform both the training and testing data\n",
    "X = scaler.transform(X)\n",
    "X_test = scaler.transform(X_test)"
   ]
  },
  {
   "cell_type": "code",
   "execution_count": 63,
   "metadata": {},
   "outputs": [],
   "source": [
    "testing = pd.read_csv(\"./test_dataset.csv\", encoding='cp1252')\n",
    "\n",
    "testing.drop([\"BESTELL_ID\",\"ARTIKEL_ID\",\"WG_ID\",\"WGH1_ID\",\"PREIS_LABEL_DESC\"],axis=1,inplace=True)\n"
   ]
  },
  {
   "cell_type": "code",
   "execution_count": 64,
   "metadata": {},
   "outputs": [
    {
     "name": "stdout",
     "output_type": "stream",
     "text": [
      "<class 'pandas.core.frame.DataFrame'>\n",
      "RangeIndex: 1003 entries, 0 to 1002\n",
      "Data columns (total 27 columns):\n",
      "OBS_ID                   1003 non-null int64\n",
      "KANAL                    1003 non-null int64\n",
      "SHOW_ID                  1003 non-null int64\n",
      "FAKTOR                   1003 non-null float64\n",
      "WORDING_ID               1003 non-null int64\n",
      "BRAND_FLG                1003 non-null int64\n",
      "BRAND_ID                 1003 non-null float64\n",
      "WDHL_FLG                 1003 non-null int64\n",
      "SHOW_POSITION            1003 non-null int64\n",
      "NEW_ITEM_FLG             1003 non-null int64\n",
      "AIRING_23_FLG            1003 non-null int64\n",
      "AIRING_456_FLG           1003 non-null int64\n",
      "ADT_FLG                  1003 non-null int64\n",
      "WGH3_ID                  1003 non-null int64\n",
      "PREIS_DISCOUNT           1003 non-null float64\n",
      "ANZ_ARTIKEL_ID           1003 non-null int64\n",
      "ONAIR_SEKUNDEN           1003 non-null int64\n",
      "MENGE_CALL               1003 non-null float64\n",
      "MENGE_ECOM               1003 non-null float64\n",
      "WG_DESC                  1003 non-null int64\n",
      "WGH1_DESC                1003 non-null int64\n",
      "WGH3_DESC                1003 non-null int64\n",
      "PREISKLASSE_DESC         1003 non-null int64\n",
      "FARBE                    1003 non-null int64\n",
      "GROESSE                  1003 non-null int64\n",
      "MENGE_FREI_SHOWBEGINN    1003 non-null int64\n",
      "SOLD_OUT_FLG             0 non-null float64\n",
      "dtypes: float64(6), int64(21)\n",
      "memory usage: 211.6 KB\n"
     ]
    }
   ],
   "source": [
    "testing.info()"
   ]
  },
  {
   "cell_type": "code",
   "execution_count": 65,
   "metadata": {},
   "outputs": [],
   "source": [
    "xtest = testing[[\"PREIS_DISCOUNT\",\"KANAL\",\"FAKTOR\",\"NEW_ITEM_FLG\",\"MENGE_ECOM\",\n",
    "               \"MENGE_CALL\",\"WGH3_DESC\",\n",
    "              \"AIRING_23_FLG\",\"ADT_FLG\",\"ONAIR_SEKUNDEN\",\"MENGE_FREI_SHOWBEGINN\"]]"
   ]
  },
  {
   "cell_type": "code",
   "execution_count": 66,
   "metadata": {},
   "outputs": [
    {
     "name": "stdout",
     "output_type": "stream",
     "text": [
      "0.9099774943735934\n"
     ]
    },
    {
     "name": "stderr",
     "output_type": "stream",
     "text": [
      "/Users/floriansonneck/anaconda3/lib/python3.7/site-packages/sklearn/utils/validation.py:578: DataConversionWarning: A column-vector y was passed when a 1d array was expected. Please change the shape of y to (n_samples, ), for example using ravel().\n",
      "  y = column_or_1d(y, warn=True)\n"
     ]
    },
    {
     "data": {
      "text/plain": [
       "0.7521468238335445"
      ]
     },
     "execution_count": 66,
     "metadata": {},
     "output_type": "execute_result"
    }
   ],
   "source": [
    "from sklearn.linear_model import LogisticRegression\n",
    "\n",
    "LR = LogisticRegression()\n",
    "\n",
    "LR.fit(X, y)\n",
    "\n",
    "print(LR.score(X_test, y_test))\n",
    "# print(model.score(X_training, y_training)) \n",
    "# shows how many percent of the dataset was predicted correctly\n",
    "\n",
    "y_pred = LR.predict(X_test)\n",
    "\n",
    "from sklearn.metrics import matthews_corrcoef\n",
    "\n",
    "matthews_corrcoef(y_test, y_pred)"
   ]
  },
  {
   "cell_type": "code",
   "execution_count": 67,
   "metadata": {},
   "outputs": [
    {
     "name": "stdout",
     "output_type": "stream",
     "text": [
      "[0. 0. 0. ... 0. 0. 0.]\n",
      "0.0\n"
     ]
    }
   ],
   "source": [
    "y_predictionLR = LR.predict(xtest)\n",
    "\n",
    "print(y_predictionLR)\n",
    "\n",
    "\n",
    "#SOLD_OUT_FLG = pd.DataFrame(data=y_predictionLR,columns=['SOLD_OUT_FLG'])\n",
    "#pred_final=pd.concat([testing['OBS_ID'],SOLD_OUT_FLG],axis =1)\n",
    "#pred_final.to_csv('sold_out_predict.csv',index=False)\n",
    "\n",
    "print(sum(y_predictionLR))"
   ]
  },
  {
   "cell_type": "code",
   "execution_count": 68,
   "metadata": {},
   "outputs": [
    {
     "name": "stdout",
     "output_type": "stream",
     "text": [
      "0.8799699924981246\n"
     ]
    },
    {
     "name": "stderr",
     "output_type": "stream",
     "text": [
      "/Users/floriansonneck/anaconda3/lib/python3.7/site-packages/ipykernel_launcher.py:4: DataConversionWarning: A column-vector y was passed when a 1d array was expected. Please change the shape of y to (n_samples,), for example using ravel().\n",
      "  after removing the cwd from sys.path.\n"
     ]
    },
    {
     "data": {
      "text/plain": [
       "0.6485778316764522"
      ]
     },
     "execution_count": 68,
     "metadata": {},
     "output_type": "execute_result"
    }
   ],
   "source": [
    "from sklearn.ensemble import RandomForestClassifier\n",
    "\n",
    "classifier = RandomForestClassifier(criterion = \"entropy\", n_estimators = 15)\n",
    "classifier.fit(X, y)\n",
    "\n",
    "print(classifier.score(X_test, y_test))\n",
    "\n",
    "y_pred = classifier.predict(X_test)\n",
    "\n",
    "matthews_corrcoef(y_test, y_pred)"
   ]
  },
  {
   "cell_type": "code",
   "execution_count": 69,
   "metadata": {},
   "outputs": [
    {
     "name": "stdout",
     "output_type": "stream",
     "text": [
      "[1. 1. 1. ... 1. 1. 1.]\n",
      "[1 1 1 ... 1 1 1]\n",
      "573.0\n"
     ]
    }
   ],
   "source": [
    "y_predClassifier = classifier.predict(xtest)\n",
    "\n",
    "# y_predClassifier = np.round(classifier.predict(xtest))\n",
    "\n",
    "\n",
    "print(y_predClassifier)\n",
    "\n",
    "shs = y_predClassifier\n",
    "# np.int_(shs)\n",
    "# print(shs)\n",
    "q = shs.astype(int)\n",
    "print(q)\n",
    "\n",
    "\n",
    "\n",
    "SOLD_OUT_FLG = pd.DataFrame(data=y_predClassifier,columns=['SOLD_OUT_FLG'])\n",
    "pred_final=pd.concat([testing['OBS_ID'],SOLD_OUT_FLG],axis =1)\n",
    "pd.options.display.float_format = '{:,.f}'.format\n",
    "pred_final.to_csv('sold_out_predict.csv',index=False)\n",
    "\n",
    "\n",
    "\n",
    "print(sum(y_predClassifier))"
   ]
  },
  {
   "cell_type": "code",
   "execution_count": null,
   "metadata": {},
   "outputs": [],
   "source": []
  },
  {
   "cell_type": "code",
   "execution_count": null,
   "metadata": {},
   "outputs": [],
   "source": []
  },
  {
   "cell_type": "code",
   "execution_count": null,
   "metadata": {},
   "outputs": [],
   "source": []
  }
 ],
 "metadata": {
  "kernelspec": {
   "display_name": "Python 3",
   "language": "python",
   "name": "python3"
  },
  "language_info": {
   "codemirror_mode": {
    "name": "ipython",
    "version": 3
   },
   "file_extension": ".py",
   "mimetype": "text/x-python",
   "name": "python",
   "nbconvert_exporter": "python",
   "pygments_lexer": "ipython3",
   "version": "3.7.0"
  }
 },
 "nbformat": 4,
 "nbformat_minor": 2
}

{
 "cells": [
  {
   "cell_type": "code",
   "execution_count": 1,
   "metadata": {},
   "outputs": [
    {
     "data": {
      "text/html": [
       "<div>\n",
       "<style scoped>\n",
       "    .dataframe tbody tr th:only-of-type {\n",
       "        vertical-align: middle;\n",
       "    }\n",
       "\n",
       "    .dataframe tbody tr th {\n",
       "        vertical-align: top;\n",
       "    }\n",
       "\n",
       "    .dataframe thead th {\n",
       "        text-align: right;\n",
       "    }\n",
       "</style>\n",
       "<table border=\"1\" class=\"dataframe\">\n",
       "  <thead>\n",
       "    <tr style=\"text-align: right;\">\n",
       "      <th></th>\n",
       "      <th>OBS_ID</th>\n",
       "      <th>KANAL</th>\n",
       "      <th>SHOW_ID</th>\n",
       "      <th>SHOW_DATUM</th>\n",
       "      <th>FAKTOR</th>\n",
       "      <th>WORDING_ID</th>\n",
       "      <th>BRAND_FLG</th>\n",
       "      <th>BRAND_ID</th>\n",
       "      <th>WDHL_FLG</th>\n",
       "      <th>BESTELL_ID</th>\n",
       "      <th>...</th>\n",
       "      <th>WGH3_DESC</th>\n",
       "      <th>WGH4_DESC</th>\n",
       "      <th>DIVISION_DESC_SORT</th>\n",
       "      <th>PREISKLASSE_DESC</th>\n",
       "      <th>PREIS_LABEL_DESC</th>\n",
       "      <th>FARBE</th>\n",
       "      <th>GROESSE</th>\n",
       "      <th>MENGE_FREI_SHOWBEGINN</th>\n",
       "      <th>BEWERTUNG</th>\n",
       "      <th>SOLD_OUT_FLG</th>\n",
       "    </tr>\n",
       "  </thead>\n",
       "  <tbody>\n",
       "    <tr>\n",
       "      <th>0</th>\n",
       "      <td>235691</td>\n",
       "      <td>DIG</td>\n",
       "      <td>370117</td>\n",
       "      <td>30.07.2017 19:00:00</td>\n",
       "      <td>1</td>\n",
       "      <td>25802</td>\n",
       "      <td>1</td>\n",
       "      <td>12.0</td>\n",
       "      <td>1</td>\n",
       "      <td>399879</td>\n",
       "      <td>...</td>\n",
       "      <td>WGH-Stufe Marken National</td>\n",
       "      <td>WGH-Stufe Mode</td>\n",
       "      <td>Mode</td>\n",
       "      <td>04 - 40 bis 49,99</td>\n",
       "      <td>NaN</td>\n",
       "      <td>SCHWARZ</td>\n",
       "      <td>NaN</td>\n",
       "      <td>7</td>\n",
       "      <td>NaN</td>\n",
       "      <td>1</td>\n",
       "    </tr>\n",
       "    <tr>\n",
       "      <th>1</th>\n",
       "      <td>235692</td>\n",
       "      <td>DIG</td>\n",
       "      <td>372896</td>\n",
       "      <td>04.08.2017 09:00:00</td>\n",
       "      <td>1</td>\n",
       "      <td>34013</td>\n",
       "      <td>0</td>\n",
       "      <td>NaN</td>\n",
       "      <td>0</td>\n",
       "      <td>399890</td>\n",
       "      <td>...</td>\n",
       "      <td>WGH-Stufe Marken National</td>\n",
       "      <td>WGH-Stufe Mode</td>\n",
       "      <td>Mode</td>\n",
       "      <td>05 - 50 bis 74,99</td>\n",
       "      <td>NaN</td>\n",
       "      <td>SCHWARZ</td>\n",
       "      <td>36</td>\n",
       "      <td>8</td>\n",
       "      <td>NaN</td>\n",
       "      <td>1</td>\n",
       "    </tr>\n",
       "    <tr>\n",
       "      <th>2</th>\n",
       "      <td>235693</td>\n",
       "      <td>DIG</td>\n",
       "      <td>372896</td>\n",
       "      <td>04.08.2017 09:00:00</td>\n",
       "      <td>1</td>\n",
       "      <td>34013</td>\n",
       "      <td>0</td>\n",
       "      <td>NaN</td>\n",
       "      <td>0</td>\n",
       "      <td>399890</td>\n",
       "      <td>...</td>\n",
       "      <td>WGH-Stufe Marken National</td>\n",
       "      <td>WGH-Stufe Mode</td>\n",
       "      <td>Mode</td>\n",
       "      <td>05 - 50 bis 74,99</td>\n",
       "      <td>NaN</td>\n",
       "      <td>SCHWARZ</td>\n",
       "      <td>38</td>\n",
       "      <td>23</td>\n",
       "      <td>NaN</td>\n",
       "      <td>1</td>\n",
       "    </tr>\n",
       "    <tr>\n",
       "      <th>3</th>\n",
       "      <td>235694</td>\n",
       "      <td>DIG</td>\n",
       "      <td>372896</td>\n",
       "      <td>04.08.2017 09:00:00</td>\n",
       "      <td>1</td>\n",
       "      <td>34013</td>\n",
       "      <td>0</td>\n",
       "      <td>NaN</td>\n",
       "      <td>0</td>\n",
       "      <td>399890</td>\n",
       "      <td>...</td>\n",
       "      <td>WGH-Stufe Marken National</td>\n",
       "      <td>WGH-Stufe Mode</td>\n",
       "      <td>Mode</td>\n",
       "      <td>05 - 50 bis 74,99</td>\n",
       "      <td>NaN</td>\n",
       "      <td>SCHWARZ</td>\n",
       "      <td>40</td>\n",
       "      <td>39</td>\n",
       "      <td>NaN</td>\n",
       "      <td>0</td>\n",
       "    </tr>\n",
       "    <tr>\n",
       "      <th>4</th>\n",
       "      <td>235695</td>\n",
       "      <td>DIG</td>\n",
       "      <td>372896</td>\n",
       "      <td>04.08.2017 09:00:00</td>\n",
       "      <td>1</td>\n",
       "      <td>34013</td>\n",
       "      <td>0</td>\n",
       "      <td>NaN</td>\n",
       "      <td>0</td>\n",
       "      <td>399890</td>\n",
       "      <td>...</td>\n",
       "      <td>WGH-Stufe Marken National</td>\n",
       "      <td>WGH-Stufe Mode</td>\n",
       "      <td>Mode</td>\n",
       "      <td>05 - 50 bis 74,99</td>\n",
       "      <td>NaN</td>\n",
       "      <td>SCHWARZ</td>\n",
       "      <td>42</td>\n",
       "      <td>44</td>\n",
       "      <td>NaN</td>\n",
       "      <td>0</td>\n",
       "    </tr>\n",
       "  </tbody>\n",
       "</table>\n",
       "<p>5 rows × 37 columns</p>\n",
       "</div>"
      ],
      "text/plain": [
       "   OBS_ID KANAL  SHOW_ID           SHOW_DATUM FAKTOR  WORDING_ID  BRAND_FLG  \\\n",
       "0  235691   DIG   370117  30.07.2017 19:00:00      1       25802          1   \n",
       "1  235692   DIG   372896  04.08.2017 09:00:00      1       34013          0   \n",
       "2  235693   DIG   372896  04.08.2017 09:00:00      1       34013          0   \n",
       "3  235694   DIG   372896  04.08.2017 09:00:00      1       34013          0   \n",
       "4  235695   DIG   372896  04.08.2017 09:00:00      1       34013          0   \n",
       "\n",
       "   BRAND_ID  WDHL_FLG  BESTELL_ID      ...                       WGH3_DESC  \\\n",
       "0      12.0         1      399879      ...       WGH-Stufe Marken National   \n",
       "1       NaN         0      399890      ...       WGH-Stufe Marken National   \n",
       "2       NaN         0      399890      ...       WGH-Stufe Marken National   \n",
       "3       NaN         0      399890      ...       WGH-Stufe Marken National   \n",
       "4       NaN         0      399890      ...       WGH-Stufe Marken National   \n",
       "\n",
       "        WGH4_DESC  DIVISION_DESC_SORT   PREISKLASSE_DESC  PREIS_LABEL_DESC  \\\n",
       "0  WGH-Stufe Mode                Mode  04 - 40 bis 49,99               NaN   \n",
       "1  WGH-Stufe Mode                Mode  05 - 50 bis 74,99               NaN   \n",
       "2  WGH-Stufe Mode                Mode  05 - 50 bis 74,99               NaN   \n",
       "3  WGH-Stufe Mode                Mode  05 - 50 bis 74,99               NaN   \n",
       "4  WGH-Stufe Mode                Mode  05 - 50 bis 74,99               NaN   \n",
       "\n",
       "     FARBE  GROESSE  MENGE_FREI_SHOWBEGINN  BEWERTUNG  SOLD_OUT_FLG  \n",
       "0  SCHWARZ      NaN                      7        NaN             1  \n",
       "1  SCHWARZ       36                      8        NaN             1  \n",
       "2  SCHWARZ       38                     23        NaN             1  \n",
       "3  SCHWARZ       40                     39        NaN             0  \n",
       "4  SCHWARZ       42                     44        NaN             0  \n",
       "\n",
       "[5 rows x 37 columns]"
      ]
     },
     "execution_count": 1,
     "metadata": {},
     "output_type": "execute_result"
    }
   ],
   "source": [
    "import pandas as pd\n",
    "import numpy as np\n",
    "\n",
    "\n",
    "training = pd.read_csv(\"./training_data.csv\", encoding='cp1252')\n",
    "\n",
    "training.head()"
   ]
  },
  {
   "cell_type": "code",
   "execution_count": 2,
   "metadata": {},
   "outputs": [],
   "source": [
    "test = pd.read_csv(\"./classification_data.csv\", encoding='cp1252')\n"
   ]
  },
  {
   "cell_type": "code",
   "execution_count": 3,
   "metadata": {},
   "outputs": [],
   "source": [
    "frames = [test, training]\n",
    "\n",
    "result = pd.concat(frames)"
   ]
  },
  {
   "cell_type": "code",
   "execution_count": 4,
   "metadata": {},
   "outputs": [],
   "source": [
    "# drop Columns we are sure that they are not needed\n",
    "\n",
    "result.drop(['DIVISION_DESC_SORT','WGH4_DESC'],axis=1,inplace=True)"
   ]
  },
  {
   "cell_type": "code",
   "execution_count": 5,
   "metadata": {},
   "outputs": [],
   "source": [
    "# convert FAKTOR into float\n",
    "result[\"FAKTOR\"] = result[\"FAKTOR\"].str.replace(',', \".\").astype(float)"
   ]
  },
  {
   "cell_type": "code",
   "execution_count": 6,
   "metadata": {},
   "outputs": [],
   "source": [
    "# convert KANAL into category variable\n",
    "\n",
    "result[\"KANAL\"] = result[\"KANAL\"].astype('category')\n",
    "result[\"KANAL\"] = result[\"KANAL\"].cat.codes\n",
    "result[\"KANAL\"] = result[\"KANAL\"].astype('category')"
   ]
  },
  {
   "cell_type": "code",
   "execution_count": 7,
   "metadata": {},
   "outputs": [],
   "source": [
    "# fill NaN with zeros\n",
    "\n",
    "result['BRAND_ID'].fillna(0,inplace=True)"
   ]
  },
  {
   "cell_type": "code",
   "execution_count": 8,
   "metadata": {},
   "outputs": [],
   "source": [
    "# convert PREIS_DISCOUNT into float and fill NaN with zeros\n",
    "\n",
    "result[\"PREIS_DISCOUNT\"] = result[\"PREIS_DISCOUNT\"].str.replace(',', \".\").astype(float)\n",
    "result['PREIS_DISCOUNT'] = result['PREIS_DISCOUNT'].fillna(0)"
   ]
  },
  {
   "cell_type": "code",
   "execution_count": 9,
   "metadata": {},
   "outputs": [],
   "source": [
    "# convert BEWERTUNG into float and fill NaN with zeros\n",
    "\n",
    "result.drop(['BEWERTUNG'],axis=1,inplace=True)"
   ]
  },
  {
   "cell_type": "code",
   "execution_count": 10,
   "metadata": {},
   "outputs": [],
   "source": [
    "# fill NaN with zeros\n",
    "\n",
    "result['MENGE_CALL'] = result['MENGE_CALL'].fillna(0)\n",
    "result['MENGE_ECOM'] = result['MENGE_ECOM'].fillna(0)"
   ]
  },
  {
   "cell_type": "code",
   "execution_count": 11,
   "metadata": {},
   "outputs": [],
   "source": [
    "# convert WG_DESC into category variable\n",
    "\n",
    "result[\"WG_DESC\"] = result[\"WG_DESC\"].astype('category')\n",
    "result[\"WG_DESC\"] = result[\"WG_DESC\"].cat.codes\n",
    "result[\"WG_DESC\"] = result[\"WG_DESC\"].astype('category')"
   ]
  },
  {
   "cell_type": "code",
   "execution_count": 12,
   "metadata": {},
   "outputs": [],
   "source": [
    "# convert WGH1_DESC into category variable\n",
    "\n",
    "result[\"WGH1_DESC\"] = result[\"WGH1_DESC\"].astype('category')\n",
    "result[\"WGH1_DESC\"] = result[\"WGH1_DESC\"].cat.codes\n",
    "result[\"WGH1_DESC\"] = result[\"WGH1_DESC\"].astype('category')"
   ]
  },
  {
   "cell_type": "code",
   "execution_count": 13,
   "metadata": {},
   "outputs": [],
   "source": [
    "# convert WGH3_DESC into category variable\n",
    "\n",
    "result[\"WGH3_DESC\"] = result[\"WGH3_DESC\"].astype('category')\n",
    "result[\"WGH3_DESC\"] = result[\"WGH3_DESC\"].cat.codes\n",
    "result[\"WGH3_DESC\"] = result[\"WGH3_DESC\"].astype('category')"
   ]
  },
  {
   "cell_type": "code",
   "execution_count": 14,
   "metadata": {},
   "outputs": [
    {
     "name": "stderr",
     "output_type": "stream",
     "text": [
      "/Users/floriansonneck/anaconda3/lib/python3.7/site-packages/ipykernel_launcher.py:4: FutureWarning: convert_objects is deprecated.  To re-infer data dtypes for object columns, use Series.infer_objects()\n",
      "For all other conversions use the data-type specific converters pd.to_datetime, pd.to_timedelta and pd.to_numeric.\n",
      "  after removing the cwd from sys.path.\n"
     ]
    }
   ],
   "source": [
    "# Split PREISKLASSE_DESC and convert into Numeric\n",
    "\n",
    "result['PREISKLASSE_DESC']=result['PREISKLASSE_DESC'].str[:2]\n",
    "result['PREISKLASSE_DESC']=result['PREISKLASSE_DESC'].convert_objects(convert_numeric=True)"
   ]
  },
  {
   "cell_type": "code",
   "execution_count": 15,
   "metadata": {},
   "outputs": [],
   "source": [
    "# convert PREIS_LABEL_DESC into category variable and fill NaN with zero\n",
    "\n",
    "result['PREIS_LABEL_DESC'] = result['PREIS_LABEL_DESC'].fillna(0)\n",
    "\n",
    "result[\"PREIS_LABEL_DESC\"] = result[\"PREIS_LABEL_DESC\"].astype('category')\n",
    "result[\"PREIS_LABEL_DESC\"] = result[\"PREIS_LABEL_DESC\"].cat.codes\n",
    "result[\"PREIS_LABEL_DESC\"] = result[\"PREIS_LABEL_DESC\"].astype('category')"
   ]
  },
  {
   "cell_type": "code",
   "execution_count": 16,
   "metadata": {},
   "outputs": [],
   "source": [
    "# convert FARBE into category variable\n",
    "result[\"FARBE\"] = result[\"FARBE\"].astype('category')\n",
    "result[\"FARBE\"] = result[\"FARBE\"].cat.codes\n",
    "result[\"FARBE\"] = result[\"FARBE\"].astype('category')"
   ]
  },
  {
   "cell_type": "code",
   "execution_count": 17,
   "metadata": {},
   "outputs": [],
   "source": [
    "result['SHOW_DATUM']=pd.to_datetime(result['SHOW_DATUM'])\n",
    "result['DAY_OF_WEEK'] = result['SHOW_DATUM'].dt.day_name()\n",
    "result[\"DAY_OF_WEEK\"] = result[\"DAY_OF_WEEK\"].astype('category')\n",
    "result[\"DAY_OF_WEEK\"] = result[\"DAY_OF_WEEK\"].cat.codes\n",
    "result[\"DAY_OF_WEEK\"] = result[\"DAY_OF_WEEK\"].astype('category')\n",
    "\n",
    "def from_hour_to_time_slot(x):\n",
    "    if 7 <= x < 9:\n",
    "        return \"MORNING TIME\"\n",
    "    elif 9 <= x <17:\n",
    "        return \"DAYTIME\"\n",
    "    elif 17 <= x < 20:\n",
    "        return \"EARLY PRIME TIME\"\n",
    "    elif 20 <= x < 23:\n",
    "        return \"PRIME TIME\"\n",
    "    elif 1 <= x < 7:\n",
    "        return \"LATE NIGHT\"\n",
    "    else:\n",
    "        return \"LATE PRIME TIME\"\n",
    "\n",
    "result['Hour_of_the_day'] = result['SHOW_DATUM'].dt.hour\n",
    "result.Hour_of_the_day = result.Hour_of_the_day.map(from_hour_to_time_slot)\n",
    "result.Hour_of_the_day.unique()\n",
    "result[\"Hour_of_the_day\"] = result[\"Hour_of_the_day\"].astype('category')\n",
    "result[\"Hour_of_the_day\"] = result[\"Hour_of_the_day\"].cat.codes\n",
    "result[\"Hour_of_the_day\"] = result[\"Hour_of_the_day\"].astype('category')\n",
    "\n",
    "result.drop(['SHOW_DATUM'],axis=1,inplace=True)"
   ]
  },
  {
   "cell_type": "code",
   "execution_count": 18,
   "metadata": {},
   "outputs": [],
   "source": [
    "# convert GROESSE into category variable, fill NaN with zero and merge certain data\n",
    "\n",
    "result['GROESSE'] = result['GROESSE'].fillna(0)\n",
    "result['GROESSE'].replace('ONESIZE','ONE SIZE',inplace=True)\n",
    "result['GROESSE'].replace('A',0,inplace=True)\n",
    "result['GROESSE'].replace('B',0,inplace=True)\n",
    "\n",
    "result[\"GROESSE\"] = result[\"GROESSE\"].astype('category')\n",
    "result[\"GROESSE\"] = result[\"GROESSE\"].cat.codes\n",
    "result[\"GROESSE\"] = result[\"GROESSE\"].astype('category')"
   ]
  },
  {
   "cell_type": "code",
   "execution_count": 19,
   "metadata": {},
   "outputs": [],
   "source": [
    "result.drop(['WGH4_ID'],axis=1,inplace=True)"
   ]
  },
  {
   "cell_type": "code",
   "execution_count": 20,
   "metadata": {},
   "outputs": [],
   "source": [
    "result[\"NEW_ITEM_FLG\"] = result[\"NEW_ITEM_FLG\"].astype('category')\n",
    "result[\"NEW_ITEM_FLG\"] = result[\"NEW_ITEM_FLG\"].cat.codes\n",
    "result[\"NEW_ITEM_FLG\"] = result[\"NEW_ITEM_FLG\"].astype('category')\n",
    "\n",
    "result[\"AIRING_23_FLG\"] = result[\"AIRING_23_FLG\"].astype('category')\n",
    "result[\"AIRING_23_FLG\"] = result[\"AIRING_23_FLG\"].cat.codes\n",
    "result[\"AIRING_23_FLG\"] = result[\"AIRING_23_FLG\"].astype('category')\n",
    "\n",
    "result[\"ADT_FLG\"] = result[\"ADT_FLG\"].astype('category')\n",
    "result[\"ADT_FLG\"] = result[\"ADT_FLG\"].cat.codes\n",
    "result[\"ADT_FLG\"] = result[\"ADT_FLG\"].astype('category')"
   ]
  },
  {
   "cell_type": "code",
   "execution_count": 21,
   "metadata": {},
   "outputs": [
    {
     "name": "stdout",
     "output_type": "stream",
     "text": [
      "<class 'pandas.core.frame.DataFrame'>\n",
      "Int64Index: 7665 entries, 0 to 6661\n",
      "Data columns (total 34 columns):\n",
      "OBS_ID                   7665 non-null int64\n",
      "KANAL                    7665 non-null category\n",
      "SHOW_ID                  7665 non-null int64\n",
      "FAKTOR                   7665 non-null float64\n",
      "WORDING_ID               7665 non-null int64\n",
      "BRAND_FLG                7665 non-null int64\n",
      "BRAND_ID                 7665 non-null float64\n",
      "WDHL_FLG                 7665 non-null int64\n",
      "BESTELL_ID               7665 non-null int64\n",
      "ARTIKEL_ID               7665 non-null int64\n",
      "SHOW_POSITION            7665 non-null int64\n",
      "NEW_ITEM_FLG             7665 non-null category\n",
      "AIRING_23_FLG            7665 non-null category\n",
      "AIRING_456_FLG           7665 non-null int64\n",
      "ADT_FLG                  7665 non-null category\n",
      "WG_ID                    7665 non-null int64\n",
      "WGH1_ID                  7665 non-null int64\n",
      "WGH3_ID                  7665 non-null int64\n",
      "PREIS_DISCOUNT           7665 non-null float64\n",
      "ANZ_ARTIKEL_ID           7665 non-null int64\n",
      "ONAIR_SEKUNDEN           7665 non-null int64\n",
      "MENGE_CALL               7665 non-null float64\n",
      "MENGE_ECOM               7665 non-null float64\n",
      "WG_DESC                  7665 non-null category\n",
      "WGH1_DESC                7665 non-null category\n",
      "WGH3_DESC                7665 non-null category\n",
      "PREISKLASSE_DESC         7665 non-null int64\n",
      "PREIS_LABEL_DESC         7665 non-null category\n",
      "FARBE                    7665 non-null category\n",
      "GROESSE                  7665 non-null category\n",
      "MENGE_FREI_SHOWBEGINN    7665 non-null int64\n",
      "SOLD_OUT_FLG             6662 non-null float64\n",
      "DAY_OF_WEEK              7665 non-null category\n",
      "Hour_of_the_day          7665 non-null category\n",
      "dtypes: category(12), float64(6), int64(16)\n",
      "memory usage: 1.4 MB\n"
     ]
    }
   ],
   "source": [
    "result.info()"
   ]
  },
  {
   "cell_type": "code",
   "execution_count": 22,
   "metadata": {},
   "outputs": [
    {
     "data": {
      "text/plain": [
       "['OBS_ID',\n",
       " 'KANAL',\n",
       " 'SHOW_ID',\n",
       " 'FAKTOR',\n",
       " 'WORDING_ID',\n",
       " 'BRAND_FLG',\n",
       " 'BRAND_ID',\n",
       " 'WDHL_FLG',\n",
       " 'BESTELL_ID',\n",
       " 'ARTIKEL_ID',\n",
       " 'SHOW_POSITION',\n",
       " 'NEW_ITEM_FLG',\n",
       " 'AIRING_23_FLG',\n",
       " 'AIRING_456_FLG',\n",
       " 'ADT_FLG',\n",
       " 'WG_ID',\n",
       " 'WGH1_ID',\n",
       " 'WGH3_ID',\n",
       " 'PREIS_DISCOUNT',\n",
       " 'ANZ_ARTIKEL_ID',\n",
       " 'ONAIR_SEKUNDEN',\n",
       " 'MENGE_CALL',\n",
       " 'MENGE_ECOM',\n",
       " 'WG_DESC',\n",
       " 'WGH1_DESC',\n",
       " 'WGH3_DESC',\n",
       " 'PREISKLASSE_DESC',\n",
       " 'PREIS_LABEL_DESC',\n",
       " 'FARBE',\n",
       " 'GROESSE',\n",
       " 'MENGE_FREI_SHOWBEGINN',\n",
       " 'SOLD_OUT_FLG',\n",
       " 'DAY_OF_WEEK',\n",
       " 'Hour_of_the_day']"
      ]
     },
     "execution_count": 22,
     "metadata": {},
     "output_type": "execute_result"
    }
   ],
   "source": [
    "cols = result.columns.tolist()\n",
    "\n",
    "cols"
   ]
  },
  {
   "cell_type": "code",
   "execution_count": 23,
   "metadata": {},
   "outputs": [],
   "source": [
    "result = result[['OBS_ID', 'DAY_OF_WEEK',\n",
    " 'Hour_of_the_day',\n",
    " 'KANAL',\n",
    " 'SHOW_ID',\n",
    " 'FAKTOR',\n",
    " 'WORDING_ID',\n",
    " 'BRAND_FLG',\n",
    " 'BRAND_ID',\n",
    " 'WDHL_FLG',\n",
    " 'BESTELL_ID',\n",
    " 'ARTIKEL_ID',\n",
    " 'SHOW_POSITION',\n",
    " 'NEW_ITEM_FLG',\n",
    " 'AIRING_23_FLG',\n",
    " 'AIRING_456_FLG',\n",
    " 'ADT_FLG',\n",
    " 'WG_ID',\n",
    " 'WGH1_ID',\n",
    " 'WGH3_ID',\n",
    " 'PREIS_DISCOUNT',\n",
    " 'ANZ_ARTIKEL_ID',\n",
    " 'ONAIR_SEKUNDEN',\n",
    " 'MENGE_CALL',\n",
    " 'MENGE_ECOM',\n",
    " 'WG_DESC',\n",
    " 'WGH1_DESC',\n",
    " 'WGH3_DESC',\n",
    " 'PREISKLASSE_DESC',\n",
    " 'PREIS_LABEL_DESC',\n",
    " 'FARBE',\n",
    " 'GROESSE',\n",
    " 'MENGE_FREI_SHOWBEGINN',\n",
    " 'SOLD_OUT_FLG']]"
   ]
  },
  {
   "cell_type": "code",
   "execution_count": 24,
   "metadata": {},
   "outputs": [
    {
     "data": {
      "text/html": [
       "<div>\n",
       "<style scoped>\n",
       "    .dataframe tbody tr th:only-of-type {\n",
       "        vertical-align: middle;\n",
       "    }\n",
       "\n",
       "    .dataframe tbody tr th {\n",
       "        vertical-align: top;\n",
       "    }\n",
       "\n",
       "    .dataframe thead th {\n",
       "        text-align: right;\n",
       "    }\n",
       "</style>\n",
       "<table border=\"1\" class=\"dataframe\">\n",
       "  <thead>\n",
       "    <tr style=\"text-align: right;\">\n",
       "      <th></th>\n",
       "      <th>OBS_ID</th>\n",
       "      <th>DAY_OF_WEEK</th>\n",
       "      <th>Hour_of_the_day</th>\n",
       "      <th>KANAL</th>\n",
       "      <th>SHOW_ID</th>\n",
       "      <th>FAKTOR</th>\n",
       "      <th>WORDING_ID</th>\n",
       "      <th>BRAND_FLG</th>\n",
       "      <th>BRAND_ID</th>\n",
       "      <th>WDHL_FLG</th>\n",
       "      <th>...</th>\n",
       "      <th>MENGE_ECOM</th>\n",
       "      <th>WG_DESC</th>\n",
       "      <th>WGH1_DESC</th>\n",
       "      <th>WGH3_DESC</th>\n",
       "      <th>PREISKLASSE_DESC</th>\n",
       "      <th>PREIS_LABEL_DESC</th>\n",
       "      <th>FARBE</th>\n",
       "      <th>GROESSE</th>\n",
       "      <th>MENGE_FREI_SHOWBEGINN</th>\n",
       "      <th>SOLD_OUT_FLG</th>\n",
       "    </tr>\n",
       "  </thead>\n",
       "  <tbody>\n",
       "    <tr>\n",
       "      <th>0</th>\n",
       "      <td>1</td>\n",
       "      <td>2</td>\n",
       "      <td>0</td>\n",
       "      <td>1</td>\n",
       "      <td>372896</td>\n",
       "      <td>1.0</td>\n",
       "      <td>34013</td>\n",
       "      <td>0</td>\n",
       "      <td>0.0</td>\n",
       "      <td>0</td>\n",
       "      <td>...</td>\n",
       "      <td>0.0</td>\n",
       "      <td>19</td>\n",
       "      <td>11</td>\n",
       "      <td>1</td>\n",
       "      <td>5</td>\n",
       "      <td>0</td>\n",
       "      <td>86</td>\n",
       "      <td>22</td>\n",
       "      <td>12</td>\n",
       "      <td>NaN</td>\n",
       "    </tr>\n",
       "    <tr>\n",
       "      <th>1</th>\n",
       "      <td>2</td>\n",
       "      <td>0</td>\n",
       "      <td>3</td>\n",
       "      <td>0</td>\n",
       "      <td>371999</td>\n",
       "      <td>1.3</td>\n",
       "      <td>25637</td>\n",
       "      <td>1</td>\n",
       "      <td>12.0</td>\n",
       "      <td>0</td>\n",
       "      <td>...</td>\n",
       "      <td>0.0</td>\n",
       "      <td>35</td>\n",
       "      <td>6</td>\n",
       "      <td>1</td>\n",
       "      <td>6</td>\n",
       "      <td>0</td>\n",
       "      <td>86</td>\n",
       "      <td>34</td>\n",
       "      <td>59</td>\n",
       "      <td>NaN</td>\n",
       "    </tr>\n",
       "    <tr>\n",
       "      <th>2</th>\n",
       "      <td>3</td>\n",
       "      <td>0</td>\n",
       "      <td>3</td>\n",
       "      <td>0</td>\n",
       "      <td>371999</td>\n",
       "      <td>1.3</td>\n",
       "      <td>25637</td>\n",
       "      <td>1</td>\n",
       "      <td>12.0</td>\n",
       "      <td>0</td>\n",
       "      <td>...</td>\n",
       "      <td>7.0</td>\n",
       "      <td>35</td>\n",
       "      <td>6</td>\n",
       "      <td>1</td>\n",
       "      <td>6</td>\n",
       "      <td>0</td>\n",
       "      <td>54</td>\n",
       "      <td>32</td>\n",
       "      <td>74</td>\n",
       "      <td>NaN</td>\n",
       "    </tr>\n",
       "    <tr>\n",
       "      <th>3</th>\n",
       "      <td>4</td>\n",
       "      <td>0</td>\n",
       "      <td>3</td>\n",
       "      <td>0</td>\n",
       "      <td>371999</td>\n",
       "      <td>1.3</td>\n",
       "      <td>25637</td>\n",
       "      <td>1</td>\n",
       "      <td>12.0</td>\n",
       "      <td>0</td>\n",
       "      <td>...</td>\n",
       "      <td>0.0</td>\n",
       "      <td>36</td>\n",
       "      <td>9</td>\n",
       "      <td>1</td>\n",
       "      <td>8</td>\n",
       "      <td>0</td>\n",
       "      <td>86</td>\n",
       "      <td>36</td>\n",
       "      <td>51</td>\n",
       "      <td>NaN</td>\n",
       "    </tr>\n",
       "    <tr>\n",
       "      <th>4</th>\n",
       "      <td>5</td>\n",
       "      <td>0</td>\n",
       "      <td>3</td>\n",
       "      <td>0</td>\n",
       "      <td>371999</td>\n",
       "      <td>1.3</td>\n",
       "      <td>25637</td>\n",
       "      <td>1</td>\n",
       "      <td>12.0</td>\n",
       "      <td>0</td>\n",
       "      <td>...</td>\n",
       "      <td>0.0</td>\n",
       "      <td>36</td>\n",
       "      <td>9</td>\n",
       "      <td>1</td>\n",
       "      <td>8</td>\n",
       "      <td>0</td>\n",
       "      <td>98</td>\n",
       "      <td>24</td>\n",
       "      <td>15</td>\n",
       "      <td>NaN</td>\n",
       "    </tr>\n",
       "  </tbody>\n",
       "</table>\n",
       "<p>5 rows × 34 columns</p>\n",
       "</div>"
      ],
      "text/plain": [
       "   OBS_ID DAY_OF_WEEK Hour_of_the_day KANAL  SHOW_ID  FAKTOR  WORDING_ID  \\\n",
       "0       1           2               0     1   372896     1.0       34013   \n",
       "1       2           0               3     0   371999     1.3       25637   \n",
       "2       3           0               3     0   371999     1.3       25637   \n",
       "3       4           0               3     0   371999     1.3       25637   \n",
       "4       5           0               3     0   371999     1.3       25637   \n",
       "\n",
       "   BRAND_FLG  BRAND_ID  WDHL_FLG      ...       MENGE_ECOM  WG_DESC  \\\n",
       "0          0       0.0         0      ...              0.0       19   \n",
       "1          1      12.0         0      ...              0.0       35   \n",
       "2          1      12.0         0      ...              7.0       35   \n",
       "3          1      12.0         0      ...              0.0       36   \n",
       "4          1      12.0         0      ...              0.0       36   \n",
       "\n",
       "   WGH1_DESC WGH3_DESC PREISKLASSE_DESC  PREIS_LABEL_DESC FARBE  GROESSE  \\\n",
       "0         11         1                5                 0    86       22   \n",
       "1          6         1                6                 0    86       34   \n",
       "2          6         1                6                 0    54       32   \n",
       "3          9         1                8                 0    86       36   \n",
       "4          9         1                8                 0    98       24   \n",
       "\n",
       "   MENGE_FREI_SHOWBEGINN  SOLD_OUT_FLG  \n",
       "0                     12           NaN  \n",
       "1                     59           NaN  \n",
       "2                     74           NaN  \n",
       "3                     51           NaN  \n",
       "4                     15           NaN  \n",
       "\n",
       "[5 rows x 34 columns]"
      ]
     },
     "execution_count": 24,
     "metadata": {},
     "output_type": "execute_result"
    }
   ],
   "source": [
    "result.head()"
   ]
  },
  {
   "cell_type": "code",
   "execution_count": 128,
   "metadata": {},
   "outputs": [],
   "source": [
    "# K-Means Algorithm for size and color\n",
    "\n",
    "X = result[[\"GROESSE\",\"FARBE\"]]\n",
    "\n",
    "\n",
    "from sklearn.preprocessing import StandardScaler\n",
    "\n",
    "scaler = StandardScaler()\n",
    "\n",
    "X_transformed = scaler.fit_transform(X)"
   ]
  },
  {
   "cell_type": "code",
   "execution_count": 129,
   "metadata": {},
   "outputs": [],
   "source": [
    "# Elbow Method to check the optimal number of clusters\n",
    "\n",
    "from sklearn.cluster import KMeans\n",
    "\n",
    "scores=[]\n",
    "for n in range (2,12):\n",
    "    model = KMeans(n_clusters=n)\n",
    "    model.fit(X_transformed)\n",
    "    scores.append(model.inertia_)"
   ]
  },
  {
   "cell_type": "code",
   "execution_count": 130,
   "metadata": {},
   "outputs": [
    {
     "data": {
      "image/png": "[encoded data removed]",
      "text/plain": [
       "<Figure size 432x288 with 1 Axes>"
      ]
     },
     "metadata": {
      "needs_background": "light"
     },
     "output_type": "display_data"
    }
   ],
   "source": [
    "% matplotlib inline\n",
    "\n",
    "import matplotlib.pyplot as plt\n",
    "\n",
    "\n",
    "plt.plot(range(2,12),scores)\n",
    "plt.show()\n",
    "\n",
    "# auf y-Achse mittlerer quadrierter Abstand \n",
    "# auf x-Achse Anzahl der Cluster\n",
    "\n",
    "# beobachten wie sich die Datenbeschreibung verbessert (Unterschiede zwischen den einzelnen Clustern)"
   ]
  },
  {
   "cell_type": "code",
   "execution_count": 131,
   "metadata": {},
   "outputs": [
    {
     "name": "stdout",
     "output_type": "stream",
     "text": [
      "[1 4 6 ... 4 4 4]\n"
     ]
    }
   ],
   "source": [
    "# as seen in the graph above a n_cluster of 7 gives a balanced prediction, therefore this number is \n",
    "# to minimize the difference between datapoints and K-Mean\n",
    "\n",
    "model = KMeans(n_clusters=7)\n",
    "model.fit(X_transformed)\n",
    "model.fit(X_transformed)\n",
    "\n",
    "labels = model.labels_ # Aufteilung der Daten\n",
    "centers=model.cluster_centers_\n",
    "centers_transformed=scaler.inverse_transform(centers)\n",
    "\n",
    "print(model.labels_)"
   ]
  },
  {
   "cell_type": "code",
   "execution_count": 132,
   "metadata": {},
   "outputs": [
    {
     "data": {
      "image/png": "[encoded data removed]",
      "text/plain": [
       "<Figure size 432x288 with 1 Axes>"
      ]
     },
     "metadata": {
      "needs_background": "light"
     },
     "output_type": "display_data"
    }
   ],
   "source": [
    "% matplotlib inline\n",
    "\n",
    "import matplotlib.pyplot as plt\n",
    "\n",
    "\n",
    "plt.scatter(result[\"GROESSE\"],result[\"FARBE\"],c=labels,alpha=0.4,s=10)\n",
    "plt.scatter(centers_transformed[:,0],\n",
    "            centers_transformed[:,1],\n",
    "            c=range(len(centers_transformed)),\n",
    "            marker=\"*\",\n",
    "            s=150)\n",
    "plt.show()"
   ]
  },
  {
   "cell_type": "code",
   "execution_count": 25,
   "metadata": {},
   "outputs": [],
   "source": [
    "# split dataset again into training and test data\n",
    "\n",
    "test = result[result[\"OBS_ID\"]<=1003].copy()\n",
    "training = result[result[\"OBS_ID\"]> 1003].copy()"
   ]
  },
  {
   "cell_type": "code",
   "execution_count": 26,
   "metadata": {},
   "outputs": [
    {
     "data": {
      "text/html": [
       "<div>\n",
       "<style scoped>\n",
       "    .dataframe tbody tr th:only-of-type {\n",
       "        vertical-align: middle;\n",
       "    }\n",
       "\n",
       "    .dataframe tbody tr th {\n",
       "        vertical-align: top;\n",
       "    }\n",
       "\n",
       "    .dataframe thead th {\n",
       "        text-align: right;\n",
       "    }\n",
       "</style>\n",
       "<table border=\"1\" class=\"dataframe\">\n",
       "  <thead>\n",
       "    <tr style=\"text-align: right;\">\n",
       "      <th></th>\n",
       "      <th>OBS_ID</th>\n",
       "      <th>DAY_OF_WEEK</th>\n",
       "      <th>Hour_of_the_day</th>\n",
       "      <th>KANAL</th>\n",
       "      <th>SHOW_ID</th>\n",
       "      <th>FAKTOR</th>\n",
       "      <th>WORDING_ID</th>\n",
       "      <th>BRAND_FLG</th>\n",
       "      <th>BRAND_ID</th>\n",
       "      <th>WDHL_FLG</th>\n",
       "      <th>...</th>\n",
       "      <th>MENGE_ECOM</th>\n",
       "      <th>WG_DESC</th>\n",
       "      <th>WGH1_DESC</th>\n",
       "      <th>WGH3_DESC</th>\n",
       "      <th>PREISKLASSE_DESC</th>\n",
       "      <th>PREIS_LABEL_DESC</th>\n",
       "      <th>FARBE</th>\n",
       "      <th>GROESSE</th>\n",
       "      <th>MENGE_FREI_SHOWBEGINN</th>\n",
       "      <th>SOLD_OUT_FLG</th>\n",
       "    </tr>\n",
       "  </thead>\n",
       "  <tbody>\n",
       "    <tr>\n",
       "      <th>0</th>\n",
       "      <td>1</td>\n",
       "      <td>2</td>\n",
       "      <td>0</td>\n",
       "      <td>1</td>\n",
       "      <td>372896</td>\n",
       "      <td>1.0</td>\n",
       "      <td>34013</td>\n",
       "      <td>0</td>\n",
       "      <td>0.0</td>\n",
       "      <td>0</td>\n",
       "      <td>...</td>\n",
       "      <td>0.0</td>\n",
       "      <td>19</td>\n",
       "      <td>11</td>\n",
       "      <td>1</td>\n",
       "      <td>5</td>\n",
       "      <td>0</td>\n",
       "      <td>86</td>\n",
       "      <td>22</td>\n",
       "      <td>12</td>\n",
       "      <td>NaN</td>\n",
       "    </tr>\n",
       "    <tr>\n",
       "      <th>1</th>\n",
       "      <td>2</td>\n",
       "      <td>0</td>\n",
       "      <td>3</td>\n",
       "      <td>0</td>\n",
       "      <td>371999</td>\n",
       "      <td>1.3</td>\n",
       "      <td>25637</td>\n",
       "      <td>1</td>\n",
       "      <td>12.0</td>\n",
       "      <td>0</td>\n",
       "      <td>...</td>\n",
       "      <td>0.0</td>\n",
       "      <td>35</td>\n",
       "      <td>6</td>\n",
       "      <td>1</td>\n",
       "      <td>6</td>\n",
       "      <td>0</td>\n",
       "      <td>86</td>\n",
       "      <td>34</td>\n",
       "      <td>59</td>\n",
       "      <td>NaN</td>\n",
       "    </tr>\n",
       "    <tr>\n",
       "      <th>2</th>\n",
       "      <td>3</td>\n",
       "      <td>0</td>\n",
       "      <td>3</td>\n",
       "      <td>0</td>\n",
       "      <td>371999</td>\n",
       "      <td>1.3</td>\n",
       "      <td>25637</td>\n",
       "      <td>1</td>\n",
       "      <td>12.0</td>\n",
       "      <td>0</td>\n",
       "      <td>...</td>\n",
       "      <td>7.0</td>\n",
       "      <td>35</td>\n",
       "      <td>6</td>\n",
       "      <td>1</td>\n",
       "      <td>6</td>\n",
       "      <td>0</td>\n",
       "      <td>54</td>\n",
       "      <td>32</td>\n",
       "      <td>74</td>\n",
       "      <td>NaN</td>\n",
       "    </tr>\n",
       "    <tr>\n",
       "      <th>3</th>\n",
       "      <td>4</td>\n",
       "      <td>0</td>\n",
       "      <td>3</td>\n",
       "      <td>0</td>\n",
       "      <td>371999</td>\n",
       "      <td>1.3</td>\n",
       "      <td>25637</td>\n",
       "      <td>1</td>\n",
       "      <td>12.0</td>\n",
       "      <td>0</td>\n",
       "      <td>...</td>\n",
       "      <td>0.0</td>\n",
       "      <td>36</td>\n",
       "      <td>9</td>\n",
       "      <td>1</td>\n",
       "      <td>8</td>\n",
       "      <td>0</td>\n",
       "      <td>86</td>\n",
       "      <td>36</td>\n",
       "      <td>51</td>\n",
       "      <td>NaN</td>\n",
       "    </tr>\n",
       "    <tr>\n",
       "      <th>4</th>\n",
       "      <td>5</td>\n",
       "      <td>0</td>\n",
       "      <td>3</td>\n",
       "      <td>0</td>\n",
       "      <td>371999</td>\n",
       "      <td>1.3</td>\n",
       "      <td>25637</td>\n",
       "      <td>1</td>\n",
       "      <td>12.0</td>\n",
       "      <td>0</td>\n",
       "      <td>...</td>\n",
       "      <td>0.0</td>\n",
       "      <td>36</td>\n",
       "      <td>9</td>\n",
       "      <td>1</td>\n",
       "      <td>8</td>\n",
       "      <td>0</td>\n",
       "      <td>98</td>\n",
       "      <td>24</td>\n",
       "      <td>15</td>\n",
       "      <td>NaN</td>\n",
       "    </tr>\n",
       "  </tbody>\n",
       "</table>\n",
       "<p>5 rows × 34 columns</p>\n",
       "</div>"
      ],
      "text/plain": [
       "   OBS_ID DAY_OF_WEEK Hour_of_the_day KANAL  SHOW_ID  FAKTOR  WORDING_ID  \\\n",
       "0       1           2               0     1   372896     1.0       34013   \n",
       "1       2           0               3     0   371999     1.3       25637   \n",
       "2       3           0               3     0   371999     1.3       25637   \n",
       "3       4           0               3     0   371999     1.3       25637   \n",
       "4       5           0               3     0   371999     1.3       25637   \n",
       "\n",
       "   BRAND_FLG  BRAND_ID  WDHL_FLG      ...       MENGE_ECOM  WG_DESC  \\\n",
       "0          0       0.0         0      ...              0.0       19   \n",
       "1          1      12.0         0      ...              0.0       35   \n",
       "2          1      12.0         0      ...              7.0       35   \n",
       "3          1      12.0         0      ...              0.0       36   \n",
       "4          1      12.0         0      ...              0.0       36   \n",
       "\n",
       "   WGH1_DESC WGH3_DESC PREISKLASSE_DESC  PREIS_LABEL_DESC FARBE  GROESSE  \\\n",
       "0         11         1                5                 0    86       22   \n",
       "1          6         1                6                 0    86       34   \n",
       "2          6         1                6                 0    54       32   \n",
       "3          9         1                8                 0    86       36   \n",
       "4          9         1                8                 0    98       24   \n",
       "\n",
       "   MENGE_FREI_SHOWBEGINN  SOLD_OUT_FLG  \n",
       "0                     12           NaN  \n",
       "1                     59           NaN  \n",
       "2                     74           NaN  \n",
       "3                     51           NaN  \n",
       "4                     15           NaN  \n",
       "\n",
       "[5 rows x 34 columns]"
      ]
     },
     "execution_count": 26,
     "metadata": {},
     "output_type": "execute_result"
    }
   ],
   "source": [
    "test.head()"
   ]
  },
  {
   "cell_type": "code",
   "execution_count": 138,
   "metadata": {},
   "outputs": [],
   "source": [
    "# K-Means Algorithm for color and Sold_Out_FLG\n",
    "\n",
    "X = training[[\"SOLD_OUT_FLG\",\"FARBE\"]]\n",
    "\n",
    "\n",
    "from sklearn.preprocessing import StandardScaler\n",
    "\n",
    "scaler = StandardScaler()\n",
    "\n",
    "X_transformed = scaler.fit_transform(X)"
   ]
  },
  {
   "cell_type": "code",
   "execution_count": 139,
   "metadata": {},
   "outputs": [],
   "source": [
    "# Elbow Method to check the optimal number of clusters\n",
    "\n",
    "from sklearn.cluster import KMeans\n",
    "\n",
    "scores=[]\n",
    "for n in range (2,12):\n",
    "    model = KMeans(n_clusters=n)\n",
    "    model.fit(X_transformed)\n",
    "    scores.append(model.inertia_)"
   ]
  },
  {
   "cell_type": "code",
   "execution_count": 140,
   "metadata": {},
   "outputs": [
    {
     "data": {
      "image/png": "[encoded data removed]",
      "text/plain": [
       "<Figure size 432x288 with 1 Axes>"
      ]
     },
     "metadata": {
      "needs_background": "light"
     },
     "output_type": "display_data"
    }
   ],
   "source": [
    "% matplotlib inline\n",
    "\n",
    "import matplotlib.pyplot as plt\n",
    "\n",
    "\n",
    "plt.plot(range(2,12),scores)\n",
    "plt.show()\n",
    "\n",
    "# auf y-Achse mittlerer quadrierter Abstand \n",
    "# auf x-Achse Anzahl der Cluster\n",
    "\n",
    "# beobachten wie sich die Datenbeschreibung verbessert (Unterschiede zwischen den einzelnen Clustern)"
   ]
  },
  {
   "cell_type": "code",
   "execution_count": 143,
   "metadata": {},
   "outputs": [
    {
     "name": "stdout",
     "output_type": "stream",
     "text": [
      "[1 1 1 ... 2 2 2]\n"
     ]
    }
   ],
   "source": [
    "# as seen in the graph above a n_cluster of 7 gives a balanced prediction, therefore this number is \n",
    "# to minimize the difference between datapoints and K-Mean\n",
    "\n",
    "model = KMeans(n_clusters=4)\n",
    "model.fit(X_transformed)\n",
    "model.fit(X_transformed)\n",
    "\n",
    "labels = model.labels_ # Aufteilung der Daten\n",
    "centers=model.cluster_centers_\n",
    "centers_transformed=scaler.inverse_transform(centers)\n",
    "\n",
    "print(model.labels_)"
   ]
  },
  {
   "cell_type": "code",
   "execution_count": 144,
   "metadata": {},
   "outputs": [
    {
     "data": {
      "image/png": "[encoded data removed]",
      "text/plain": [
       "<Figure size 432x288 with 1 Axes>"
      ]
     },
     "metadata": {
      "needs_background": "light"
     },
     "output_type": "display_data"
    }
   ],
   "source": [
    "% matplotlib inline\n",
    "\n",
    "import matplotlib.pyplot as plt\n",
    "\n",
    "\n",
    "plt.scatter(training[\"SOLD_OUT_FLG\"],training[\"FARBE\"],c=labels,alpha=0.4,s=10)\n",
    "plt.scatter(centers_transformed[:,0],\n",
    "            centers_transformed[:,1],\n",
    "            c=range(len(centers_transformed)),\n",
    "            marker=\"*\",\n",
    "            s=150)\n",
    "plt.show()"
   ]
  },
  {
   "cell_type": "code",
   "execution_count": 27,
   "metadata": {},
   "outputs": [
    {
     "name": "stdout",
     "output_type": "stream",
     "text": [
      "MENGE_FREI_SHOWBEGINN   -0.217899\n",
      "WGH3_ID                 -0.058962\n",
      "WGH1_ID                 -0.058691\n",
      "WG_ID                   -0.058691\n",
      "ANZ_ARTIKEL_ID          -0.041373\n",
      "ARTIKEL_ID              -0.037294\n",
      "BESTELL_ID              -0.037294\n",
      "SHOW_POSITION           -0.035583\n",
      "AIRING_456_FLG          -0.024877\n",
      "BRAND_ID                -0.009940\n",
      "WDHL_FLG                -0.006712\n",
      "WORDING_ID               0.003995\n",
      "BRAND_FLG                0.004250\n",
      "PREISKLASSE_DESC         0.007891\n",
      "PREIS_DISCOUNT           0.011551\n",
      "FAKTOR                   0.016922\n",
      "SHOW_ID                  0.019681\n",
      "MENGE_ECOM               0.020832\n",
      "OBS_ID                   0.032785\n",
      "MENGE_CALL               0.143767\n",
      "ONAIR_SEKUNDEN           0.176051\n",
      "SOLD_OUT_FLG             1.000000\n",
      "Name: SOLD_OUT_FLG, dtype: float64\n"
     ]
    }
   ],
   "source": [
    "correlations_data = training.corr()['SOLD_OUT_FLG'].sort_values()\n",
    "print(correlations_data)"
   ]
  },
  {
   "cell_type": "code",
   "execution_count": 28,
   "metadata": {},
   "outputs": [
    {
     "name": "stdout",
     "output_type": "stream",
     "text": [
      "                         OBS_ID   SHOW_ID    FAKTOR  WORDING_ID  BRAND_FLG  \\\n",
      "OBS_ID                 1.000000  0.907461 -0.062878    0.133050  -0.058408   \n",
      "SHOW_ID                0.907461  1.000000 -0.023201    0.165589  -0.027156   \n",
      "FAKTOR                -0.062878 -0.023201  1.000000   -0.025590   0.171271   \n",
      "WORDING_ID             0.133050  0.165589 -0.025590    1.000000  -0.220763   \n",
      "BRAND_FLG             -0.058408 -0.027156  0.171271   -0.220763   1.000000   \n",
      "BRAND_ID              -0.062440 -0.048710  0.104711   -0.228983   0.895978   \n",
      "WDHL_FLG               0.044652  0.063678 -0.134173    0.006885  -0.023172   \n",
      "BESTELL_ID             0.699787  0.795014  0.053076    0.173337   0.003009   \n",
      "ARTIKEL_ID             0.699787  0.795014  0.053076    0.173337   0.003009   \n",
      "SHOW_POSITION         -0.005867  0.016536 -0.015779   -0.027375   0.019241   \n",
      "AIRING_456_FLG         0.036390 -0.031559 -0.057908   -0.054289   0.089651   \n",
      "WG_ID                  0.032007 -0.019894 -0.194867    0.057354  -0.420480   \n",
      "WGH1_ID                0.032007 -0.019894 -0.194866    0.057354  -0.420480   \n",
      "WGH3_ID                0.030970 -0.022036 -0.184986    0.033842  -0.394468   \n",
      "PREIS_DISCOUNT         0.149987  0.083615 -0.173647   -0.008595   0.190106   \n",
      "ANZ_ARTIKEL_ID        -0.078512 -0.093101  0.215110   -0.209524   0.436834   \n",
      "ONAIR_SEKUNDEN         0.036138  0.042123 -0.027641    0.062114  -0.115178   \n",
      "MENGE_CALL            -0.020042 -0.021952  0.043085   -0.059221   0.092797   \n",
      "MENGE_ECOM            -0.027515 -0.013130  0.104644   -0.040834   0.168558   \n",
      "PREISKLASSE_DESC      -0.120799 -0.080672  0.221279    0.061989   0.111529   \n",
      "MENGE_FREI_SHOWBEGINN -0.035642 -0.007123 -0.047470   -0.059313   0.124504   \n",
      "SOLD_OUT_FLG           0.032785  0.019681  0.016922    0.003995   0.004250   \n",
      "\n",
      "                       BRAND_ID  WDHL_FLG  BESTELL_ID  ARTIKEL_ID  \\\n",
      "OBS_ID                -0.062440  0.044652    0.699787    0.699787   \n",
      "SHOW_ID               -0.048710  0.063678    0.795014    0.795014   \n",
      "FAKTOR                 0.104711 -0.134173    0.053076    0.053076   \n",
      "WORDING_ID            -0.228983  0.006885    0.173337    0.173337   \n",
      "BRAND_FLG              0.895978 -0.023172    0.003009    0.003009   \n",
      "BRAND_ID               1.000000  0.002029   -0.047799   -0.047798   \n",
      "WDHL_FLG               0.002029  1.000000    0.011926    0.011926   \n",
      "BESTELL_ID            -0.047799  0.011926    1.000000    1.000000   \n",
      "ARTIKEL_ID            -0.047798  0.011926    1.000000    1.000000   \n",
      "SHOW_POSITION         -0.009550  0.142073   -0.073959   -0.073959   \n",
      "AIRING_456_FLG         0.099113 -0.045705   -0.123306   -0.123306   \n",
      "WG_ID                 -0.184037  0.081157   -0.075645   -0.075644   \n",
      "WGH1_ID               -0.184037  0.081156   -0.075644   -0.075644   \n",
      "WGH3_ID               -0.142236  0.087872   -0.074329   -0.074328   \n",
      "PREIS_DISCOUNT         0.212343  0.025634   -0.181243   -0.181243   \n",
      "ANZ_ARTIKEL_ID         0.450182  0.015854   -0.088562   -0.088562   \n",
      "ONAIR_SEKUNDEN        -0.139760 -0.132846    0.030758    0.030758   \n",
      "MENGE_CALL             0.100486 -0.053828   -0.037608   -0.037608   \n",
      "MENGE_ECOM             0.100684 -0.000183    0.049939    0.049939   \n",
      "PREISKLASSE_DESC      -0.023630 -0.123224    0.071165    0.071165   \n",
      "MENGE_FREI_SHOWBEGINN  0.150024  0.131745    0.059433    0.059434   \n",
      "SOLD_OUT_FLG          -0.009940 -0.006712   -0.037294   -0.037294   \n",
      "\n",
      "                       SHOW_POSITION      ...        WGH1_ID   WGH3_ID  \\\n",
      "OBS_ID                     -0.005867      ...       0.032007  0.030970   \n",
      "SHOW_ID                     0.016536      ...      -0.019894 -0.022036   \n",
      "FAKTOR                     -0.015779      ...      -0.194866 -0.184986   \n",
      "WORDING_ID                 -0.027375      ...       0.057354  0.033842   \n",
      "BRAND_FLG                   0.019241      ...      -0.420480 -0.394468   \n",
      "BRAND_ID                   -0.009550      ...      -0.184037 -0.142236   \n",
      "WDHL_FLG                    0.142073      ...       0.081156  0.087872   \n",
      "BESTELL_ID                 -0.073959      ...      -0.075644 -0.074329   \n",
      "ARTIKEL_ID                 -0.073959      ...      -0.075644 -0.074328   \n",
      "SHOW_POSITION               1.000000      ...      -0.112988 -0.128451   \n",
      "AIRING_456_FLG              0.079654      ...      -0.078366 -0.075656   \n",
      "WG_ID                      -0.112988      ...       1.000000  0.995521   \n",
      "WGH1_ID                    -0.112988      ...       1.000000  0.995521   \n",
      "WGH3_ID                    -0.128451      ...       0.995521  1.000000   \n",
      "PREIS_DISCOUNT              0.122090      ...      -0.112224 -0.109659   \n",
      "ANZ_ARTIKEL_ID             -0.024116      ...       0.076335  0.119940   \n",
      "ONAIR_SEKUNDEN             -0.104590      ...      -0.075823 -0.086889   \n",
      "MENGE_CALL                 -0.045455      ...      -0.007424 -0.002091   \n",
      "MENGE_ECOM                 -0.023375      ...      -0.093422 -0.089698   \n",
      "PREISKLASSE_DESC           -0.111805      ...      -0.527751 -0.539831   \n",
      "MENGE_FREI_SHOWBEGINN      -0.016804      ...       0.098468  0.110666   \n",
      "SOLD_OUT_FLG               -0.035583      ...      -0.058691 -0.058962   \n",
      "\n",
      "                       PREIS_DISCOUNT  ANZ_ARTIKEL_ID  ONAIR_SEKUNDEN  \\\n",
      "OBS_ID                       0.149987       -0.078512        0.036138   \n",
      "SHOW_ID                      0.083615       -0.093101        0.042123   \n",
      "FAKTOR                      -0.173647        0.215110       -0.027641   \n",
      "WORDING_ID                  -0.008595       -0.209524        0.062114   \n",
      "BRAND_FLG                    0.190106        0.436834       -0.115178   \n",
      "BRAND_ID                     0.212343        0.450182       -0.139760   \n",
      "WDHL_FLG                     0.025634        0.015854       -0.132846   \n",
      "BESTELL_ID                  -0.181243       -0.088562        0.030758   \n",
      "ARTIKEL_ID                  -0.181243       -0.088562        0.030758   \n",
      "SHOW_POSITION                0.122090       -0.024116       -0.104590   \n",
      "AIRING_456_FLG               0.253729        0.079560       -0.051952   \n",
      "WG_ID                       -0.112224        0.076335       -0.075823   \n",
      "WGH1_ID                     -0.112224        0.076335       -0.075823   \n",
      "WGH3_ID                     -0.109659        0.119940       -0.086889   \n",
      "PREIS_DISCOUNT               1.000000        0.056630       -0.033925   \n",
      "ANZ_ARTIKEL_ID               0.056630        1.000000       -0.283565   \n",
      "ONAIR_SEKUNDEN              -0.033925       -0.283565        1.000000   \n",
      "MENGE_CALL                   0.054554        0.075595        0.636247   \n",
      "MENGE_ECOM                   0.008706        0.117806        0.387992   \n",
      "PREISKLASSE_DESC            -0.075937       -0.297888        0.163939   \n",
      "MENGE_FREI_SHOWBEGINN        0.085182        0.167851        0.156754   \n",
      "SOLD_OUT_FLG                 0.011551       -0.041373        0.176051   \n",
      "\n",
      "                       MENGE_CALL  MENGE_ECOM  PREISKLASSE_DESC  \\\n",
      "OBS_ID                  -0.020042   -0.027515         -0.120799   \n",
      "SHOW_ID                 -0.021952   -0.013130         -0.080672   \n",
      "FAKTOR                   0.043085    0.104644          0.221279   \n",
      "WORDING_ID              -0.059221   -0.040834          0.061989   \n",
      "BRAND_FLG                0.092797    0.168558          0.111529   \n",
      "BRAND_ID                 0.100486    0.100684         -0.023630   \n",
      "WDHL_FLG                -0.053828   -0.000183         -0.123224   \n",
      "BESTELL_ID              -0.037608    0.049939          0.071165   \n",
      "ARTIKEL_ID              -0.037608    0.049939          0.071165   \n",
      "SHOW_POSITION           -0.045455   -0.023375         -0.111805   \n",
      "AIRING_456_FLG           0.013413    0.002875         -0.081836   \n",
      "WG_ID                   -0.007424   -0.093421         -0.527751   \n",
      "WGH1_ID                 -0.007424   -0.093422         -0.527751   \n",
      "WGH3_ID                 -0.002091   -0.089698         -0.539831   \n",
      "PREIS_DISCOUNT           0.054554    0.008706         -0.075937   \n",
      "ANZ_ARTIKEL_ID           0.075595    0.117806         -0.297888   \n",
      "ONAIR_SEKUNDEN           0.636247    0.387992          0.163939   \n",
      "MENGE_CALL               1.000000    0.670933         -0.137808   \n",
      "MENGE_ECOM               0.670933    1.000000         -0.027564   \n",
      "PREISKLASSE_DESC        -0.137808   -0.027564          1.000000   \n",
      "MENGE_FREI_SHOWBEGINN    0.420916    0.406392         -0.136595   \n",
      "SOLD_OUT_FLG             0.143767    0.020832          0.007891   \n",
      "\n",
      "                       MENGE_FREI_SHOWBEGINN  SOLD_OUT_FLG  \n",
      "OBS_ID                             -0.035642      0.032785  \n",
      "SHOW_ID                            -0.007123      0.019681  \n",
      "FAKTOR                             -0.047470      0.016922  \n",
      "WORDING_ID                         -0.059313      0.003995  \n",
      "BRAND_FLG                           0.124504      0.004250  \n",
      "BRAND_ID                            0.150024     -0.009940  \n",
      "WDHL_FLG                            0.131745     -0.006712  \n",
      "BESTELL_ID                          0.059433     -0.037294  \n",
      "ARTIKEL_ID                          0.059434     -0.037294  \n",
      "SHOW_POSITION                      -0.016804     -0.035583  \n",
      "AIRING_456_FLG                      0.036092     -0.024877  \n",
      "WG_ID                               0.098469     -0.058691  \n",
      "WGH1_ID                             0.098468     -0.058691  \n",
      "WGH3_ID                             0.110666     -0.058962  \n",
      "PREIS_DISCOUNT                      0.085182      0.011551  \n",
      "ANZ_ARTIKEL_ID                      0.167851     -0.041373  \n",
      "ONAIR_SEKUNDEN                      0.156754      0.176051  \n",
      "MENGE_CALL                          0.420916      0.143767  \n",
      "MENGE_ECOM                          0.406392      0.020832  \n",
      "PREISKLASSE_DESC                   -0.136595      0.007891  \n",
      "MENGE_FREI_SHOWBEGINN               1.000000     -0.217899  \n",
      "SOLD_OUT_FLG                       -0.217899      1.000000  \n",
      "\n",
      "[22 rows x 22 columns]\n"
     ]
    },
    {
     "data": {
      "text/plain": [
       "<matplotlib.axes._subplots.AxesSubplot at 0x1a2352ce80>"
      ]
     },
     "execution_count": 28,
     "metadata": {},
     "output_type": "execute_result"
    }
   ],
   "source": [
    "import seaborn as sns\n",
    "import matplotlib.pyplot as plt\n",
    "\n",
    "corr = training.corr()\n",
    "print(corr)\n",
    "\n",
    "fig, ax = plt.subplots(figsize=(30,30))         # Sample figsize in inches\n",
    "\n",
    "\n",
    "sns.heatmap(corr, \n",
    "        xticklabels=corr.columns,\n",
    "        yticklabels=corr.columns, annot=True, linewidths=.5, ax=ax)"
   ]
  },
  {
   "cell_type": "code",
   "execution_count": 29,
   "metadata": {},
   "outputs": [],
   "source": [
    "x = training"
   ]
  },
  {
   "cell_type": "code",
   "execution_count": 30,
   "metadata": {},
   "outputs": [],
   "source": [
    "def corr_df(x, corr_val):\n",
    "    '''\n",
    "    Obj: Drops features that are strongly correlated to other features.\n",
    "          This lowers model complexity, and aids in generalizing the model.\n",
    "    Inputs:\n",
    "          df: features df (x)\n",
    "          corr_val: Columns are dropped relative to the corr_val input (e.g. 0.8)\n",
    "    Output: df that only includes uncorrelated features\n",
    "    '''\n",
    "\n",
    "    # Creates Correlation Matrix and Instantiates\n",
    "    corr_matrix = x.corr()\n",
    "    iters = range(len(corr_matrix.columns) - 1)\n",
    "    drop_cols = []\n",
    "\n",
    "    # Iterates through Correlation Matrix Table to find correlated columns\n",
    "    for i in iters:\n",
    "        for j in range(i):\n",
    "            item = corr_matrix.iloc[j:(j+1), (i+1):(i+2)]\n",
    "            col = item.columns\n",
    "            row = item.index\n",
    "            val = item.values\n",
    "            if val >= corr_val:\n",
    "                # Prints the correlated feature set and the corr val\n",
    "                print(col.values[0], \"|\", row.values[0], \"|\", round(val[0][0], 2))\n",
    "                drop_cols.append(i)\n",
    "\n",
    "    drops = sorted(set(drop_cols))[::-1]\n",
    "\n",
    "    # Drops the correlated columns\n",
    "    for i in drops:\n",
    "        col = x.iloc[:, (i+1):(i+2)].columns.values\n",
    "        df = x.drop(col, axis=1)\n",
    "\n",
    "    return df"
   ]
  },
  {
   "cell_type": "code",
   "execution_count": 31,
   "metadata": {},
   "outputs": [
    {
     "name": "stdout",
     "output_type": "stream",
     "text": [
      "BESTELL_ID | OBS_ID | 0.7\n",
      "BESTELL_ID | SHOW_ID | 0.8\n",
      "ARTIKEL_ID | OBS_ID | 0.7\n",
      "ARTIKEL_ID | SHOW_ID | 0.8\n",
      "WGH3_ID | WG_ID | 1.0\n"
     ]
    }
   ],
   "source": [
    "training = corr_df(training, 0.6)"
   ]
  },
  {
   "cell_type": "code",
   "execution_count": 32,
   "metadata": {},
   "outputs": [],
   "source": [
    "training.drop([\"BESTELL_ID\",\"ARTIKEL_ID\",\"WG_ID\",\"WGH1_ID\",\"PREIS_LABEL_DESC\"],axis=1,inplace=True)\n",
    "test.drop([\"BESTELL_ID\",\"ARTIKEL_ID\",\"WG_ID\",\"WGH1_ID\",\"PREIS_LABEL_DESC\"],axis=1,inplace=True)"
   ]
  },
  {
   "cell_type": "code",
   "execution_count": 33,
   "metadata": {},
   "outputs": [],
   "source": [
    "features = training[[\"PREIS_DISCOUNT\",\"KANAL\",\"FAKTOR\",\"NEW_ITEM_FLG\",\"MENGE_ECOM\",\n",
    "               \"MENGE_CALL\",\"WGH3_DESC\",\"Hour_of_the_day\",\"DAY_OF_WEEK\",\n",
    "             \"AIRING_23_FLG\",\"ADT_FLG\",\"ONAIR_SEKUNDEN\",\"MENGE_FREI_SHOWBEGINN\"]]\n",
    "target = training[[\"SOLD_OUT_FLG\"]].astype('category')"
   ]
  },
  {
   "cell_type": "code",
   "execution_count": 34,
   "metadata": {},
   "outputs": [
    {
     "name": "stdout",
     "output_type": "stream",
     "text": [
      "<class 'pandas.core.frame.DataFrame'>\n",
      "Int64Index: 6662 entries, 0 to 6661\n",
      "Data columns (total 13 columns):\n",
      "PREIS_DISCOUNT           6662 non-null float64\n",
      "KANAL                    6662 non-null category\n",
      "FAKTOR                   6662 non-null float64\n",
      "NEW_ITEM_FLG             6662 non-null category\n",
      "MENGE_ECOM               6662 non-null float64\n",
      "MENGE_CALL               6662 non-null float64\n",
      "WGH3_DESC                6662 non-null category\n",
      "Hour_of_the_day          6662 non-null category\n",
      "DAY_OF_WEEK              6662 non-null category\n",
      "AIRING_23_FLG            6662 non-null category\n",
      "ADT_FLG                  6662 non-null category\n",
      "ONAIR_SEKUNDEN           6662 non-null int64\n",
      "MENGE_FREI_SHOWBEGINN    6662 non-null int64\n",
      "dtypes: category(7), float64(4), int64(2)\n",
      "memory usage: 410.9 KB\n"
     ]
    }
   ],
   "source": [
    "features.info()"
   ]
  },
  {
   "cell_type": "code",
   "execution_count": 35,
   "metadata": {},
   "outputs": [],
   "source": [
    "predict = test[[\"PREIS_DISCOUNT\",\"KANAL\",\"FAKTOR\",\"NEW_ITEM_FLG\",\"MENGE_ECOM\",\n",
    "               \"MENGE_CALL\",\"WGH3_DESC\",\"Hour_of_the_day\",\"DAY_OF_WEEK\",\n",
    "             \"AIRING_23_FLG\",\"ADT_FLG\",\"ONAIR_SEKUNDEN\",\"MENGE_FREI_SHOWBEGINN\"]]"
   ]
  },
  {
   "cell_type": "code",
   "execution_count": 36,
   "metadata": {},
   "outputs": [
    {
     "data": {
      "image/png": "[encoded data removed]",
      "text/plain": [
       "<Figure size 432x288 with 1 Axes>"
      ]
     },
     "metadata": {
      "needs_background": "light"
     },
     "output_type": "display_data"
    }
   ],
   "source": [
    "sns.countplot(x=\"SOLD_OUT_FLG\",data=training,palette=\"hls\")\n",
    "plt.show()"
   ]
  },
  {
   "cell_type": "code",
   "execution_count": 37,
   "metadata": {},
   "outputs": [
    {
     "name": "stdout",
     "output_type": "stream",
     "text": [
      "(5329, 13)\n",
      "(1333, 13)\n",
      "(5329, 1)\n",
      "(1333, 1)\n"
     ]
    }
   ],
   "source": [
    "from sklearn.model_selection import train_test_split\n",
    "from sklearn.preprocessing import StandardScaler\n",
    "\n",
    "X, X_test, y, y_test = train_test_split(features, target, test_size = 0.2, random_state = 42)\n",
    "\n",
    "scaler = StandardScaler()\n",
    "# Fit on the training data\n",
    "scaler.fit(X)\n",
    "\n",
    "X = scaler.transform(X)\n",
    "X_test = scaler.transform(X_test)\n",
    "predict = scaler.transform(predict)\n",
    "\n",
    "print(X.shape)\n",
    "print(X_test.shape)\n",
    "print(y.shape)\n",
    "print(y_test.shape)"
   ]
  },
  {
   "cell_type": "code",
   "execution_count": 38,
   "metadata": {},
   "outputs": [],
   "source": [
    "# Logistic Regression"
   ]
  },
  {
   "cell_type": "code",
   "execution_count": 39,
   "metadata": {},
   "outputs": [
    {
     "name": "stdout",
     "output_type": "stream",
     "text": [
      "0.9114778694673669\n"
     ]
    },
    {
     "name": "stderr",
     "output_type": "stream",
     "text": [
      "/Users/floriansonneck/anaconda3/lib/python3.7/site-packages/sklearn/utils/validation.py:578: DataConversionWarning: A column-vector y was passed when a 1d array was expected. Please change the shape of y to (n_samples, ), for example using ravel().\n",
      "  y = column_or_1d(y, warn=True)\n"
     ]
    },
    {
     "data": {
      "text/plain": [
       "0.7547714285231538"
      ]
     },
     "execution_count": 39,
     "metadata": {},
     "output_type": "execute_result"
    }
   ],
   "source": [
    "from sklearn.linear_model import LogisticRegression\n",
    "\n",
    "LR = LogisticRegression(C = 7.03, solver='liblinear')\n",
    "\n",
    "LR.fit(X, y)\n",
    "\n",
    "print(LR.score(X_test, y_test))\n",
    "# print(model.score(X_training, y_training)) \n",
    "# shows how many percent of the dataset was predicted correctly\n",
    "\n",
    "y_pred = LR.predict(X_test)\n",
    "\n",
    "from sklearn.metrics import matthews_corrcoef\n",
    "\n",
    "matthews_corrcoef(y_test, y_pred)"
   ]
  },
  {
   "cell_type": "code",
   "execution_count": 88,
   "metadata": {},
   "outputs": [],
   "source": [
    "# Hyperparametertuning for LogisticRegression-Algorithm with GridSearchCV\n",
    "\n",
    "from sklearn.pipeline import Pipeline\n",
    "\n",
    "pipeline = Pipeline([\n",
    "    (\"scaler\", StandardScaler()),\n",
    "    (\"lr\", LogisticRegression())\n",
    "])"
   ]
  },
  {
   "cell_type": "code",
   "execution_count": 89,
   "metadata": {},
   "outputs": [
    {
     "name": "stdout",
     "output_type": "stream",
     "text": [
      "{'lr__C': 7}\n",
      "0.9114778694673669\n"
     ]
    }
   ],
   "source": [
    "from sklearn.model_selection import GridSearchCV\n",
    "\n",
    "clf = GridSearchCV(pipeline, param_grid = {\n",
    "    \"lr__C\": [0.001, 0.01, 0.1, 1, 1.1, 1.2, 1.3, 1.5, 2, 3, 4, 5, 6, 7, 7.01,7.02,7.03,7.05,7.1,7.15, 7.2,7.3,7.5,7.8,8,8.2, 9, 10],\n",
    "})\n",
    "clf.fit(X, y)\n",
    "\n",
    "print(clf.best_params_)\n",
    "\n",
    "print(clf.score(X_test, y_test))"
   ]
  },
  {
   "cell_type": "code",
   "execution_count": 43,
   "metadata": {},
   "outputs": [
    {
     "name": "stdout",
     "output_type": "stream",
     "text": [
      "[1. 0. 0. ... 1. 0. 1.]\n",
      "[1 0 0 ... 1 0 1]\n",
      "247.0\n"
     ]
    }
   ],
   "source": [
    "y_predictionLR = LR.predict(predict)\n",
    "\n",
    "print(y_predictionLR)\n",
    "\n",
    "prediction = y_predictionLR\n",
    "final_prediction = prediction.astype(int)\n",
    "print(final_prediction)\n",
    "\n",
    "SOLD_OUT_FLG = pd.DataFrame(data=final_prediction,columns=['SOLD_OUT_FLG'])\n",
    "pred_final=pd.concat([test['OBS_ID'],SOLD_OUT_FLG],axis =1)\n",
    "pred_final.to_csv('sold_out_predict_final.csv',index=False)\n",
    "\n",
    "\n",
    "\n",
    "print(sum(y_predictionLR))"
   ]
  },
  {
   "cell_type": "code",
   "execution_count": 44,
   "metadata": {},
   "outputs": [
    {
     "name": "stdout",
     "output_type": "stream",
     "text": [
      "[0.91275797 0.91932458 0.89493433 0.92401501 0.91455399 0.91275797\n",
      " 0.91932458 0.91275797 0.91744841 0.91267606 0.91651032 0.91838649\n",
      " 0.90994371 0.91557223 0.91361502 0.91838649 0.90900563 0.90994371\n",
      " 0.91275797 0.92018779 0.92307692 0.91463415 0.90525328 0.90994371\n",
      " 0.92018779 0.91838649 0.91275797 0.90150094 0.93058161 0.91267606\n",
      " 0.91557223 0.91932458 0.90056285 0.91557223 0.9286385  0.92213884\n",
      " 0.9043152  0.93245779 0.90150094 0.91455399 0.90337711 0.90243902\n",
      " 0.92870544 0.91744841 0.91737089 0.91744841 0.92213884 0.91651032\n",
      " 0.90994371 0.91455399]\n",
      "0.914768649419972\n"
     ]
    }
   ],
   "source": [
    "from sklearn.model_selection import cross_val_score\n",
    "from sklearn.model_selection import RepeatedKFold\n",
    "\n",
    "\n",
    "scores = cross_val_score(LogisticRegression(), X, y.values.ravel(), cv = RepeatedKFold(n_repeats = 10, random_state = 42))\n",
    "\n",
    "print(scores)\n",
    "print(np.mean(scores))\n",
    "\n",
    "# genauere/ stabilere Ergebnisse (geringere Varianz)"
   ]
  },
  {
   "cell_type": "code",
   "execution_count": 45,
   "metadata": {},
   "outputs": [],
   "source": [
    "# Format von confusion_matrix:\n",
    "# Modell: Nicht wahr                Modell: Wahr\n",
    "\n",
    "# Realität: Nicht wahr              Richtig negativ\n",
    "# Realität: Wahr                    Falsch negativ\n"
   ]
  },
  {
   "cell_type": "code",
   "execution_count": 46,
   "metadata": {},
   "outputs": [
    {
     "data": {
      "text/plain": [
       "array([[962,  74],\n",
       "       [ 44, 253]])"
      ]
     },
     "execution_count": 46,
     "metadata": {},
     "output_type": "execute_result"
    }
   ],
   "source": [
    "y_test_pred = LR.predict(X_test)\n",
    "\n",
    "from sklearn.metrics import confusion_matrix\n",
    "\n",
    "confusion_matrix(y_test, y_test_pred)"
   ]
  },
  {
   "cell_type": "code",
   "execution_count": 47,
   "metadata": {},
   "outputs": [],
   "source": [
    "from sklearn.metrics import roc_curve, roc_auc_score\n",
    "\n",
    "y_test_proba = LR.predict_proba(X_test)[:, 1] # alle Zeilen, nur zweite Spalte!!\n",
    "# contains probabilities, probability that 1 is predicted\n",
    "\n",
    "fpr, tpr, thresholds = roc_curve(y_test, y_test_proba)\n",
    "\n",
    "# false positive rate, true positive rate and threshold"
   ]
  },
  {
   "cell_type": "code",
   "execution_count": 117,
   "metadata": {},
   "outputs": [
    {
     "data": {
      "image/png": "[encoded data removed]",
      "text/plain": [
       "<Figure size 432x288 with 1 Axes>"
      ]
     },
     "metadata": {
      "needs_background": "light"
     },
     "output_type": "display_data"
    }
   ],
   "source": [
    "%matplotlib inline\n",
    "\n",
    "import matplotlib.pyplot as plt\n",
    "\n",
    "\n",
    "\n",
    "plt.plot(fpr, tpr)\n",
    "plt.plot(([0, 1]), linestyle = '--')\n",
    "plt.show()"
   ]
  },
  {
   "cell_type": "code",
   "execution_count": 49,
   "metadata": {},
   "outputs": [
    {
     "data": {
      "text/plain": [
       "0.9682409682409682"
      ]
     },
     "execution_count": 49,
     "metadata": {},
     "output_type": "execute_result"
    }
   ],
   "source": [
    "roc_auc_score(y_test, y_test_proba)"
   ]
  },
  {
   "cell_type": "code",
   "execution_count": 50,
   "metadata": {},
   "outputs": [],
   "source": [
    "from sklearn.model_selection import learning_curve\n",
    "from sklearn.utils import shuffle\n",
    "\n",
    "\n",
    "X, y = shuffle(X, y.values.ravel())\n",
    "\n",
    "train_sizes_abs, train_scores, test_scores = learning_curve(LogisticRegression(), X, y)"
   ]
  },
  {
   "cell_type": "code",
   "execution_count": 51,
   "metadata": {},
   "outputs": [
    {
     "data": {
      "image/png": "[encoded data removed]",
      "text/plain": [
       "<Figure size 432x288 with 1 Axes>"
      ]
     },
     "metadata": {
      "needs_background": "light"
     },
     "output_type": "display_data"
    }
   ],
   "source": [
    "%matplotlib inline\n",
    "\n",
    "import matplotlib.pyplot as plt\n",
    "import matplotlib.patches as mpatches\n",
    "\n",
    "plt.plot(train_sizes_abs, np.mean(train_scores, axis = 1))\n",
    "plt.plot(train_sizes_abs, np.mean(test_scores, axis = 1))\n",
    "\n",
    "\n",
    "red_patch = mpatches.Patch(label='train_scores')\n",
    "blue_path = mpatches.Patch(color = 'orange', label='test_scores')\n",
    "plt.legend(handles=[red_patch, blue_path])\n",
    "plt.show()\n",
    "\n",
    "\n",
    "# ganz rechts: underfitting, sehr starke Generalisierung (auch mehr Datenpunke werden\n",
    "# uns nicht helfen das Modell zu verbessern)"
   ]
  },
  {
   "cell_type": "code",
   "execution_count": 52,
   "metadata": {},
   "outputs": [
    {
     "name": "stdout",
     "output_type": "stream",
     "text": [
      "0.929390851941458\n"
     ]
    }
   ],
   "source": [
    "from sklearn.decomposition import PCA\n",
    "\n",
    "p = PCA()\n",
    "p.fit(X)\n",
    "\n",
    "print(np.sum(p.explained_variance_ratio_[:10]))"
   ]
  },
  {
   "cell_type": "code",
   "execution_count": 53,
   "metadata": {},
   "outputs": [
    {
     "name": "stdout",
     "output_type": "stream",
     "text": [
      "0.7756939234808702\n"
     ]
    }
   ],
   "source": [
    "from sklearn.decomposition import PCA\n",
    "\n",
    "p = PCA(n_components=10)\n",
    "\n",
    "X_transformed = p.fit_transform(X)\n",
    "X_test_transformed = p.transform(X_test)\n",
    "\n",
    "clf = LogisticRegression()\n",
    "clf.fit(X_transformed, y)\n",
    "\n",
    "print(clf.score(X_test_transformed, y_test))"
   ]
  },
  {
   "cell_type": "code",
   "execution_count": 54,
   "metadata": {},
   "outputs": [],
   "source": [
    "# Support Vector Machine Algorithm"
   ]
  },
  {
   "cell_type": "code",
   "execution_count": 55,
   "metadata": {},
   "outputs": [
    {
     "name": "stdout",
     "output_type": "stream",
     "text": [
      "0.8964741185296324\n"
     ]
    },
    {
     "data": {
      "text/plain": [
       "0.7255612785305936"
      ]
     },
     "execution_count": 55,
     "metadata": {},
     "output_type": "execute_result"
    }
   ],
   "source": [
    "from sklearn.svm import SVC\n",
    "\n",
    "svc = SVC(C=10,kernel = \"rbf\", degree=3, gamma=0.01)\n",
    "svc.fit(X, y)\n",
    "\n",
    "print(svc.score(X_test, y_test))\n",
    "\n",
    "y_pred = svc.predict(X_test)\n",
    "\n",
    "matthews_corrcoef(y_test, y_pred)"
   ]
  },
  {
   "cell_type": "code",
   "execution_count": 56,
   "metadata": {},
   "outputs": [
    {
     "name": "stdout",
     "output_type": "stream",
     "text": [
      "[0.82270169 0.82270169 0.815197   0.83114447 0.83004695 0.82363977\n",
      " 0.8358349  0.83020638 0.80487805 0.8084507  0.81988743 0.81144465\n",
      " 0.80393996 0.83864916 0.82253521 0.82270169 0.81801126 0.815197\n",
      " 0.84990619 0.81596244 0.83395872 0.80300188 0.81332083 0.80581614\n",
      " 0.83286385 0.80956848 0.83677298 0.82270169 0.81425891 0.81877934\n",
      " 0.82739212 0.81707317 0.80863039 0.83302064 0.81690141 0.81801126\n",
      " 0.81988743 0.81425891 0.83771107 0.81502347 0.7945591  0.79362101\n",
      " 0.82833021 0.83958724 0.81596244 0.83114447 0.78893058 0.81707317\n",
      " 0.83114447 0.84413146]\n",
      "0.8205294682415947\n"
     ]
    }
   ],
   "source": [
    "scores = cross_val_score(SVC(), X, y, cv = RepeatedKFold(n_repeats = 10))\n",
    "\n",
    "print(scores)\n",
    "print(np.mean(scores))"
   ]
  },
  {
   "cell_type": "code",
   "execution_count": 57,
   "metadata": {},
   "outputs": [
    {
     "name": "stdout",
     "output_type": "stream",
     "text": [
      "[1. 0. 0. ... 1. 0. 1.]\n",
      "[1 0 0 ... 1 0 1]\n",
      "280.0\n"
     ]
    }
   ],
   "source": [
    "y_predSVC = svc.predict(predict)\n",
    "\n",
    "print(y_predSVC)\n",
    "\n",
    "\n",
    "prediction = y_predSVC\n",
    "final_prediction = prediction.astype(int)\n",
    "print(final_prediction)\n",
    "\n",
    "\n",
    "\n",
    "SOLD_OUT_FLG = pd.DataFrame(data=final_prediction,columns=['SOLD_OUT_FLG'])\n",
    "pred_final=pd.concat([test['OBS_ID'],SOLD_OUT_FLG],axis =1)\n",
    "pred_final.to_csv('sold_out_predict.csv',index=False)\n",
    "\n",
    "print(sum(y_predSVC))\n",
    "\n",
    "# achieved 0.7628 (matthew correlation coefficient with this prediction)"
   ]
  },
  {
   "cell_type": "code",
   "execution_count": 58,
   "metadata": {},
   "outputs": [],
   "source": [
    "# Hyperparametertuning for SVC-Algorithm with GridSearchCV\n",
    "\n",
    "from sklearn.pipeline import Pipeline\n",
    "\n",
    "pipeline = Pipeline([\n",
    "    (\"scaler\", StandardScaler()),\n",
    "    (\"svm\", SVC())\n",
    "])"
   ]
  },
  {
   "cell_type": "code",
   "execution_count": 59,
   "metadata": {},
   "outputs": [
    {
     "name": "stdout",
     "output_type": "stream",
     "text": [
      "{'svm__C': 10, 'svm__gamma': 0.01}\n",
      "0.8964741185296324\n"
     ]
    }
   ],
   "source": [
    "from sklearn.model_selection import GridSearchCV\n",
    "\n",
    "clf = GridSearchCV(pipeline, param_grid = {\n",
    "    \"svm__C\": [0.001, 0.01, 0.1, 1, 10],\n",
    "    \"svm__gamma\": [0.001, 0.01, 0.1, 1, 10]\n",
    "})\n",
    "clf.fit(X, y)\n",
    "\n",
    "print(clf.best_params_)\n",
    "\n",
    "print(clf.score(X_test, y_test))"
   ]
  },
  {
   "cell_type": "code",
   "execution_count": 60,
   "metadata": {},
   "outputs": [],
   "source": [
    "# Random Forest Classifier"
   ]
  },
  {
   "cell_type": "code",
   "execution_count": 61,
   "metadata": {},
   "outputs": [
    {
     "name": "stdout",
     "output_type": "stream",
     "text": [
      "0.8664666166541636\n"
     ]
    },
    {
     "name": "stderr",
     "output_type": "stream",
     "text": [
      "/Users/floriansonneck/anaconda3/lib/python3.7/site-packages/sklearn/ensemble/weight_boosting.py:29: DeprecationWarning: numpy.core.umath_tests is an internal NumPy module and should not be imported. It will be removed in a future NumPy release.\n",
      "  from numpy.core.umath_tests import inner1d\n"
     ]
    },
    {
     "data": {
      "text/plain": [
       "0.6013875943270641"
      ]
     },
     "execution_count": 61,
     "metadata": {},
     "output_type": "execute_result"
    }
   ],
   "source": [
    "from sklearn.ensemble import RandomForestClassifier\n",
    "\n",
    "classifier = RandomForestClassifier(criterion = \"entropy\", n_estimators = 15)\n",
    "classifier.fit(X, y)\n",
    "\n",
    "print(classifier.score(X_test, y_test))\n",
    "\n",
    "y_pred = classifier.predict(X_test)\n",
    "\n",
    "matthews_corrcoef(y_test, y_pred)"
   ]
  },
  {
   "cell_type": "code",
   "execution_count": 62,
   "metadata": {},
   "outputs": [
    {
     "name": "stdout",
     "output_type": "stream",
     "text": [
      "[0.87711069 0.8902439  0.86022514 0.87242026 0.85258216 0.85178236\n",
      " 0.85553471 0.85834897 0.85272045 0.88356808 0.87992495 0.86679174\n",
      " 0.86866792 0.87429644 0.87323944 0.86491557 0.85741088 0.85365854\n",
      " 0.8836773  0.85539906 0.86397749 0.8630394  0.87711069 0.87054409\n",
      " 0.85915493 0.8564728  0.86397749 0.84990619 0.86397749 0.88638498\n",
      " 0.869606   0.87148218 0.86866792 0.86397749 0.8600939  0.86022514\n",
      " 0.8630394  0.85553471 0.86866792 0.86666667 0.87523452 0.87054409\n",
      " 0.84521576 0.87054409 0.85539906 0.86022514 0.87242026 0.85834897\n",
      " 0.869606   0.86384977]\n",
      "0.8655282615014667\n"
     ]
    }
   ],
   "source": [
    "scores = cross_val_score(RandomForestClassifier(), X, y, cv = RepeatedKFold(n_repeats = 10))\n",
    "\n",
    "print(scores)\n",
    "print(np.mean(scores))"
   ]
  },
  {
   "cell_type": "code",
   "execution_count": 63,
   "metadata": {},
   "outputs": [
    {
     "name": "stdout",
     "output_type": "stream",
     "text": [
      "[1. 0. 0. ... 1. 0. 1.]\n",
      "[1 0 0 ... 1 0 1]\n",
      "220.0\n"
     ]
    }
   ],
   "source": [
    "y_predClassifier = classifier.predict(predict)\n",
    "\n",
    "# y_predClassifier = np.round(classifier.predict(xtest))\n",
    "\n",
    "\n",
    "print(y_predClassifier)\n",
    "\n",
    "shs = y_predClassifier\n",
    "# np.int_(shs)\n",
    "# print(shs)\n",
    "q = shs.astype(int)\n",
    "print(q)\n",
    "\n",
    "\n",
    "\n",
    "SOLD_OUT_FLG = pd.DataFrame(data=y_predClassifier,columns=['SOLD_OUT_FLG'])\n",
    "pred_final=pd.concat([test['OBS_ID'],SOLD_OUT_FLG],axis =1)\n",
    "pd.options.display.float_format = '{:,.f}'.format\n",
    "pred_final.to_csv('sold_out_predict.csv',index=False)\n",
    "\n",
    "\n",
    "\n",
    "print(sum(y_predClassifier))"
   ]
  },
  {
   "cell_type": "code",
   "execution_count": 64,
   "metadata": {},
   "outputs": [],
   "source": [
    "# Hyperparametertuning for RandomForestClassifier-Algorithm with GridSearchCV\n",
    "\n",
    "from sklearn.pipeline import Pipeline\n",
    "\n",
    "pipeline = Pipeline([\n",
    "    (\"scaler\", StandardScaler()),\n",
    "    (\"randomforest\", RandomForestClassifier())\n",
    "])"
   ]
  },
  {
   "cell_type": "code",
   "execution_count": 65,
   "metadata": {},
   "outputs": [
    {
     "name": "stdout",
     "output_type": "stream",
     "text": [
      "{'randomforest__max_depth': 12, 'randomforest__n_estimators': 12}\n",
      "0.8702175543885972\n"
     ]
    }
   ],
   "source": [
    "from sklearn.model_selection import GridSearchCV\n",
    "\n",
    "clf = GridSearchCV(pipeline, param_grid = {\n",
    "    \"randomforest__n_estimators\": [1, 2, 3, 4, 5, 6, 7, 8, 9, 10, 11, 12, 13],\n",
    "    \"randomforest__max_depth\": [1, 2, 3, 4, 5, 6, 7, 8, 9, 10, 11, 12, 13]\n",
    "})\n",
    "clf.fit(X, y)\n",
    "\n",
    "print(clf.best_params_)\n",
    "\n",
    "print(clf.score(X_test, y_test))"
   ]
  },
  {
   "cell_type": "code",
   "execution_count": 66,
   "metadata": {},
   "outputs": [],
   "source": [
    "# KNN-Algorithm"
   ]
  },
  {
   "cell_type": "code",
   "execution_count": 67,
   "metadata": {},
   "outputs": [
    {
     "name": "stdout",
     "output_type": "stream",
     "text": [
      "0.7936984246061516\n"
     ]
    },
    {
     "data": {
      "text/plain": [
       "0.27880141142144976"
      ]
     },
     "execution_count": 67,
     "metadata": {},
     "output_type": "execute_result"
    }
   ],
   "source": [
    "from sklearn.neighbors import KNeighborsClassifier\n",
    "\n",
    "neighbors = KNeighborsClassifier(n_neighbors=10)\n",
    "neighbors.fit(X, y)\n",
    "\n",
    "print(neighbors.score(X_test, y_test))\n",
    "\n",
    "y_pred = neighbors.predict(X_test)\n",
    "\n",
    "matthews_corrcoef(y_test, y_pred)"
   ]
  },
  {
   "cell_type": "code",
   "execution_count": 68,
   "metadata": {},
   "outputs": [
    {
     "name": "stdout",
     "output_type": "stream",
     "text": [
      "[0.76266417 0.79080675 0.78517824 0.78986867 0.75586854 0.78986867\n",
      " 0.77110694 0.76829268 0.79174484 0.79248826 0.77016886 0.78611632\n",
      " 0.7945591  0.7673546  0.7943662  0.77954972 0.77016886 0.77861163\n",
      " 0.78330206 0.78967136 0.77767355 0.76829268 0.77298311 0.79643527\n",
      " 0.79624413 0.7739212  0.7673546  0.7945591  0.79174484 0.76525822\n",
      " 0.78236398 0.77767355 0.78517824 0.78517824 0.79530516 0.75234522\n",
      " 0.77579737 0.78705441 0.78893058 0.78591549 0.79549719 0.76360225\n",
      " 0.80018762 0.78142589 0.78215962 0.78424015 0.77954972 0.77861163\n",
      " 0.78330206 0.77558685]\n",
      "0.7811225678020594\n"
     ]
    }
   ],
   "source": [
    "scores = cross_val_score(KNeighborsClassifier(), X, y, cv = RepeatedKFold(n_repeats = 10))\n",
    "\n",
    "print(scores)\n",
    "print(np.mean(scores))"
   ]
  },
  {
   "cell_type": "code",
   "execution_count": 69,
   "metadata": {},
   "outputs": [
    {
     "name": "stdout",
     "output_type": "stream",
     "text": [
      "[0. 0. 0. ... 0. 0. 0.]\n",
      "95.0\n"
     ]
    }
   ],
   "source": [
    "y_predneighbors = neighbors.predict(predict)\n",
    "\n",
    "print(y_predneighbors)\n",
    "\n",
    "SOLD_OUT_FLG = pd.DataFrame(data=y_predneighbors,columns=['SOLD_OUT_FLG'])\n",
    "pred_final=pd.concat([test['OBS_ID'],SOLD_OUT_FLG],axis =1)\n",
    "pd.options.display.float_format = '{:,.f}'.format\n",
    "pred_final.to_csv('sold_out_predict.csv',index=False)\n",
    "\n",
    "\n",
    "print(sum(y_predneighbors))"
   ]
  },
  {
   "cell_type": "code",
   "execution_count": 70,
   "metadata": {},
   "outputs": [],
   "source": [
    "# Hyperparametertuning for KNN-Algorithm with GridSearchCV\n",
    "\n",
    "from sklearn.pipeline import Pipeline\n",
    "\n",
    "pipeline = Pipeline([\n",
    "    (\"scaler\", StandardScaler()),\n",
    "    (\"knn\", KNeighborsClassifier())\n",
    "])"
   ]
  },
  {
   "cell_type": "code",
   "execution_count": 71,
   "metadata": {},
   "outputs": [
    {
     "name": "stdout",
     "output_type": "stream",
     "text": [
      "{'knn__n_neighbors': 2}\n",
      "0.7891972993248312\n",
      "0.7870144492400075\n"
     ]
    }
   ],
   "source": [
    "from sklearn.model_selection import GridSearchCV\n",
    "\n",
    "clf = GridSearchCV(pipeline, param_grid = {\n",
    "    \"knn__n_neighbors\": [1, 2, 3, 4, 5, 6, 7, 8, 9, 10]\n",
    "})\n",
    "clf.fit(X, y)\n",
    "\n",
    "print(clf.best_params_)\n",
    "\n",
    "print(clf.score(X_test, y_test))\n",
    "\n",
    "print(clf.best_score_)"
   ]
  },
  {
   "cell_type": "code",
   "execution_count": 72,
   "metadata": {},
   "outputs": [],
   "source": [
    "# Validatation Curve for KNN to check for overfitting and underfitting\n",
    "# that means to find the best parameter for n\n",
    "\n",
    "from sklearn.model_selection import validation_curve\n",
    "\n",
    "import numpy as np\n",
    "\n",
    "param_range = np.array([40, 30, 20, 15, 10, 8, 7, 6, 5, 4, 3, 2, 1])\n",
    "\n",
    "train_scores, test_scores = validation_curve(\n",
    "    KNeighborsClassifier(), \n",
    "    X,\n",
    "    y,\n",
    "    param_name = \"n_neighbors\",\n",
    "    param_range=param_range)"
   ]
  },
  {
   "cell_type": "code",
   "execution_count": 73,
   "metadata": {},
   "outputs": [
    {
     "data": {
      "image/png": "[encoded data removed]",
      "text/plain": [
       "<Figure size 432x288 with 1 Axes>"
      ]
     },
     "metadata": {
      "needs_background": "light"
     },
     "output_type": "display_data"
    }
   ],
   "source": [
    "%matplotlib inline\n",
    "import matplotlib.pyplot as plt\n",
    "\n",
    "plt.plot(param_range, np.mean(train_scores, axis = 1))\n",
    "plt.plot(param_range, np.mean(test_scores, axis = 1))\n",
    "\n",
    "# Hiermit drehen wir die X-Achse um, sie geht jetzt von 40 bis 1.\n",
    "plt.xlim(np.max(param_range), 0)\n",
    "\n",
    "plt.show()\n",
    "\n",
    "# rechts in Grafik starkes overfitting (extrem hohe Varianz), \n",
    "# links underfitting (Bias und zu starke Generalisierung) (zu viele Daten \n",
    "# werden angeschaut, Verbesserung, wenn weniger Daten angeschaut werden, optimal hier n = 2)"
   ]
  },
  {
   "cell_type": "code",
   "execution_count": 74,
   "metadata": {},
   "outputs": [],
   "source": [
    "# Gradient Boosting Regressor Algorithm"
   ]
  },
  {
   "cell_type": "code",
   "execution_count": 75,
   "metadata": {},
   "outputs": [
    {
     "name": "stdout",
     "output_type": "stream",
     "text": [
      "0.3357249227812362\n"
     ]
    }
   ],
   "source": [
    "from sklearn.ensemble import GradientBoostingRegressor\n",
    "\n",
    "gbrt=GradientBoostingRegressor(n_estimators = 10) \n",
    "gbrt.fit(X, y) \n",
    "print(gbrt.score(X_test, y_test))\n",
    "\n",
    "y_pred=gbrt.predict(X_test) "
   ]
  },
  {
   "cell_type": "code",
   "execution_count": 76,
   "metadata": {},
   "outputs": [
    {
     "name": "stdout",
     "output_type": "stream",
     "text": [
      "[0.53708608 0.5366245  0.59021181 0.56073944 0.58785994 0.56378559\n",
      " 0.55746759 0.56912147 0.56921481 0.55238902 0.56515904 0.5315139\n",
      " 0.52573177 0.5674043  0.57184108 0.56405507 0.51423746 0.56490661\n",
      " 0.58379074 0.57323533 0.53310129 0.5718544  0.53851363 0.54519431\n",
      " 0.60235651 0.55458493 0.59278685 0.5366023  0.5590054  0.57626739\n",
      " 0.54644055 0.52158786 0.58293584 0.58606731 0.57803313 0.56802182\n",
      " 0.55496216 0.56465711 0.57323355 0.55241731 0.57439441 0.54659101\n",
      " 0.55508352 0.54853184 0.5888036  0.5806559  0.56638329 0.58522654\n",
      " 0.56911738 0.53865877]\n",
      "0.561568908996814\n"
     ]
    }
   ],
   "source": [
    "scores = cross_val_score(GradientBoostingRegressor(), X, y, cv = RepeatedKFold(n_repeats = 10))\n",
    "\n",
    "print(scores)\n",
    "print(np.mean(scores))"
   ]
  },
  {
   "cell_type": "code",
   "execution_count": 77,
   "metadata": {},
   "outputs": [
    {
     "name": "stdout",
     "output_type": "stream",
     "text": [
      "[0.42150881 0.07581086 0.08616702 ... 0.4926663  0.08680436 0.61286292]\n",
      "230.56187931870727\n"
     ]
    }
   ],
   "source": [
    "y_predGBRT = gbrt.predict(predict)\n",
    "\n",
    "print(y_predGBRT)\n",
    "\n",
    "SOLD_OUT_FLG = pd.DataFrame(data=y_predGBRT,columns=['SOLD_OUT_FLG'])\n",
    "pred_final=pd.concat([test['OBS_ID'],SOLD_OUT_FLG],axis =1)\n",
    "pd.options.display.float_format = '{:,.f}'.format\n",
    "pred_final.to_csv('sold_out_predict.csv',index=False)\n",
    "\n",
    "\n",
    "print(sum(y_predGBRT))"
   ]
  },
  {
   "cell_type": "code",
   "execution_count": 78,
   "metadata": {},
   "outputs": [],
   "source": [
    "# Decision Tree Algorithm"
   ]
  },
  {
   "cell_type": "code",
   "execution_count": 79,
   "metadata": {},
   "outputs": [
    {
     "name": "stdout",
     "output_type": "stream",
     "text": [
      "0.873218304576144\n"
     ]
    },
    {
     "data": {
      "text/plain": [
       "0.6352519257756506"
      ]
     },
     "execution_count": 79,
     "metadata": {},
     "output_type": "execute_result"
    }
   ],
   "source": [
    "from sklearn.tree import DecisionTreeClassifier\n",
    "\n",
    "DTC = DecisionTreeClassifier(criterion = \"entropy\")\n",
    "DTC.fit(X, y)\n",
    "\n",
    "print(DTC.score(X_test, y_test))\n",
    "\n",
    "y_pred = DTC.predict(X_test)\n",
    "\n",
    "matthews_corrcoef(y_test, y_pred)"
   ]
  },
  {
   "cell_type": "code",
   "execution_count": 80,
   "metadata": {},
   "outputs": [
    {
     "name": "stdout",
     "output_type": "stream",
     "text": [
      "[0.86491557 0.87523452 0.87054409 0.87804878 0.88356808 0.88461538\n",
      " 0.86679174 0.87148218 0.88930582 0.85539906 0.85928705 0.8836773\n",
      " 0.869606   0.87523452 0.857277   0.8564728  0.87148218 0.88930582\n",
      " 0.88555347 0.8657277  0.87523452 0.86397749 0.88086304 0.88180113\n",
      " 0.85352113 0.86397749 0.86679174 0.89962477 0.86022514 0.86666667\n",
      " 0.89118199 0.88086304 0.8630394  0.86772983 0.88450704 0.87429644\n",
      " 0.85459662 0.89212008 0.85741088 0.87042254 0.8836773  0.87898687\n",
      " 0.85834897 0.87898687 0.84788732 0.86772983 0.87711069 0.88086304\n",
      " 0.8836773  0.86197183]\n",
      "0.8724324005320228\n"
     ]
    }
   ],
   "source": [
    "scores = cross_val_score(DecisionTreeClassifier(), X, y, cv = RepeatedKFold(n_repeats = 10))\n",
    "\n",
    "print(scores)\n",
    "print(np.mean(scores))"
   ]
  },
  {
   "cell_type": "code",
   "execution_count": 81,
   "metadata": {},
   "outputs": [
    {
     "name": "stdout",
     "output_type": "stream",
     "text": [
      "[1. 0. 0. ... 1. 0. 1.]\n",
      "232.0\n"
     ]
    }
   ],
   "source": [
    "y_predDTC = DTC.predict(predict)\n",
    "\n",
    "print(y_predDTC)\n",
    "\n",
    "SOLD_OUT_FLG = pd.DataFrame(data=y_predDTC,columns=['SOLD_OUT_FLG'])\n",
    "pred_final=pd.concat([test['OBS_ID'],SOLD_OUT_FLG],axis =1)\n",
    "pd.options.display.float_format = '{:,.f}'.format\n",
    "pred_final.to_csv('sold_out_predict.csv',index=False)\n",
    "\n",
    "\n",
    "print(sum(y_predDTC))"
   ]
  },
  {
   "cell_type": "code",
   "execution_count": null,
   "metadata": {},
   "outputs": [],
   "source": []
  },
  {
   "cell_type": "code",
   "execution_count": null,
   "metadata": {},
   "outputs": [],
   "source": []
  },
  {
   "cell_type": "code",
   "execution_count": null,
   "metadata": {},
   "outputs": [],
   "source": []
  },
  {
   "cell_type": "code",
   "execution_count": null,
   "metadata": {},
   "outputs": [],
   "source": []
  },
  {
   "cell_type": "code",
   "execution_count": null,
   "metadata": {},
   "outputs": [],
   "source": []
  }
 ],
 "metadata": {
  "kernelspec": {
   "display_name": "Python 3",
   "language": "python",
   "name": "python3"
  },
  "language_info": {
   "codemirror_mode": {
    "name": "ipython",
    "version": 3
   },
   "file_extension": ".py",
   "mimetype": "text/x-python",
   "name": "python",
   "nbconvert_exporter": "python",
   "pygments_lexer": "ipython3",
   "version": "3.7.0"
  }
 },
 "nbformat": 4,
 "nbformat_minor": 2
}

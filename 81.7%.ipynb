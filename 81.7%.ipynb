{
 "cells": [
  {
   "cell_type": "code",
   "execution_count": 12,
   "metadata": {},
   "outputs": [
    {
     "data": {
      "text/plain": [
       "1003"
      ]
     },
     "execution_count": 12,
     "metadata": {},
     "output_type": "execute_result"
    }
   ],
   "source": [
    "import pandas as pd\n",
    "import numpy as np\n",
    "\n",
    "\n",
    "training = pd.read_csv(r\"D:\\google下载\\1_training_data.csv\", encoding='cp1252',engine = \"python\")\n",
    "\n",
    "test = pd.read_csv(r\"D:\\google下载\\2_classification_data.csv\", encoding='cp1252', engine = \"python\")\n",
    "\n",
    "test.head()\n",
    "frames = [test, training]\n",
    "result = pd.concat(frames)\n",
    "len(result) - len(training)"
   ]
  },
  {
   "cell_type": "code",
   "execution_count": 13,
   "metadata": {},
   "outputs": [],
   "source": [
    "result[\"FAKTOR\"] = result[\"FAKTOR\"].str.replace(',', \".\").astype(float) \n",
    "\n",
    "result[\"KANAL\"] = result[\"KANAL\"].astype('category')\n",
    "result.dtypes\n",
    "result[\"KANAL\"] = result[\"KANAL\"].cat.codes\n",
    "result[\"KANAL\"] = result[\"KANAL\"].astype('category')\n",
    "\n",
    "result['BRAND_ID'].fillna(0,inplace=True)\n",
    "result[\"BRAND_ID\"] = result[\"BRAND_ID\"].astype('category')\n",
    "result[\"BRAND_ID\"] = result[\"BRAND_ID\"].cat.codes\n",
    "result[\"BRAND_ID\"] = result[\"BRAND_ID\"].astype('category')\n",
    "\n",
    "result[\"SHOW_ID\"] = result[\"SHOW_ID\"].astype('category')\n",
    "result[\"SHOW_ID\"] = result[\"SHOW_ID\"].cat.codes\n",
    "result[\"SHOW_ID\"] = result[\"SHOW_ID\"].astype('category')\n",
    "\n",
    "result[\"BRAND_FLG\"] = result[\"BRAND_FLG\"].astype('category')\n",
    "result[\"BRAND_FLG\"] = result[\"BRAND_FLG\"].cat.codes\n",
    "result[\"BRAND_FLG\"] = result[\"BRAND_FLG\"].astype('category')\n",
    "\n",
    "result['SHOW_DATUM']=pd.to_datetime(result['SHOW_DATUM'])\n",
    "result['DAY_OF_WEEK'] = result['SHOW_DATUM'].dt.day_name()\n",
    "result[\"DAY_OF_WEEK\"] = result[\"DAY_OF_WEEK\"].astype('category')\n",
    "result[\"DAY_OF_WEEK\"] = result[\"DAY_OF_WEEK\"].cat.codes\n",
    "result[\"DAY_OF_WEEK\"] = result[\"DAY_OF_WEEK\"].astype('category')\n",
    "\n",
    "def from_hour_to_time_slot(x):\n",
    "    if 7 <= x < 9:\n",
    "        return \"MORNING TIME\"\n",
    "    elif 9 <= x <17:\n",
    "        return \"DAYTIME\"\n",
    "    elif 17 <= x < 20:\n",
    "        return \"EARLY PRIME TIME\"\n",
    "    elif 20 <= x < 23:\n",
    "        return \"PRIME TIME\"\n",
    "    elif 1 <= x < 7:\n",
    "        return \"LATE NIGHT\"\n",
    "    else:\n",
    "        return \"LATE PRIME TIME\"\n",
    "\n",
    "result['Hour_of_the_day'] = result['SHOW_DATUM'].dt.hour\n",
    "result.Hour_of_the_day = result.Hour_of_the_day.map(from_hour_to_time_slot)\n",
    "result[\"Hour_of_the_day\"] = result[\"Hour_of_the_day\"].astype('category')\n",
    "result[\"Hour_of_the_day\"] = result[\"Hour_of_the_day\"].cat.codes\n",
    "result[\"Hour_of_the_day\"] = result[\"Hour_of_the_day\"].astype('category')\n",
    "result['Year'] = result['SHOW_DATUM'].dt.year\n",
    "result['Month'] = result['SHOW_DATUM'].dt.month\n",
    "\n",
    "result[\"WORDING_ID\"] = result[\"WORDING_ID\"].astype('category')\n",
    "result[\"WORDING_ID\"] = result[\"WORDING_ID\"].cat.codes\n",
    "result[\"WORDING_ID\"] = result[\"WORDING_ID\"].astype('category')\n",
    "\n",
    "result[\"WDHL_FLG\"] = result[\"WDHL_FLG\"].astype('category')\n",
    "result[\"WDHL_FLG\"] = result[\"WDHL_FLG\"].cat.codes\n",
    "result[\"WDHL_FLG\"] = result[\"WDHL_FLG\"].astype('category')\n",
    "\n",
    "result[\"BESTELL_ID\"] = result[\"BESTELL_ID\"].astype('category')\n",
    "result[\"BESTELL_ID\"] = result[\"BESTELL_ID\"].cat.codes\n",
    "result[\"BESTELL_ID\"] = result[\"BESTELL_ID\"].astype('category')\n",
    "\n",
    "result[\"ARTIKEL_ID\"] = result[\"ARTIKEL_ID\"].astype('category')\n",
    "result[\"ARTIKEL_ID\"] = result[\"ARTIKEL_ID\"].cat.codes\n",
    "result[\"ARTIKEL_ID\"] = result[\"ARTIKEL_ID\"].astype('category')\n",
    "\n",
    "result[\"NEW_ITEM_FLG\"] = result[\"NEW_ITEM_FLG\"].astype('category')\n",
    "result[\"NEW_ITEM_FLG\"] = result[\"NEW_ITEM_FLG\"].cat.codes\n",
    "result[\"NEW_ITEM_FLG\"] = result[\"NEW_ITEM_FLG\"].astype('category')\n",
    "\n",
    "result[\"AIRING_23_FLG\"] = result[\"AIRING_23_FLG\"].astype('category')\n",
    "result[\"AIRING_23_FLG\"] = result[\"AIRING_23_FLG\"].cat.codes\n",
    "result[\"AIRING_23_FLG\"] = result[\"AIRING_23_FLG\"].astype('category')\n",
    "\n",
    "result[\"AIRING_456_FLG\"] = result[\"AIRING_456_FLG\"].astype('category')\n",
    "result[\"AIRING_456_FLG\"] = result[\"AIRING_456_FLG\"].cat.codes\n",
    "result[\"AIRING_456_FLG\"] = result[\"AIRING_456_FLG\"].astype('category')\n",
    "\n",
    "result[\"ADT_FLG\"] = result[\"ADT_FLG\"].astype('category')\n",
    "result[\"ADT_FLG\"] = result[\"ADT_FLG\"].cat.codes\n",
    "result[\"ADT_FLG\"] = result[\"ADT_FLG\"].astype('category')\n",
    "\n",
    "result[\"WG_ID\"] = result[\"WG_ID\"].astype('category')\n",
    "result[\"WG_ID\"] = result[\"WG_ID\"].cat.codes\n",
    "result[\"WG_ID\"] = result[\"WG_ID\"].astype('category')\n",
    "\n",
    "result[\"WGH1_ID\"] = result[\"WGH1_ID\"].astype('category')\n",
    "result[\"WGH1_ID\"] = result[\"WGH1_ID\"].cat.codes\n",
    "result[\"WGH1_ID\"] = result[\"WGH1_ID\"].astype('category')\n",
    "\n",
    "result[\"WGH3_ID\"] = result[\"WGH3_ID\"].astype('category')\n",
    "result[\"WGH3_ID\"] = result[\"WGH3_ID\"].cat.codes\n",
    "result[\"WGH3_ID\"] = result[\"WGH3_ID\"].astype('category')\n",
    "\n",
    "result[\"WGH4_ID\"] = result[\"WGH4_ID\"].astype('category')\n",
    "result[\"WGH4_ID\"] = result[\"WGH4_ID\"].cat.codes\n",
    "result[\"WGH4_ID\"] = result[\"WGH4_ID\"].astype('category')\n",
    "\n",
    "result[\"PREIS_DISCOUNT\"] = result[\"PREIS_DISCOUNT\"].str.replace(',', \".\").astype(float)\n",
    "result['PREIS_DISCOUNT'] = result['PREIS_DISCOUNT'].fillna(0)\n",
    "\n",
    "result['MENGE_CALL'] = result['MENGE_CALL'].fillna(0)\n",
    "result['MENGE_CALL'] = result['MENGE_CALL'].astype(\"int\")\n",
    "result['MENGE_ECOM'] = result['MENGE_ECOM'].fillna(0)\n",
    "result['MENGE_ECOM'] = result['MENGE_ECOM'].astype(\"int\")\n",
    "\n",
    "result[\"WG_DESC\"] = result[\"WG_DESC\"].astype('category')\n",
    "result[\"WG_DESC\"] = result[\"WG_DESC\"].cat.codes\n",
    "result[\"WG_DESC\"] = result[\"WG_DESC\"].astype('category')\n",
    "\n",
    "result[\"WGH1_DESC\"] = result[\"WGH1_DESC\"].astype('category')\n",
    "result[\"WGH1_DESC\"] = result[\"WGH1_DESC\"].cat.codes\n",
    "result[\"WGH1_DESC\"] = result[\"WGH1_DESC\"].astype('category')\n",
    "\n",
    "result[\"WGH3_DESC\"] = result[\"WGH3_DESC\"].astype('category')\n",
    "result[\"WGH3_DESC\"] = result[\"WGH3_DESC\"].cat.codes\n",
    "result[\"WGH3_DESC\"] = result[\"WGH3_DESC\"].astype('category')\n",
    "\n",
    "result[\"WGH4_DESC\"] = result[\"WGH4_DESC\"].astype('category')\n",
    "result[\"WGH4_DESC\"] = result[\"WGH4_DESC\"].cat.codes\n",
    "result[\"WGH4_DESC\"] = result[\"WGH4_DESC\"].astype('category')\n",
    "\n",
    "result[\"DIVISION_DESC_SORT\"] = result[\"DIVISION_DESC_SORT\"].astype('category')\n",
    "result[\"DIVISION_DESC_SORT\"] = result[\"DIVISION_DESC_SORT\"].cat.codes\n",
    "result[\"DIVISION_DESC_SORT\"] = result[\"DIVISION_DESC_SORT\"].astype('category')\n",
    "\n",
    "\n",
    "\n",
    "result[\"PREISKLASSE_DESC\"] = result[\"PREISKLASSE_DESC\"].astype('category')\n",
    "result[\"PREISKLASSE_DESC\"] = result[\"PREISKLASSE_DESC\"].cat.codes\n",
    "result[\"PREISKLASSE_DESC\"] = result[\"PREISKLASSE_DESC\"].astype('category')\n",
    "\n",
    "\n",
    "result.drop(['BEWERTUNG'],axis=1,inplace=True)\n",
    "\n",
    "result['PREIS_LABEL_DESC'] = result['PREIS_LABEL_DESC'].fillna(0)\n",
    "result[\"PREIS_LABEL_DESC\"] = result[\"PREIS_LABEL_DESC\"].astype('category')\n",
    "result[\"PREIS_LABEL_DESC\"] = result[\"PREIS_LABEL_DESC\"].cat.codes\n",
    "result[\"PREIS_LABEL_DESC\"] = result[\"PREIS_LABEL_DESC\"].astype('category')\n",
    "\n",
    "\n",
    "result[\"GROESSE\"] = result[\"GROESSE\"].replace('185', \"L\")\n",
    "result[\"GROESSE\"] = result[\"GROESSE\"].replace('215', \"XL\")\n",
    "result[\"GROESSE\"] = result[\"GROESSE\"].replace('205', \"XL\")\n",
    "result[\"GROESSE\"] = result[\"GROESSE\"].replace('245', \"XXL\")\n",
    "result[\"GROESSE\"] = result[\"GROESSE\"].replace('195', \"XL\")\n",
    "result[\"GROESSE\"] = result[\"GROESSE\"].replace('225', \"XL\")\n",
    "result[\"GROESSE\"] = result[\"GROESSE\"].replace('235', \"XXL\")\n",
    "result[\"GROESSE\"] = result[\"GROESSE\"].replace('255', \"XXL\")\n",
    "result[\"GROESSE\"] = result[\"GROESSE\"].replace('265', \"XXL\")\n",
    "result[\"GROESSE\"] = result[\"GROESSE\"].replace('17', \"L\")\n",
    "result[\"GROESSE\"] = result[\"GROESSE\"].replace('18', \"L\")\n",
    "result[\"GROESSE\"] = result[\"GROESSE\"].replace('19', \"L\")\n",
    "result[\"GROESSE\"] = result[\"GROESSE\"].replace('21', \"L\")\n",
    "result[\"GROESSE\"] = result[\"GROESSE\"].replace('20', \"L\")\n",
    "result[\"GROESSE\"] = result[\"GROESSE\"].replace('22', \"XL\")\n",
    "result[\"GROESSE\"] = result[\"GROESSE\"].replace('23', \"XL\")\n",
    "result[\"GROESSE\"] = result[\"GROESSE\"].replace('24', \"XL\")\n",
    "result[\"GROESSE\"] = result[\"GROESSE\"].replace('25', \"XL\")\n",
    "result[\"GROESSE\"] = result[\"GROESSE\"].replace('26', \"XXL\")\n",
    "result[\"GROESSE\"] = result[\"GROESSE\"].replace('27', \"XXL\")\n",
    "\n",
    "result[\"GROESSE\"] = result[\"GROESSE\"].replace('34', \"S\")\n",
    "result[\"GROESSE\"] = result[\"GROESSE\"].replace('36', \"S\")\n",
    "result[\"GROESSE\"] = result[\"GROESSE\"].replace('38', \"S\")\n",
    "result[\"GROESSE\"] = result[\"GROESSE\"].replace('40', \"M\")\n",
    "result[\"GROESSE\"] = result[\"GROESSE\"].replace('42', \"M\")\n",
    "result[\"GROESSE\"] = result[\"GROESSE\"].replace('44', \"L\")\n",
    "result[\"GROESSE\"] = result[\"GROESSE\"].replace('46', \"L\")\n",
    "result[\"GROESSE\"] = result[\"GROESSE\"].replace('48', \"XL\")\n",
    "result[\"GROESSE\"] = result[\"GROESSE\"].replace('50', \"XL\")\n",
    "result[\"GROESSE\"] = result[\"GROESSE\"].replace('52', \"XXL\")\n",
    "result[\"GROESSE\"] = result[\"GROESSE\"].replace('54', \"XXL\")\n",
    "result[\"GROESSE\"] = result[\"GROESSE\"].replace('32/34', \"S\")\n",
    "result[\"GROESSE\"] = result[\"GROESSE\"].replace('34/36', \"S\")\n",
    "result[\"GROESSE\"] = result[\"GROESSE\"].replace('36/38', \"S\")\n",
    "result[\"GROESSE\"] = result[\"GROESSE\"].replace('38/40', \"M\")\n",
    "result[\"GROESSE\"] = result[\"GROESSE\"].replace('40/42', \"M\")\n",
    "result[\"GROESSE\"] = result[\"GROESSE\"].replace('42/44', \"L\")\n",
    "result[\"GROESSE\"] = result[\"GROESSE\"].replace('44/46', \"L\")\n",
    "result[\"GROESSE\"] = result[\"GROESSE\"].replace('46/48', \"XL\")\n",
    "result[\"GROESSE\"] = result[\"GROESSE\"].replace('48/50', \"XL\")\n",
    "result[\"GROESSE\"] = result[\"GROESSE\"].replace('50/52', \"XXL\")\n",
    "result[\"GROESSE\"] = result[\"GROESSE\"].replace('52/54', \"XXL\")\n",
    "\n",
    "result[\"GROESSE\"] = result[\"GROESSE\"].replace('ONESIZE', \"ONE\")\n",
    "result[\"GROESSE\"] = result[\"GROESSE\"].replace('ONE SIZE', \"ONE\")\n",
    "result[\"GROESSE\"] = result[\"GROESSE\"].replace('A', \"ONE\")\n",
    "result[\"GROESSE\"] = result[\"GROESSE\"].replace('B', \"ONE\")\n",
    "\n",
    "result[\"GROESSE\"] = result[\"GROESSE\"].astype('category')\n",
    "result[\"GROESSE\"] = result[\"GROESSE\"].cat.codes\n",
    "result[\"GROESSE\"] = result[\"GROESSE\"].astype('category')\n",
    "\n"
   ]
  },
  {
   "cell_type": "code",
   "execution_count": 14,
   "metadata": {},
   "outputs": [
    {
     "data": {
      "text/plain": [
       "0       2017\n",
       "1       2017\n",
       "2       2017\n",
       "3       2017\n",
       "4       2017\n",
       "5       2017\n",
       "6       2017\n",
       "7       2017\n",
       "8       2017\n",
       "9       2017\n",
       "10      2017\n",
       "11      2017\n",
       "12      2017\n",
       "13      2017\n",
       "14      2017\n",
       "15      2017\n",
       "16      2017\n",
       "17      2017\n",
       "18      2017\n",
       "19      2017\n",
       "20      2017\n",
       "21      2017\n",
       "22      2017\n",
       "23      2017\n",
       "24      2017\n",
       "25      2017\n",
       "26      2017\n",
       "27      2017\n",
       "28      2017\n",
       "29      2017\n",
       "        ... \n",
       "6632    2018\n",
       "6633    2018\n",
       "6634    2018\n",
       "6635    2018\n",
       "6636    2018\n",
       "6637    2018\n",
       "6638    2018\n",
       "6639    2018\n",
       "6640    2018\n",
       "6641    2018\n",
       "6642    2018\n",
       "6643    2018\n",
       "6644    2018\n",
       "6645    2018\n",
       "6646    2018\n",
       "6647    2018\n",
       "6648    2018\n",
       "6649    2018\n",
       "6650    2018\n",
       "6651    2018\n",
       "6652    2018\n",
       "6653    2018\n",
       "6654    2018\n",
       "6655    2018\n",
       "6656    2018\n",
       "6657    2018\n",
       "6658    2018\n",
       "6659    2018\n",
       "6660    2018\n",
       "6661    2018\n",
       "Name: SHOW_DATUM, Length: 7665, dtype: int64"
      ]
     },
     "execution_count": 14,
     "metadata": {},
     "output_type": "execute_result"
    }
   ],
   "source": [
    "result['SHOW_DATUM'].dt.year"
   ]
  },
  {
   "cell_type": "code",
   "execution_count": 15,
   "metadata": {},
   "outputs": [],
   "source": [
    "result['SHOW_POSITION'] = result['SHOW_POSITION'].astype('category')\n",
    "result['SHOW_POSITION'] = result['SHOW_POSITION'].cat.codes\n",
    "result['SHOW_POSITION'] = result['SHOW_POSITION'].astype('category')\n",
    "\n",
    "results = result[['OBS_ID','KANAL','FAKTOR', 'WORDING_ID', 'BRAND_FLG','SHOW_POSITION', 'NEW_ITEM_FLG',\n",
    "        'MENGE_CALL', 'MENGE_ECOM',\"Year\",\"Month\",\n",
    "       'GROESSE', 'MENGE_FREI_SHOWBEGINN',\n",
    "       'SOLD_OUT_FLG', 'DAY_OF_WEEK', 'Hour_of_the_day']]"
   ]
  },
  {
   "cell_type": "code",
   "execution_count": 16,
   "metadata": {},
   "outputs": [
    {
     "name": "stderr",
     "output_type": "stream",
     "text": [
      "D:\\anaconda\\lib\\site-packages\\ipykernel_launcher.py:1: SettingWithCopyWarning: \n",
      "A value is trying to be set on a copy of a slice from a DataFrame.\n",
      "Try using .loc[row_indexer,col_indexer] = value instead\n",
      "\n",
      "See the caveats in the documentation: http://pandas.pydata.org/pandas-docs/stable/indexing.html#indexing-view-versus-copy\n",
      "  \"\"\"Entry point for launching an IPython kernel.\n",
      "D:\\anaconda\\lib\\site-packages\\ipykernel_launcher.py:2: SettingWithCopyWarning: \n",
      "A value is trying to be set on a copy of a slice from a DataFrame.\n",
      "Try using .loc[row_indexer,col_indexer] = value instead\n",
      "\n",
      "See the caveats in the documentation: http://pandas.pydata.org/pandas-docs/stable/indexing.html#indexing-view-versus-copy\n",
      "  \n"
     ]
    }
   ],
   "source": [
    "results[\"Month\"] = results[\"Month\"].astype('category')\n",
    "results[\"Year\"] = results[\"Year\"].astype('category')\n",
    "\n"
   ]
  },
  {
   "cell_type": "code",
   "execution_count": 17,
   "metadata": {},
   "outputs": [
    {
     "name": "stdout",
     "output_type": "stream",
     "text": [
      "<class 'pandas.core.frame.DataFrame'>\n",
      "Int64Index: 7665 entries, 0 to 6661\n",
      "Data columns (total 16 columns):\n",
      "OBS_ID                   7665 non-null int64\n",
      "KANAL                    7665 non-null category\n",
      "FAKTOR                   7665 non-null float64\n",
      "WORDING_ID               7665 non-null category\n",
      "BRAND_FLG                7665 non-null category\n",
      "SHOW_POSITION            7665 non-null category\n",
      "NEW_ITEM_FLG             7665 non-null category\n",
      "MENGE_CALL               7665 non-null int32\n",
      "MENGE_ECOM               7665 non-null int32\n",
      "Year                     7665 non-null category\n",
      "Month                    7665 non-null category\n",
      "GROESSE                  7665 non-null category\n",
      "MENGE_FREI_SHOWBEGINN    7665 non-null int64\n",
      "SOLD_OUT_FLG             6662 non-null float64\n",
      "DAY_OF_WEEK              7665 non-null category\n",
      "Hour_of_the_day          7665 non-null category\n",
      "dtypes: category(10), float64(2), int32(2), int64(2)\n",
      "memory usage: 450.9 KB\n"
     ]
    }
   ],
   "source": [
    "results.info()"
   ]
  },
  {
   "cell_type": "code",
   "execution_count": null,
   "metadata": {},
   "outputs": [],
   "source": []
  },
  {
   "cell_type": "code",
   "execution_count": 18,
   "metadata": {},
   "outputs": [],
   "source": [
    "ha = pd.get_dummies(results[[\"OBS_ID\",\"BRAND_FLG\",\"GROESSE\",\"Month\",\"Hour_of_the_day\",\"DAY_OF_WEEK\"]])\n",
    "###use \"One hot code\" to turn \"categorical variables\" into columns!!!!! it works!!!!!!!!!\n",
    "results = results.merge(ha, left_on = \"OBS_ID\", right_on = \"OBS_ID\")\n",
    "test = results[results[\"OBS_ID\"]<=1003].copy()\n",
    "training = results[results[\"OBS_ID\"]> 1003].copy()"
   ]
  },
  {
   "cell_type": "code",
   "execution_count": 19,
   "metadata": {},
   "outputs": [
    {
     "data": {
      "text/plain": [
       "1003"
      ]
     },
     "execution_count": 19,
     "metadata": {},
     "output_type": "execute_result"
    }
   ],
   "source": [
    "len(test)"
   ]
  },
  {
   "cell_type": "code",
   "execution_count": 20,
   "metadata": {},
   "outputs": [
    {
     "data": {
      "text/plain": [
       "array(['OBS_ID', 'KANAL', 'FAKTOR', 'WORDING_ID', 'BRAND_FLG',\n",
       "       'SHOW_POSITION', 'NEW_ITEM_FLG', 'MENGE_CALL', 'MENGE_ECOM',\n",
       "       'Year', 'Month', 'GROESSE', 'MENGE_FREI_SHOWBEGINN',\n",
       "       'SOLD_OUT_FLG', 'DAY_OF_WEEK', 'Hour_of_the_day', 'BRAND_FLG_0',\n",
       "       'BRAND_FLG_1', 'GROESSE_-1', 'GROESSE_0', 'GROESSE_1', 'GROESSE_2',\n",
       "       'GROESSE_3', 'GROESSE_4', 'GROESSE_5', 'Month_1', 'Month_2',\n",
       "       'Month_3', 'Month_4', 'Month_5', 'Month_6', 'Month_7', 'Month_8',\n",
       "       'Month_9', 'Month_10', 'Month_11', 'Month_12', 'Hour_of_the_day_0',\n",
       "       'Hour_of_the_day_1', 'Hour_of_the_day_2', 'Hour_of_the_day_3',\n",
       "       'Hour_of_the_day_4', 'Hour_of_the_day_5', 'DAY_OF_WEEK_0',\n",
       "       'DAY_OF_WEEK_1', 'DAY_OF_WEEK_2', 'DAY_OF_WEEK_3', 'DAY_OF_WEEK_4',\n",
       "       'DAY_OF_WEEK_5', 'DAY_OF_WEEK_6'], dtype=object)"
      ]
     },
     "execution_count": 20,
     "metadata": {},
     "output_type": "execute_result"
    }
   ],
   "source": [
    "training.columns.values"
   ]
  },
  {
   "cell_type": "code",
   "execution_count": 23,
   "metadata": {},
   "outputs": [
    {
     "name": "stdout",
     "output_type": "stream",
     "text": [
      "(5329, 24)\n",
      "(1333, 24)\n",
      "(5329, 1)\n",
      "(1333, 1)\n"
     ]
    },
    {
     "name": "stderr",
     "output_type": "stream",
     "text": [
      "D:\\anaconda\\lib\\site-packages\\sklearn\\utils\\validation.py:578: DataConversionWarning: A column-vector y was passed when a 1d array was expected. Please change the shape of y to (n_samples, ), for example using ravel().\n",
      "  y = column_or_1d(y, warn=True)\n"
     ]
    },
    {
     "name": "stdout",
     "output_type": "stream",
     "text": [
      "0.9152288072018004\n"
     ]
    },
    {
     "data": {
      "text/plain": [
       "0.7641418781344723"
      ]
     },
     "execution_count": 23,
     "metadata": {},
     "output_type": "execute_result"
    }
   ],
   "source": [
    "features = training[['MENGE_CALL', 'MENGE_ECOM',\n",
    "       'MENGE_FREI_SHOWBEGINN',\n",
    "       'BRAND_FLG_0',\n",
    "       'BRAND_FLG_1', 'GROESSE_-1', 'GROESSE_0', 'GROESSE_1', 'GROESSE_2',\n",
    "       'GROESSE_3', 'GROESSE_4', 'GROESSE_5', 'Month_1', 'Month_2',\n",
    "       'Month_3', 'Month_4', 'Month_5', 'Month_6', 'Month_7', 'Month_8',\n",
    "       'Month_9', 'Month_10', 'Month_11', 'Month_12']]\n",
    "predict = test[['MENGE_CALL', 'MENGE_ECOM',\n",
    "       'MENGE_FREI_SHOWBEGINN',\n",
    "       'BRAND_FLG_0',\n",
    "       'BRAND_FLG_1', 'GROESSE_-1', 'GROESSE_0', 'GROESSE_1', 'GROESSE_2',\n",
    "       'GROESSE_3', 'GROESSE_4', 'GROESSE_5', 'Month_1', 'Month_2',\n",
    "       'Month_3', 'Month_4', 'Month_5', 'Month_6', 'Month_7', 'Month_8',\n",
    "       'Month_9', 'Month_10', 'Month_11', 'Month_12'\n",
    "      ]]\n",
    "\n",
    "from sklearn.model_selection import train_test_split\n",
    "from sklearn.preprocessing import StandardScaler\n",
    "\n",
    "\n",
    "target = training[[\"SOLD_OUT_FLG\"]]\n",
    "scaler = StandardScaler()\n",
    "# Fit on the training data\n",
    "\n",
    "X, X_test, y, y_test = train_test_split(features, target, test_size = 0.2, random_state = 42)\n",
    "scaler.fit(X)\n",
    "X = scaler.transform(X)\n",
    "X_test = scaler.transform(X_test)\n",
    "predict = scaler.transform(predict)\n",
    "\n",
    "print(X.shape)\n",
    "print(X_test.shape)\n",
    "print(y.shape)\n",
    "print(y_test.shape)\n",
    "\n",
    "from sklearn.linear_model import LogisticRegression\n",
    "\n",
    "LR = LogisticRegression()\n",
    "\n",
    "LR.fit(X, y)\n",
    "\n",
    "print(LR.score(X_test, y_test))\n",
    "# print(model.score(X_training, y_training)) \n",
    "# shows how many percent of the dataset was predicted correctly\n",
    "\n",
    "y_pred = LR.predict(X_test)\n",
    "\n",
    "from sklearn.metrics import matthews_corrcoef\n",
    "\n",
    "matthews_corrcoef(y_test, y_pred)\n",
    "### this model get 0.81013 in Kaggle > 0.77 here"
   ]
  },
  {
   "cell_type": "code",
   "execution_count": 24,
   "metadata": {},
   "outputs": [
    {
     "name": "stdout",
     "output_type": "stream",
     "text": [
      "248.0\n"
     ]
    }
   ],
   "source": [
    "y_predictionLR = LR.predict(predict)\n",
    "print(sum(y_predictionLR))\n"
   ]
  },
  {
   "cell_type": "code",
   "execution_count": 92,
   "metadata": {},
   "outputs": [],
   "source": [
    "z = test.drop(\"SOLD_OUT_FLG\", axis =1).copy()\n",
    "z[\"SOLD_OUT_FLG\"]  = y_predictionLR\n",
    "hahaha = z[[\"OBS_ID\",\"SOLD_OUT_FLG\"]]\n",
    "hahaha.to_csv(r\"D:\\google下载\\haha1.csv\", encoding='cp1252')"
   ]
  },
  {
   "cell_type": "code",
   "execution_count": 89,
   "metadata": {},
   "outputs": [
    {
     "name": "stderr",
     "output_type": "stream",
     "text": [
      "D:\\anaconda\\lib\\site-packages\\sklearn\\preprocessing\\label.py:95: DataConversionWarning: A column-vector y was passed when a 1d array was expected. Please change the shape of y to (n_samples, ), for example using ravel().\n",
      "  y = column_or_1d(y, warn=True)\n",
      "D:\\anaconda\\lib\\site-packages\\sklearn\\preprocessing\\label.py:128: DataConversionWarning: A column-vector y was passed when a 1d array was expected. Please change the shape of y to (n_samples, ), for example using ravel().\n",
      "  y = column_or_1d(y, warn=True)\n",
      "D:\\anaconda\\lib\\site-packages\\sklearn\\preprocessing\\label.py:151: DeprecationWarning: The truth value of an empty array is ambiguous. Returning False, but in future this will result in an error. Use `array.size > 0` to check that an array is not empty.\n",
      "  if diff:\n"
     ]
    },
    {
     "data": {
      "text/plain": [
       "0.7560120337319742"
      ]
     },
     "execution_count": 89,
     "metadata": {},
     "output_type": "execute_result"
    }
   ],
   "source": [
    "import xgboost as xgb\n",
    "\n",
    "model = xgb.XGBClassifier(nthread=4,     \n",
    "                          learning_rate=0.007,   \n",
    "                          n_estimators=2000,       \n",
    "                          max_depth=6,          \n",
    "                          gamma=4,              \n",
    "                          subsample=0.35,       \n",
    "                          colsample_bytree=0.85) \n",
    "model.fit(X, y)\n",
    "y_pred_test = model.predict(X_test)\n",
    "from sklearn.metrics import matthews_corrcoef\n",
    "matthews_corrcoef(y_test, y_pred_test) \n",
    "####but the result from this model get only 0.76410 in Kaggle < 0.78 here, so its a big problem"
   ]
  },
  {
   "cell_type": "code",
   "execution_count": 90,
   "metadata": {},
   "outputs": [
    {
     "name": "stdout",
     "output_type": "stream",
     "text": [
      "240.0\n"
     ]
    },
    {
     "name": "stderr",
     "output_type": "stream",
     "text": [
      "D:\\anaconda\\lib\\site-packages\\sklearn\\preprocessing\\label.py:151: DeprecationWarning: The truth value of an empty array is ambiguous. Returning False, but in future this will result in an error. Use `array.size > 0` to check that an array is not empty.\n",
      "  if diff:\n"
     ]
    }
   ],
   "source": [
    "y_predictionxgb =  model.predict(predict)\n",
    "print(sum(y_predictionxgb))\n"
   ]
  },
  {
   "cell_type": "code",
   "execution_count": 108,
   "metadata": {},
   "outputs": [],
   "source": [
    "z = test.drop(\"SOLD_OUT_FLG\", axis =1).copy()\n",
    "z[\"SOLD_OUT_FLG\"]  = y_predictionxgb\n",
    "hahaha = z[[\"OBS_ID\",\"SOLD_OUT_FLG\"]]\n",
    "hahaha.to_csv(r\"D:\\google下载\\haha1.csv\", encoding='cp1252')"
   ]
  },
  {
   "cell_type": "code",
   "execution_count": null,
   "metadata": {},
   "outputs": [],
   "source": []
  }
 ],
 "metadata": {
  "kernelspec": {
   "display_name": "Python 3",
   "language": "python",
   "name": "python3"
  },
  "language_info": {
   "codemirror_mode": {
    "name": "ipython",
    "version": 3
   },
   "file_extension": ".py",
   "mimetype": "text/x-python",
   "name": "python",
   "nbconvert_exporter": "python",
   "pygments_lexer": "ipython3",
   "version": "3.6.5"
  }
 },
 "nbformat": 4,
 "nbformat_minor": 2
}
